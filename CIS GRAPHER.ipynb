{
 "cells": [
  {
   "cell_type": "code",
   "execution_count": null,
   "metadata": {},
   "outputs": [],
   "source": [
    "\"\"\"\n",
    "WELCOME TO THE CIS GRAPHER\n",
    "\n",
    "\n",
    "\"\"\""
   ]
  },
  {
   "cell_type": "code",
   "execution_count": null,
   "metadata": {},
   "outputs": [],
   "source": [
    "import pandas as pd\n",
    "import matplotlib.pyplot as plt \n",
    "import plotly.express as px\n",
    "import plotly.graph_objects as go\n",
    "from plotly.graph_objs.layout import YAxis,XAxis"
   ]
  },
  {
   "cell_type": "code",
   "execution_count": null,
   "metadata": {},
   "outputs": [],
   "source": [
    "RAW_CISData = 'REPLACE WITH FILE NAME WITHIN CWD'"
   ]
  },
  {
   "cell_type": "code",
   "execution_count": null,
   "metadata": {},
   "outputs": [],
   "source": [
    "# REVIEW THE CIS DATA, THIS BLOCK OF CODE IS FROM THE SVY_to_CSV script\n",
    "with open(RAW_CISData) as f:\n",
    "    CIS_DATA = pd.DataFrame([line.strip().split() for line in f.readlines()])\n",
    "    headers = [f\"Col{i}\" for i in range(1, 36)]#Change this value as needed with Error value\n",
    "    CIS_DATA.rename(columns = {0:'Stationing', 1:'ON', 2:'OFF'}, inplace= True)# Rename Columns as needed\n",
    "    CIS_DATA.to_csv(RAW_CISData + \"PROCESSED_NeedsCleaned.csv\", index=False, header=headers)# CSV does not reflect the .head() below\n",
    "\n",
    "CIS_DATA['Comments'] = CIS_DATA[12].astype(str) + CIS_DATA[13].astype(str) + CIS_DATA[14].astype(str) + CIS_DATA[15].astype(str) +CIS_DATA[16].astype(str) + CIS_DATA[17].astype(str) + CIS_DATA[18].astype(str) + CIS_DATA[19].astype(str) + CIS_DATA[20].astype(str) + CIS_DATA[21].astype(str) + CIS_DATA[22].astype(str) + CIS_DATA[23].astype(str) + CIS_DATA[24].astype(str) + CIS_DATA[25].astype(str) + CIS_DATA[26].astype(str) + CIS_DATA[27].astype(str) + CIS_DATA[28].astype(str) + CIS_DATA[29].astype(str) + CIS_DATA[30].astype(str) + CIS_DATA[31].astype(str) + CIS_DATA[32].astype(str) + CIS_DATA[33].astype(str) + CIS_DATA[34].astype(str)\n",
    "CIS_DATA.drop(CIS_DATA.iloc[:, 12:35], inplace=True, axis=1)\n",
    "\n",
    "CIS_DATA.to_csv(RAW_CISData + 'Cleaned.csv')          \n",
    "CIS_DATA.head()\n"
   ]
  },
  {
   "cell_type": "code",
   "execution_count": null,
   "metadata": {},
   "outputs": [],
   "source": [
    "CIS_Graph = px.line(CIS_DATA, x='Stationing', y='OFF', title=\"CIS DATA\") # OFF Values, CHANGE THE TITLE TO WHAT YOU WANT\n",
    "CIS_Graph.add_scatter(x=CIS_DATA['Stationing'], y=CIS_DATA['ON']) # ON Values\n",
    "CIS_Graph.update_layout(autotypenumbers='convert types')\n",
    "CIS_Graph.update_yaxes(autorange=\"reversed\")\n",
    "CIS_Graph.add_shape(type='line', x0=0, y0=-.85, x1=24000, y1=-.85, line=dict(color='Purple'))# Change the value of x1 based off the length of the project \n",
    "CIS_Graph.update_layout(legend_title_text = 'P/S Data')\n",
    "CIS_Graph.show()"
   ]
  }
 ],
 "metadata": {
  "kernelspec": {
   "display_name": "Python 3.8.13 ('CIS')",
   "language": "python",
   "name": "python3"
  },
  "language_info": {
   "codemirror_mode": {
    "name": "ipython",
    "version": 3
   },
   "file_extension": ".py",
   "mimetype": "text/x-python",
   "name": "python",
   "nbconvert_exporter": "python",
   "pygments_lexer": "ipython3",
   "version": "3.8.13"
  },
  "orig_nbformat": 4,
  "vscode": {
   "interpreter": {
    "hash": "50eb6ea342335766cf37a996753f76646a6cda28cdee5cb4f49442b923132de8"
   }
  }
 },
 "nbformat": 4,
 "nbformat_minor": 2
}
