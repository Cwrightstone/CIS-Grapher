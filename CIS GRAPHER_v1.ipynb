{
 "cells": [
  {
   "cell_type": "code",
   "execution_count": 20,
   "metadata": {},
   "outputs": [
    {
     "data": {
      "text/plain": [
       "'\\nWELCOME TO THE CIS GRAPHER\\n\\n\\n'"
      ]
     },
     "execution_count": 20,
     "metadata": {},
     "output_type": "execute_result"
    }
   ],
   "source": [
    "\"\"\"\n",
    "WELCOME TO THE CIS GRAPHER\n",
    "\n",
    "\n",
    "\"\"\""
   ]
  },
  {
   "cell_type": "code",
   "execution_count": 21,
   "metadata": {},
   "outputs": [],
   "source": [
    "import pandas as pd\n",
    "import matplotlib.pyplot as plt \n",
    "import plotly.express as px\n",
    "import plotly.graph_objects as go\n",
    "from plotly.graph_objs.layout import YAxis,XAxis"
   ]
  },
  {
   "cell_type": "code",
   "execution_count": 22,
   "metadata": {},
   "outputs": [],
   "source": [
    "RAW_CISData = '20220519_001_ELK RIVER_EAST FROM STATION_SMW.svy'"
   ]
  },
  {
   "cell_type": "code",
   "execution_count": 35,
   "metadata": {},
   "outputs": [],
   "source": [
    "# REVIEW THE CIS DATA, THIS BLOCK OF CODE IS FROM THE SVY_to_CSV script\n",
    "with open(RAW_CISData) as f:\n",
    "    CIS_DATA = pd.DataFrame([line.strip().split() for line in f.readlines()])\n",
    "    headers = [f\"Col{i}\" for i in range(1, 25)]#Change this value as needed with Error value\n",
    "    CIS_DATA.rename(columns = {0:'Stationing', 1:'ON', 2:'OFF'}, inplace= True)# Rename Columns as needed\n",
    "    CIS_DATA.to_csv(RAW_CISData + \"PROCESSED_NeedsCleaned.csv\", index=False, header=headers)# CSV does not reflect the .head() below\n",
    "\n",
    "# CHANGE THE CODE BELOW TO FIT THE AMOUNT OF COLUMNS YOU HAVE\n",
    "CIS_DATA['Comments'] = CIS_DATA[12].astype(str)+ ' ' + CIS_DATA[13].astype(str)+ ' ' + CIS_DATA[14].astype(str)+ ' ' + CIS_DATA[15].astype(str)+ ' ' + CIS_DATA[16].astype(str)+ ' ' + CIS_DATA[17].astype(str)+ ' ' + CIS_DATA[18].astype(str)+ ' ' + CIS_DATA[19].astype(str)+ ' ' + CIS_DATA[20].astype(str)+ ' ' + CIS_DATA[21].astype(str)+ ' ' + CIS_DATA[22].astype(str)+ ' ' +  CIS_DATA[23].astype(str)#+ ' ' + CIS_DATA[24].astype(str)##CIS_DATA[25].astype(str)+ ' ' + CIS_DATA[26].astype(str)+ ' ' + CIS_DATA[27].astype(str)+ ' ' + CIS_DATA[28].astype(str)+ ' ' + CIS_DATA[29].astype(str)+ ' ' + CIS_DATA[30].astype(str)+ ' ' + CIS_DATA[31].astype(str)+ ' ' + CIS_DATA[32].astype(str)+ ' ' + CIS_DATA[33].astype(str)+ ' ' + CIS_DATA[34].astype(str)\n",
    "CIS_DATA.drop(CIS_DATA.iloc[:, 12:24], inplace=True, axis=1)\n",
    "\n",
    "\n",
    "# EXPORT TO THE NEW CSV WITH A COMMENT COLUMN ADDED  \n",
    "CIS_DATA.to_csv(RAW_CISData + 'Cleaned.csv')          "
   ]
  },
  {
   "cell_type": "code",
   "execution_count": 38,
   "metadata": {},
   "outputs": [
    {
     "data": {
      "text/html": [
       "<div>\n",
       "<style scoped>\n",
       "    .dataframe tbody tr th:only-of-type {\n",
       "        vertical-align: middle;\n",
       "    }\n",
       "\n",
       "    .dataframe tbody tr th {\n",
       "        vertical-align: top;\n",
       "    }\n",
       "\n",
       "    .dataframe thead th {\n",
       "        text-align: right;\n",
       "    }\n",
       "</style>\n",
       "<table border=\"1\" class=\"dataframe\">\n",
       "  <thead>\n",
       "    <tr style=\"text-align: right;\">\n",
       "      <th></th>\n",
       "      <th>Unnamed: 0</th>\n",
       "      <th>Stationing</th>\n",
       "      <th>ON</th>\n",
       "      <th>OFF</th>\n",
       "      <th>3</th>\n",
       "      <th>4</th>\n",
       "      <th>5</th>\n",
       "      <th>6</th>\n",
       "      <th>7</th>\n",
       "      <th>8</th>\n",
       "      <th>9</th>\n",
       "      <th>10</th>\n",
       "      <th>11</th>\n",
       "      <th>Comments</th>\n",
       "    </tr>\n",
       "  </thead>\n",
       "  <tbody>\n",
       "    <tr>\n",
       "      <th>0</th>\n",
       "      <td>0</td>\n",
       "      <td>0.000</td>\n",
       "      <td>-1.2960</td>\n",
       "      <td>-0.954</td>\n",
       "      <td>{GD</td>\n",
       "      <td>45.25971233,-93.37672533,</td>\n",
       "      <td>244.5,</td>\n",
       "      <td>1.65}</td>\n",
       "      <td>{T</td>\n",
       "      <td>05/19/2022,</td>\n",
       "      <td>12:12:47.853g}{T</td>\n",
       "      <td>05/19/2022,</td>\n",
       "      <td>12:12:50.866g}</td>\n",
       "      <td>START AT BLOCK VALVE , (ACV: 0.797V)</td>\n",
       "    </tr>\n",
       "    <tr>\n",
       "      <th>1</th>\n",
       "      <td>1</td>\n",
       "      <td>10.000</td>\n",
       "      <td>-1.3010</td>\n",
       "      <td>-0.957</td>\n",
       "      <td>{GD</td>\n",
       "      <td>45.2597115,-93.37668333,</td>\n",
       "      <td>243.7,</td>\n",
       "      <td>1.28}</td>\n",
       "      <td>{T</td>\n",
       "      <td>05/19/2022,</td>\n",
       "      <td>12:13:47.856g}{T</td>\n",
       "      <td>05/19/2022,</td>\n",
       "      <td>12:13:38.864g}</td>\n",
       "      <td></td>\n",
       "    </tr>\n",
       "    <tr>\n",
       "      <th>2</th>\n",
       "      <td>2</td>\n",
       "      <td>20.000</td>\n",
       "      <td>-1.3010</td>\n",
       "      <td>-0.945</td>\n",
       "      <td>{GD</td>\n",
       "      <td>45.25971233,-93.37667216,</td>\n",
       "      <td>244.3,</td>\n",
       "      <td>1.48}</td>\n",
       "      <td>{T</td>\n",
       "      <td>05/19/2022,</td>\n",
       "      <td>12:13:47.856g}{T</td>\n",
       "      <td>05/19/2022,</td>\n",
       "      <td>12:13:50.853g}</td>\n",
       "      <td></td>\n",
       "    </tr>\n",
       "    <tr>\n",
       "      <th>3</th>\n",
       "      <td>3</td>\n",
       "      <td>30.000</td>\n",
       "      <td>-1.3010</td>\n",
       "      <td>-0.945</td>\n",
       "      <td>{GD</td>\n",
       "      <td>45.2597115,-93.37663816,</td>\n",
       "      <td>244.9,</td>\n",
       "      <td>1.48}</td>\n",
       "      <td>{T</td>\n",
       "      <td>05/19/2022,</td>\n",
       "      <td>12:13:47.856g}{T</td>\n",
       "      <td>05/19/2022,</td>\n",
       "      <td>12:13:50.853g}</td>\n",
       "      <td></td>\n",
       "    </tr>\n",
       "    <tr>\n",
       "      <th>4</th>\n",
       "      <td>4</td>\n",
       "      <td>40.000</td>\n",
       "      <td>-1.3080</td>\n",
       "      <td>-0.969</td>\n",
       "      <td>{GD</td>\n",
       "      <td>45.25971383,-93.37658983,</td>\n",
       "      <td>246.3,</td>\n",
       "      <td>1.48}</td>\n",
       "      <td>{T</td>\n",
       "      <td>05/19/2022,</td>\n",
       "      <td>12:13:59.860g}{T</td>\n",
       "      <td>05/19/2022,</td>\n",
       "      <td>12:14:02.857g}</td>\n",
       "      <td></td>\n",
       "    </tr>\n",
       "  </tbody>\n",
       "</table>\n",
       "</div>"
      ],
      "text/plain": [
       "   Unnamed: 0 Stationing       ON    OFF    3                          4  \\\n",
       "0           0      0.000  -1.2960 -0.954  {GD  45.25971233,-93.37672533,   \n",
       "1           1     10.000  -1.3010 -0.957  {GD   45.2597115,-93.37668333,   \n",
       "2           2     20.000  -1.3010 -0.945  {GD  45.25971233,-93.37667216,   \n",
       "3           3     30.000  -1.3010 -0.945  {GD   45.2597115,-93.37663816,   \n",
       "4           4     40.000  -1.3080 -0.969  {GD  45.25971383,-93.37658983,   \n",
       "\n",
       "        5      6   7            8                 9           10  \\\n",
       "0  244.5,  1.65}  {T  05/19/2022,  12:12:47.853g}{T  05/19/2022,   \n",
       "1  243.7,  1.28}  {T  05/19/2022,  12:13:47.856g}{T  05/19/2022,   \n",
       "2  244.3,  1.48}  {T  05/19/2022,  12:13:47.856g}{T  05/19/2022,   \n",
       "3  244.9,  1.48}  {T  05/19/2022,  12:13:47.856g}{T  05/19/2022,   \n",
       "4  246.3,  1.48}  {T  05/19/2022,  12:13:59.860g}{T  05/19/2022,   \n",
       "\n",
       "               11                                        Comments  \n",
       "0  12:12:50.866g}  START AT BLOCK VALVE , (ACV: 0.797V)            \n",
       "1  12:13:38.864g}                                                  \n",
       "2  12:13:50.853g}                                                  \n",
       "3  12:13:50.853g}                                                  \n",
       "4  12:14:02.857g}                                                  "
      ]
     },
     "execution_count": 38,
     "metadata": {},
     "output_type": "execute_result"
    }
   ],
   "source": [
    "\"\"\"\n",
    "\n",
    "GO INTO THE LAST CSV CREATED, USE THE SEARCH AND REPLACE METHOD IN VSCODE AND GET RID OF ALL THE NONE VALUES WITH SPACES\n",
    "\n",
    "FEEL FREE TO DELETE THE OTHER CSVS \n",
    "\n",
    "\n",
    "\"\"\"\n",
    "\n",
    "FINAL_DF = pd.read_csv('20220519_001_ELK RIVER_EAST FROM STATION_SMW_FinalProduct.csv')\n",
    "FINAL_DF.head()"
   ]
  },
  {
   "cell_type": "code",
   "execution_count": 40,
   "metadata": {},
   "outputs": [
    {
     "data": {
      "application/vnd.plotly.v1+json": {
       "config": {
        "plotlyServerURL": "https://plot.ly"
       },
       "data": [
        {
         "customdata": [
          [
           "START AT BLOCK VALVE , (ACV: 0.797V)          "
          ],
          [
           "                       "
          ],
          [
           "                       "
          ],
          [
           "                       "
          ],
          [
           "                       "
          ],
          [
           "                       "
          ],
          [
           "FENCE                      "
          ],
          [
           "                       "
          ],
          [
           "                       "
          ],
          [
           "                       "
          ],
          [
           "                       "
          ],
          [
           "                       "
          ],
          [
           "                       "
          ],
          [
           "                       "
          ],
          [
           "                       "
          ],
          [
           "                       "
          ],
          [
           "                       "
          ],
          [
           "                       "
          ],
          [
           "                       "
          ],
          [
           "EDGE PAVEMENT                    "
          ],
          [
           "                       "
          ],
          [
           "                       "
          ],
          [
           "                       "
          ],
          [
           "                       "
          ],
          [
           "EDGE PAVEMENT PI LM                "
          ],
          [
           "                       "
          ],
          [
           "                       "
          ],
          [
           "                       "
          ],
          [
           "                       "
          ],
          [
           "                       "
          ],
          [
           "EDGE PAVED ROAD                  "
          ],
          [
           "                       "
          ],
          [
           "                       "
          ],
          [
           "                       "
          ],
          [
           "                       "
          ],
          [
           "                       "
          ],
          [
           "                       "
          ],
          [
           "                       "
          ],
          [
           "                       "
          ],
          [
           "                       "
          ],
          [
           "                       "
          ],
          [
           "                       "
          ],
          [
           "EDGE PAVED ROAD REC ROAD SPOOL            "
          ],
          [
           "                       "
          ],
          [
           "                       "
          ],
          [
           "                       "
          ],
          [
           "                       "
          ],
          [
           "LM                      "
          ],
          [
           "                       "
          ],
          [
           "                       "
          ],
          [
           "FENCE                      "
          ],
          [
           "                       "
          ],
          [
           "                       "
          ],
          [
           "                       "
          ],
          [
           "                       "
          ],
          [
           "                       "
          ],
          [
           "                       "
          ],
          [
           "                       "
          ],
          [
           "                       "
          ],
          [
           "                       "
          ],
          [
           "                       "
          ],
          [
           "                       "
          ],
          [
           "                       "
          ],
          [
           "                       "
          ],
          [
           "                       "
          ],
          [
           "                       "
          ],
          [
           "                       "
          ],
          [
           "                       "
          ],
          [
           "                       "
          ],
          [
           "                       "
          ],
          [
           "                       "
          ],
          [
           "                       "
          ],
          [
           "                       "
          ],
          [
           "                       "
          ],
          [
           "                       "
          ],
          [
           "                       "
          ],
          [
           "                       "
          ],
          [
           "                       "
          ],
          [
           "                       "
          ],
          [
           "                       "
          ],
          [
           "                       "
          ],
          [
           "                       "
          ],
          [
           "BEGIN SWAMP                    "
          ],
          [
           "                       "
          ],
          [
           "                       "
          ],
          [
           "                       "
          ],
          [
           "                       "
          ],
          [
           "                       "
          ],
          [
           "                       "
          ],
          [
           "                       "
          ],
          [
           "                       "
          ],
          [
           "                       "
          ],
          [
           "                       "
          ],
          [
           "                       "
          ],
          [
           "                       "
          ],
          [
           "                       "
          ],
          [
           "                       "
          ],
          [
           "                       "
          ],
          [
           "                       "
          ],
          [
           "                       "
          ],
          [
           "                       "
          ],
          [
           "                       "
          ],
          [
           "                       "
          ],
          [
           "EDGE SWAMP                    "
          ],
          [
           "                       "
          ],
          [
           "                       "
          ],
          [
           "                       "
          ],
          [
           "                       "
          ],
          [
           "                       "
          ],
          [
           "                       "
          ],
          [
           "                       "
          ],
          [
           "                       "
          ],
          [
           "                       "
          ],
          [
           "                       "
          ],
          [
           "                       "
          ],
          [
           "                       "
          ],
          [
           "                       "
          ],
          [
           "                       "
          ],
          [
           "                       "
          ],
          [
           "                       "
          ],
          [
           "                       "
          ],
          [
           "                       "
          ],
          [
           "                       "
          ],
          [
           "                       "
          ],
          [
           "                       "
          ],
          [
           "                       "
          ],
          [
           "                       "
          ],
          [
           "                       "
          ],
          [
           "                       "
          ],
          [
           "                       "
          ],
          [
           "EDGE GRAVEL ROAD                  "
          ],
          [
           "                       "
          ],
          [
           "EDGE GRAVEL ROAD                  "
          ],
          [
           "                       "
          ],
          [
           "                       "
          ],
          [
           "                       "
          ],
          [
           "                       "
          ],
          [
           "                       "
          ],
          [
           "LM                      "
          ],
          [
           "                       "
          ],
          [
           "                       "
          ],
          [
           "EDGE PAVED ROAD                  "
          ],
          [
           "                       "
          ],
          [
           "                       "
          ],
          [
           "                       "
          ],
          [
           "                       "
          ],
          [
           "                       "
          ],
          [
           "EDGE PAVED ROAD                  "
          ],
          [
           "                       "
          ],
          [
           "                       "
          ],
          [
           "                       "
          ],
          [
           "EDGE PAVED ROAD                  "
          ],
          [
           "                       "
          ],
          [
           "                       "
          ],
          [
           "                       "
          ],
          [
           "                       "
          ],
          [
           "EDGE PAVED ROAD                  "
          ],
          [
           "                       "
          ],
          [
           "                       "
          ],
          [
           "                       "
          ],
          [
           "LM                      "
          ],
          [
           "                       "
          ],
          [
           "                       "
          ],
          [
           "                       "
          ],
          [
           "TREE                      "
          ],
          [
           "                       "
          ],
          [
           "                       "
          ],
          [
           "                       "
          ],
          [
           "                       "
          ],
          [
           "                       "
          ],
          [
           "TREE                      "
          ],
          [
           "                       "
          ],
          [
           "                       "
          ],
          [
           "                       "
          ],
          [
           "                       "
          ],
          [
           "                       "
          ],
          [
           "                       "
          ],
          [
           "TREE                      "
          ],
          [
           "                       "
          ],
          [
           "TREE                      "
          ],
          [
           "                       "
          ],
          [
           "                       "
          ],
          [
           "                       "
          ],
          [
           "                       "
          ],
          [
           "                       "
          ],
          [
           "                       "
          ],
          [
           "                       "
          ],
          [
           "START WOODS                    "
          ],
          [
           "                       "
          ],
          [
           "                       "
          ],
          [
           "                       "
          ],
          [
           "                       "
          ],
          [
           "                       "
          ],
          [
           "                       "
          ],
          [
           "                       "
          ],
          [
           "                       "
          ],
          [
           "                       "
          ],
          [
           "                       "
          ],
          [
           "                       "
          ],
          [
           "                       "
          ],
          [
           "                       "
          ],
          [
           "                       "
          ],
          [
           "                       "
          ],
          [
           "OFFSET TREE                    "
          ],
          [
           "                       "
          ],
          [
           "                       "
          ],
          [
           "                       "
          ],
          [
           "                       "
          ],
          [
           "                       "
          ],
          [
           "                       "
          ],
          [
           "                       "
          ],
          [
           "                       "
          ],
          [
           "                       "
          ],
          [
           "                       "
          ],
          [
           "                       "
          ],
          [
           "                       "
          ],
          [
           "                       "
          ],
          [
           "                       "
          ],
          [
           "                       "
          ],
          [
           "END BRUSHY WOODS                  "
          ],
          [
           "                       "
          ],
          [
           "                       "
          ],
          [
           "                       "
          ],
          [
           "                       "
          ],
          [
           "                       "
          ],
          [
           "                       "
          ],
          [
           "                       "
          ],
          [
           "                       "
          ],
          [
           "                       "
          ],
          [
           "                       "
          ],
          [
           "                       "
          ],
          [
           "START DRIVEWAY                    "
          ],
          [
           "                       "
          ],
          [
           "                       "
          ],
          [
           "END DRIVEWAY SURVEYED IN CRACKS              "
          ],
          [
           "                       "
          ],
          [
           "                       "
          ],
          [
           "                       "
          ],
          [
           "                       "
          ],
          [
           "                       "
          ],
          [
           "                       "
          ],
          [
           "                       "
          ],
          [
           "                       "
          ],
          [
           "                       "
          ],
          [
           "                       "
          ],
          [
           "                       "
          ],
          [
           "                       "
          ],
          [
           "                       "
          ],
          [
           "EDGE PAVED DRIVEWAY                  "
          ],
          [
           "                       "
          ],
          [
           "EDGE PAVED DRIVEWAY OFFSET TREE              "
          ],
          [
           "                       "
          ],
          [
           "                       "
          ],
          [
           "                       "
          ],
          [
           "                       "
          ],
          [
           "                       "
          ],
          [
           "                       "
          ],
          [
           "                       "
          ],
          [
           "                       "
          ],
          [
           "                       "
          ],
          [
           "                       "
          ],
          [
           "                       "
          ],
          [
           "                       "
          ],
          [
           "                       "
          ],
          [
           "                       "
          ],
          [
           "                       "
          ],
          [
           "                       "
          ],
          [
           "                       "
          ],
          [
           "                       "
          ],
          [
           "                       "
          ],
          [
           "                       "
          ],
          [
           "                       "
          ],
          [
           "START BRUSH                    "
          ],
          [
           "                       "
          ],
          [
           "                       "
          ],
          [
           "                       "
          ],
          [
           "                       "
          ],
          [
           "OFFSET BRUSH                    "
          ],
          [
           "                       "
          ],
          [
           "                       "
          ],
          [
           "LM                      "
          ],
          [
           "GRAVEL DRIVEWAY                    "
          ],
          [
           "                       "
          ],
          [
           "                       "
          ],
          [
           "END GRAVEL DRIVEWAY                  "
          ],
          [
           "                       "
          ],
          [
           "                       "
          ],
          [
           "                       "
          ],
          [
           "                       "
          ],
          [
           "                       "
          ],
          [
           "START DRIVEWAY                    "
          ],
          [
           "                       "
          ],
          [
           "END DRIVEWAY                    "
          ],
          [
           "                       "
          ],
          [
           "BUSH LINE                    "
          ],
          [
           "                       "
          ],
          [
           "                       "
          ],
          [
           "                       "
          ],
          [
           "                       "
          ],
          [
           "START DRIVEWAY                    "
          ],
          [
           "                       "
          ],
          [
           "                       "
          ],
          [
           "END DRIVEWAY                    "
          ],
          [
           "                       "
          ],
          [
           "                       "
          ],
          [
           "                       "
          ],
          [
           "                       "
          ],
          [
           "                       "
          ],
          [
           "                       "
          ],
          [
           "                       "
          ],
          [
           "                       "
          ],
          [
           "                       "
          ],
          [
           "                       "
          ],
          [
           "                       "
          ],
          [
           "                       "
          ],
          [
           "START DRIVEWAY                    "
          ],
          [
           "                       "
          ],
          [
           "                       "
          ],
          [
           "END DRIVEWAY                    "
          ],
          [
           "                       "
          ],
          [
           "                       "
          ],
          [
           "                       "
          ],
          [
           "PAVED ROAD START                  "
          ],
          [
           "                       "
          ],
          [
           "                       "
          ],
          [
           "                       "
          ],
          [
           "EDGE PAVED ROAD                  "
          ],
          [
           "LM                      "
          ],
          [
           "                       "
          ],
          [
           "                       "
          ],
          [
           "                       "
          ],
          [
           "                       "
          ],
          [
           "                       "
          ],
          [
           "                       "
          ],
          [
           "                       "
          ],
          [
           "FIREPIT                      "
          ],
          [
           "                       "
          ],
          [
           "                       "
          ],
          [
           "END FIREPIT                    "
          ],
          [
           "                       "
          ],
          [
           "                       "
          ],
          [
           "                       "
          ],
          [
           "                       "
          ],
          [
           "                       "
          ],
          [
           "                       "
          ],
          [
           "BUSH LINE                    "
          ],
          [
           "                       "
          ],
          [
           "                       "
          ],
          [
           "                       "
          ],
          [
           "                       "
          ],
          [
           "                       "
          ],
          [
           "                       "
          ],
          [
           "                       "
          ],
          [
           "                       "
          ],
          [
           "                       "
          ],
          [
           "                       "
          ],
          [
           "                       "
          ],
          [
           "                       "
          ],
          [
           "                       "
          ],
          [
           "                       "
          ],
          [
           "                       "
          ],
          [
           "                       "
          ],
          [
           "                       "
          ],
          [
           "                       "
          ],
          [
           "                       "
          ],
          [
           "                       "
          ],
          [
           "BOULDERS AND TREES                  "
          ],
          [
           "                       "
          ],
          [
           "                       "
          ],
          [
           "                       "
          ],
          [
           "                       "
          ],
          [
           "                       "
          ],
          [
           "                       "
          ],
          [
           "                       "
          ],
          [
           "                       "
          ],
          [
           "                       "
          ],
          [
           "                       "
          ],
          [
           "                       "
          ],
          [
           "                       "
          ],
          [
           "                       "
          ],
          [
           "                       "
          ],
          [
           "                       "
          ],
          [
           "                       "
          ],
          [
           "                       "
          ],
          [
           "                       "
          ],
          [
           "                       "
          ],
          [
           "                       "
          ],
          [
           "                       "
          ],
          [
           "                       "
          ],
          [
           "                       "
          ],
          [
           "                       "
          ],
          [
           "                       "
          ],
          [
           "                       "
          ],
          [
           "                       "
          ],
          [
           "                       "
          ],
          [
           "                       "
          ],
          [
           "                       "
          ],
          [
           "                       "
          ],
          [
           "                       "
          ],
          [
           "                       "
          ],
          [
           "BRUSH                      "
          ],
          [
           "                       "
          ],
          [
           "                       "
          ],
          [
           "                       "
          ],
          [
           "LM                      "
          ],
          [
           "                       "
          ],
          [
           "EDGE PAVED ROAD                  "
          ],
          [
           "                       "
          ],
          [
           "                       "
          ],
          [
           "                       "
          ],
          [
           "                       "
          ],
          [
           "                       "
          ],
          [
           "EDGE PAVEMENT                    "
          ],
          [
           "                       "
          ],
          [
           "LM                      "
          ],
          [
           "                       "
          ],
          [
           "                       "
          ],
          [
           "                       "
          ],
          [
           "                       "
          ],
          [
           "                       "
          ],
          [
           "                       "
          ],
          [
           "                       "
          ],
          [
           "                       "
          ],
          [
           "                       "
          ],
          [
           "                       "
          ],
          [
           "                       "
          ],
          [
           "                       "
          ],
          [
           "                       "
          ],
          [
           "                       "
          ],
          [
           "WIRE BREAK                    "
          ],
          [
           "                       "
          ],
          [
           "                       "
          ],
          [
           "                       "
          ],
          [
           "                       "
          ],
          [
           "                       "
          ],
          [
           "                       "
          ],
          [
           "                       "
          ],
          [
           "                       "
          ],
          [
           "                       "
          ],
          [
           "                       "
          ],
          [
           "                       "
          ],
          [
           "                       "
          ],
          [
           "                       "
          ],
          [
           "                       "
          ],
          [
           "                       "
          ],
          [
           "                       "
          ],
          [
           "                       "
          ],
          [
           "                       "
          ],
          [
           "                       "
          ],
          [
           "                       "
          ],
          [
           "                       "
          ],
          [
           "                       "
          ],
          [
           "                       "
          ],
          [
           "                       "
          ],
          [
           "LM                      "
          ],
          [
           "                       "
          ],
          [
           "FENCE                      "
          ],
          [
           "                       "
          ],
          [
           "                       "
          ],
          [
           "                       "
          ],
          [
           "                       "
          ],
          [
           "                       "
          ],
          [
           "                       "
          ],
          [
           "                       "
          ],
          [
           "                       "
          ],
          [
           "                       "
          ],
          [
           "                       "
          ],
          [
           "                       "
          ],
          [
           "                       "
          ],
          [
           "                       "
          ],
          [
           "                       "
          ],
          [
           "                       "
          ],
          [
           "                       "
          ],
          [
           "                       "
          ],
          [
           "                       "
          ],
          [
           "                       "
          ],
          [
           "                       "
          ],
          [
           "                       "
          ],
          [
           "                       "
          ],
          [
           "                       "
          ],
          [
           "                       "
          ],
          [
           "                       "
          ],
          [
           "TREE                      "
          ],
          [
           "                       "
          ],
          [
           "                       "
          ],
          [
           "                       "
          ],
          [
           "                       "
          ],
          [
           "                       "
          ],
          [
           "                       "
          ],
          [
           "                       "
          ],
          [
           "                       "
          ],
          [
           "                       "
          ],
          [
           "                       "
          ],
          [
           "                       "
          ],
          [
           "LM                      "
          ],
          [
           "PAVED ROAD                    "
          ],
          [
           "                       "
          ],
          [
           "                       "
          ],
          [
           "                       "
          ],
          [
           "END PAVED ROAD                  "
          ],
          [
           "                       "
          ],
          [
           "LM                      "
          ],
          [
           "                       "
          ],
          [
           "                       "
          ],
          [
           "                       "
          ],
          [
           "                       "
          ],
          [
           "                       "
          ],
          [
           "                       "
          ],
          [
           "                       "
          ],
          [
           "                       "
          ],
          [
           "                       "
          ],
          [
           "                       "
          ],
          [
           "                       "
          ],
          [
           "                       "
          ],
          [
           "                       "
          ],
          [
           "                       "
          ],
          [
           "CLOTHESLINE POLE                    "
          ],
          [
           "                       "
          ],
          [
           "                       "
          ],
          [
           "                       "
          ],
          [
           "                       "
          ],
          [
           "                       "
          ],
          [
           "                       "
          ],
          [
           "                       "
          ],
          [
           "                       "
          ],
          [
           "                       "
          ],
          [
           "                       "
          ],
          [
           "                       "
          ],
          [
           "GARDEN                      "
          ],
          [
           "                       "
          ],
          [
           "                       "
          ],
          [
           "                       "
          ],
          [
           "                       "
          ],
          [
           "END GARDEN                    "
          ],
          [
           "                       "
          ],
          [
           "                       "
          ],
          [
           "                       "
          ],
          [
           "                       "
          ],
          [
           "                       "
          ],
          [
           "                       "
          ],
          [
           "                       "
          ],
          [
           "                       "
          ],
          [
           "                       "
          ],
          [
           "                       "
          ],
          [
           "                       "
          ],
          [
           "                       "
          ],
          [
           "                       "
          ],
          [
           "                       "
          ],
          [
           "                       "
          ],
          [
           "                       "
          ],
          [
           "                       "
          ],
          [
           "                       "
          ],
          [
           "                       "
          ],
          [
           "                       "
          ],
          [
           "                       "
          ],
          [
           "                       "
          ],
          [
           "GRAVEL DRIVEWAY                    "
          ],
          [
           "                       "
          ],
          [
           "                       "
          ],
          [
           "                       "
          ],
          [
           "                       "
          ],
          [
           "                       "
          ],
          [
           "                       "
          ],
          [
           "                       "
          ],
          [
           "                       "
          ],
          [
           "GRASS                      "
          ],
          [
           "                       "
          ],
          [
           "                       "
          ],
          [
           "START PAVED ROAD                  "
          ],
          [
           "                       "
          ],
          [
           "                       "
          ],
          [
           "                       "
          ],
          [
           "EDGE PAVED ROAD                  "
          ],
          [
           "                       "
          ],
          [
           "                       "
          ],
          [
           "TS MP 24.03 , (TPR:FG -1.379V/-0.997V, MIR 0.010V/0.003V, NG -1.353V/-0.964V), (ACV: 1.808V)"
          ],
          [
           "                       "
          ]
         ],
         "hovertemplate": "Stationing=%{x}<br>OFF=%{y}<br>Comments=%{customdata[0]}<extra></extra>",
         "legendgroup": "",
         "line": {
          "color": "#636efa",
          "dash": "solid"
         },
         "marker": {
          "symbol": "circle"
         },
         "mode": "lines",
         "name": "",
         "orientation": "v",
         "showlegend": false,
         "type": "scatter",
         "x": [
          "0.000",
          "10.000",
          "20.000",
          "30.000",
          "40.000",
          "50.000",
          "60.000",
          "70.000",
          "80.000",
          "90.000",
          "100.000",
          "110.000",
          "120.000",
          "130.000",
          "140.000",
          "150.000",
          "160.000",
          "170.000",
          "180.000",
          "190.000",
          "200.000",
          "210.000",
          "220.000",
          "230.000",
          "240.000",
          "250.000",
          "260.000",
          "270.000",
          "280.000",
          "290.000",
          "300.000",
          "310.000",
          "320.000",
          "330.000",
          "340.000",
          "350.000",
          "360.000",
          "370.000",
          "380.000",
          "390.000",
          "400.000",
          "410.000",
          "420.000",
          "430.000",
          "440.000",
          "450.000",
          "460.000",
          "470.000",
          "480.000",
          "490.000",
          "500.000",
          "510.000",
          "520.000",
          "530.000",
          "540.000",
          "550.000",
          "560.000",
          "570.000",
          "580.000",
          "590.000",
          "600.000",
          "610.000",
          "620.000",
          "630.000",
          "640.000",
          "650.000",
          "660.000",
          "670.000",
          "680.000",
          "690.000",
          "700.000",
          "710.000",
          "720.000",
          "730.000",
          "740.000",
          "750.000",
          "760.000",
          "770.000",
          "780.000",
          "790.000",
          "800.000",
          "810.000",
          "820.000",
          "830.000",
          "840.000",
          "850.000",
          "860.000",
          "870.000",
          "880.000",
          "890.000",
          "900.000",
          "910.000",
          "920.000",
          "930.000",
          "940.000",
          "950.000",
          "960.000",
          "970.000",
          "980.000",
          "990.000",
          "1000.000",
          "1010.000",
          "1020.000",
          "1030.000",
          "1040.000",
          "1050.000",
          "1060.000",
          "1070.000",
          "1080.000",
          "1090.000",
          "1100.000",
          "1110.000",
          "1120.000",
          "1130.000",
          "1140.000",
          "1150.000",
          "1160.000",
          "1170.000",
          "1180.000",
          "1190.000",
          "1200.000",
          "1210.000",
          "1220.000",
          "1230.000",
          "1240.000",
          "1250.000",
          "1260.000",
          "1270.000",
          "1280.000",
          "1290.000",
          "1300.000",
          "1310.000",
          "1320.000",
          "1330.000",
          "1340.000",
          "1350.000",
          "1360.000",
          "1370.000",
          "1380.000",
          "1390.000",
          "1400.000",
          "1410.000",
          "1420.000",
          "1430.000",
          "1440.000",
          "1450.000",
          "1460.000",
          "1470.000",
          "1480.000",
          "1490.000",
          "1500.000",
          "1510.000",
          "1520.000",
          "1530.000",
          "1540.000",
          "1550.000",
          "1560.000",
          "1570.000",
          "1580.000",
          "1590.000",
          "1600.000",
          "1610.000",
          "1620.000",
          "1630.000",
          "1640.000",
          "1650.000",
          "1660.000",
          "1670.000",
          "1680.000",
          "1690.000",
          "1700.000",
          "1710.000",
          "1720.000",
          "1730.000",
          "1740.000",
          "1750.000",
          "1760.000",
          "1770.000",
          "1780.000",
          "1790.000",
          "1800.000",
          "1810.000",
          "1820.000",
          "1830.000",
          "1840.000",
          "1850.000",
          "1860.000",
          "1870.000",
          "1880.000",
          "1890.000",
          "1900.000",
          "1910.000",
          "1920.000",
          "1930.000",
          "1940.000",
          "1950.000",
          "1960.000",
          "1970.000",
          "1980.000",
          "1990.000",
          "2000.000",
          "2010.000",
          "2020.000",
          "2030.000",
          "2040.000",
          "2050.000",
          "2060.000",
          "2070.000",
          "2080.000",
          "2090.000",
          "2100.000",
          "2110.000",
          "2120.000",
          "2130.000",
          "2140.000",
          "2150.000",
          "2160.000",
          "2170.000",
          "2180.000",
          "2190.000",
          "2200.000",
          "2210.000",
          "2220.000",
          "2230.000",
          "2240.000",
          "2250.000",
          "2260.000",
          "2270.000",
          "2280.000",
          "2290.000",
          "2300.000",
          "2310.000",
          "2320.000",
          "2330.000",
          "2340.000",
          "2350.000",
          "2360.000",
          "2370.000",
          "2380.000",
          "2390.000",
          "2400.000",
          "2410.000",
          "2420.000",
          "2430.000",
          "2440.000",
          "2450.000",
          "2460.000",
          "2470.000",
          "2480.000",
          "2490.000",
          "2500.000",
          "2510.000",
          "2520.000",
          "2530.000",
          "2540.000",
          "2550.000",
          "2560.000",
          "2570.000",
          "2580.000",
          "2590.000",
          "2600.000",
          "2610.000",
          "2620.000",
          "2630.000",
          "2640.000",
          "2650.000",
          "2660.000",
          "2670.000",
          "2680.000",
          "2690.000",
          "2700.000",
          "2710.000",
          "2720.000",
          "2730.000",
          "2740.000",
          "2750.000",
          "2760.000",
          "2770.000",
          "2780.000",
          "2790.000",
          "2800.000",
          "2810.000",
          "2820.000",
          "2830.000",
          "2840.000",
          "2850.000",
          "2860.000",
          "2870.000",
          "2880.000",
          "2890.000",
          "2900.000",
          "2910.000",
          "2920.000",
          "2930.000",
          "2940.000",
          "2950.000",
          "2960.000",
          "2970.000",
          "2980.000",
          "2990.000",
          "3000.000",
          "3010.000",
          "3020.000",
          "3030.000",
          "3040.000",
          "3050.000",
          "3060.000",
          "3070.000",
          "3080.000",
          "3090.000",
          "3100.000",
          "3110.000",
          "3120.000",
          "3130.000",
          "3140.000",
          "3150.000",
          "3160.000",
          "3170.000",
          "3180.000",
          "3190.000",
          "3200.000",
          "3210.000",
          "3220.000",
          "3230.000",
          "3240.000",
          "3250.000",
          "3260.000",
          "3270.000",
          "3280.000",
          "3290.000",
          "3300.000",
          "3310.000",
          "3320.000",
          "3330.000",
          "3340.000",
          "3350.000",
          "3360.000",
          "3370.000",
          "3380.000",
          "3390.000",
          "3400.000",
          "3410.000",
          "3420.000",
          "3430.000",
          "3440.000",
          "3450.000",
          "3460.000",
          "3470.000",
          "3480.000",
          "3490.000",
          "3500.000",
          "3510.000",
          "3520.000",
          "3530.000",
          "3540.000",
          "3550.000",
          "3560.000",
          "3570.000",
          "3580.000",
          "3590.000",
          "3600.000",
          "3610.000",
          "3620.000",
          "3630.000",
          "3640.000",
          "3650.000",
          "3660.000",
          "3670.000",
          "3680.000",
          "3690.000",
          "3700.000",
          "3710.000",
          "3720.000",
          "3730.000",
          "3740.000",
          "3750.000",
          "3760.000",
          "3770.000",
          "3780.000",
          "3790.000",
          "3800.000",
          "3810.000",
          "3820.000",
          "3830.000",
          "3840.000",
          "3850.000",
          "3860.000",
          "3870.000",
          "3880.000",
          "3890.000",
          "3900.000",
          "3910.000",
          "3920.000",
          "3930.000",
          "3940.000",
          "3950.000",
          "3960.000",
          "3970.000",
          "3980.000",
          "3990.000",
          "4000.000",
          "4010.000",
          "4020.000",
          "4030.000",
          "4040.000",
          "4050.000",
          "4060.000",
          "4070.000",
          "4080.000",
          "4090.000",
          "4100.000",
          "4110.000",
          "4120.000",
          "4130.000",
          "4140.000",
          "4150.000",
          "4160.000",
          "4170.000",
          "4180.000",
          "4190.000",
          "4200.000",
          "4210.000",
          "4220.000",
          "4230.000",
          "4240.000",
          "4250.000",
          "4260.000",
          "4270.000",
          "4280.000",
          "4290.000",
          "4300.000",
          "4310.000",
          "4320.000",
          "4330.000",
          "4340.000",
          "4350.000",
          "4360.000",
          "4370.000",
          "4380.000",
          "4390.000",
          "4400.000",
          "4410.000",
          "4420.000",
          "4430.000",
          "4440.000",
          "4450.000",
          "4460.000",
          "4470.000",
          "4480.000",
          "4490.000",
          "4500.000",
          "4510.000",
          "4520.000",
          "4530.000",
          "4540.000",
          "4550.000",
          "4560.000",
          "4570.000",
          "4580.000",
          "4590.000",
          "4600.000",
          "4610.000",
          "4620.000",
          "4630.000",
          "4640.000",
          "4650.000",
          "4660.000",
          "4670.000",
          "4680.000",
          "4690.000",
          "4700.000",
          "4710.000",
          "4720.000",
          "4730.000",
          "4740.000",
          "4750.000",
          "4760.000",
          "4770.000",
          "4780.000",
          "4790.000",
          "4800.000",
          "4810.000",
          "4820.000",
          "4830.000",
          "4840.000",
          "4850.000",
          "4860.000",
          "4870.000",
          "4880.000",
          "4890.000",
          "4900.000",
          "4910.000",
          "4920.000",
          "4930.000",
          "4940.000",
          "4950.000",
          "4960.000",
          "4970.000",
          "4980.000",
          "4990.000",
          "5000.000",
          "5010.000",
          "5020.000",
          "5030.000",
          "5040.000",
          "5050.000",
          "5060.000",
          "5070.000",
          "5080.000",
          "5090.000",
          "5100.000",
          "5110.000",
          "5120.000",
          "5130.000",
          "5140.000",
          "5150.000",
          "5160.000",
          "5170.000",
          "5180.000",
          "5190.000",
          "5200.000",
          "5210.000",
          "5220.000",
          "5230.000",
          "5240.000",
          "5250.000",
          "5260.000",
          "5270.000",
          "5280.000",
          "5290.000",
          "5300.000",
          "5310.000",
          "5320.000",
          "5330.000",
          "5340.000",
          "5350.000",
          "5360.000",
          "5370.000",
          "5380.000",
          "5390.000",
          "5400.000",
          "5410.000",
          "5420.000",
          "5430.000",
          "5440.000",
          "5450.000",
          "5460.000",
          "5470.000",
          "5480.000",
          "5490.000",
          "5500.000",
          "5510.000",
          "5520.000",
          "5530.000",
          "5540.000",
          "5550.000",
          "5560.000",
          "5570.000",
          "5580.000",
          "5590.000",
          "5600.000",
          "5610.000",
          "5620.000",
          "5630.000",
          "5640.000",
          "5650.000",
          "5660.000",
          "5670.000",
          "5680.000",
          "5690.000",
          "5700.000",
          "5710.000",
          "5720.000",
          "5730.000",
          "5740.000",
          "5750.000",
          "End"
         ],
         "xaxis": "x",
         "y": [
          -0.954,
          -0.957,
          -0.945,
          -0.945,
          -0.969,
          -0.969,
          -0.958,
          -0.969,
          -0.96,
          -0.96,
          -0.96,
          -0.99,
          -0.99,
          -0.989,
          -0.998,
          -0.998,
          -0.978,
          -0.978,
          -0.971,
          -0.971,
          -0.971,
          -7.431,
          -7.431,
          -7.431,
          -0.974,
          -0.968,
          -0.963,
          -0.963,
          -0.965,
          -0.965,
          -0.996,
          -0.227,
          -0.227,
          -0.227,
          -0.227,
          -0.227,
          0.742,
          0.742,
          0.742,
          0.742,
          0.742,
          0.742,
          -0.998,
          -0.998,
          -0.985,
          -0.985,
          -0.985,
          -0.974,
          -0.978,
          -0.977,
          -0.977,
          -0.961,
          -0.961,
          -0.947,
          -0.947,
          -0.928,
          -0.928,
          -0.928,
          -0.93,
          -0.93,
          -0.933,
          -0.955,
          -0.959,
          -0.959,
          -0.956,
          -0.956,
          -0.972,
          -0.972,
          -0.974,
          -0.974,
          -0.977,
          -0.977,
          -0.977,
          -0.985,
          -0.985,
          -0.978,
          -0.982,
          -0.983,
          -0.991,
          -0.991,
          -0.997,
          -0.995,
          -0.995,
          -0.992,
          -0.995,
          -0.991,
          -0.991,
          -1,
          -0.995,
          -0.991,
          -0.991,
          -0.981,
          -0.981,
          -0.982,
          -0.982,
          -0.971,
          -0.971,
          -1,
          -1,
          -0.975,
          -0.975,
          -0.978,
          -1.004,
          -0.99,
          -0.99,
          -0.983,
          -0.966,
          -0.973,
          -0.973,
          -0.968,
          -0.964,
          -0.964,
          -0.955,
          -0.949,
          -0.949,
          -0.968,
          -0.979,
          -0.979,
          -0.959,
          -0.959,
          -0.96,
          -0.96,
          -0.963,
          -0.984,
          -0.984,
          -0.981,
          -0.981,
          -0.977,
          -0.976,
          -0.976,
          -0.983,
          -0.983,
          -0.973,
          -0.973,
          -0.972,
          -0.972,
          -0.979,
          -0.979,
          -0.977,
          -0.988,
          -0.988,
          -1.021,
          -1.021,
          0.318,
          0.318,
          0.318,
          -1.11,
          -0.994,
          -0.99,
          -0.99,
          -0.967,
          -0.996,
          -0.98,
          -0.154,
          -0.154,
          -0.154,
          -0.98,
          -0.978,
          -0.978,
          -0.97,
          -0.97,
          -1.012,
          -1.012,
          -0.984,
          -0.98,
          -0.98,
          -0.98,
          -0.979,
          -0.979,
          -0.949,
          -0.945,
          -0.945,
          -0.942,
          -0.942,
          -0.952,
          -0.952,
          -0.973,
          -0.976,
          -0.976,
          -0.937,
          -0.933,
          -0.933,
          -0.945,
          -0.994,
          -0.994,
          -1.01,
          -0.993,
          -0.969,
          -0.969,
          -1.022,
          -0.973,
          -0.973,
          -0.93,
          -0.96,
          -0.96,
          -0.988,
          -0.992,
          -0.992,
          -0.974,
          -0.975,
          -0.985,
          -0.985,
          -0.975,
          -0.998,
          -0.998,
          -1.006,
          -1.006,
          -1.029,
          -1.012,
          -1.012,
          -0.978,
          -0.978,
          -0.972,
          -0.963,
          -0.963,
          -0.999,
          -0.999,
          -0.944,
          -0.992,
          -0.999,
          -0.989,
          -1.005,
          -0.978,
          -0.978,
          -1.015,
          -1.017,
          -0.99,
          -0.998,
          -0.989,
          -0.968,
          -0.964,
          -0.964,
          -0.971,
          -0.971,
          -0.959,
          -0.959,
          -0.964,
          -0.964,
          -0.997,
          -0.997,
          -0.963,
          -0.95,
          -0.95,
          -0.979,
          -0.979,
          -0.992,
          -0.992,
          -1.007,
          -0.993,
          0.381,
          -0.968,
          -0.957,
          -0.945,
          -0.955,
          -0.995,
          -0.968,
          -0.956,
          -0.956,
          -0.956,
          -0.963,
          -0.963,
          -0.936,
          -0.936,
          -0.951,
          -0.951,
          -0.937,
          -0.937,
          -0.957,
          -0.957,
          -0.943,
          -0.943,
          -0.921,
          -0.921,
          -0.946,
          -0.976,
          -0.976,
          -0.968,
          -0.973,
          -0.967,
          -0.967,
          -0.97,
          -0.968,
          -0.978,
          -0.978,
          -0.978,
          -0.965,
          -0.965,
          -0.96,
          -0.96,
          -0.961,
          -0.961,
          -0.967,
          -0.966,
          -0.971,
          -0.941,
          -0.941,
          -0.953,
          -0.953,
          -0.973,
          -0.973,
          -0.951,
          0.174,
          -0.965,
          -0.965,
          -0.97,
          -0.97,
          -0.97,
          -0.96,
          -0.939,
          -0.939,
          -0.94,
          -0.94,
          -0.932,
          -0.936,
          -0.936,
          -0.94,
          -0.94,
          -1.877,
          -0.957,
          -0.957,
          -0.968,
          -1.013,
          -1.024,
          0.458,
          0.458,
          0.458,
          -1,
          -1,
          -0.977,
          -0.978,
          -0.978,
          -0.945,
          -0.952,
          -0.952,
          -0.94,
          -0.94,
          -0.995,
          -0.995,
          -0.962,
          -0.962,
          -0.962,
          -0.953,
          -0.953,
          -0.976,
          -0.976,
          -0.964,
          -0.956,
          -0.94,
          -0.94,
          -0.94,
          -0.964,
          -0.952,
          -0.952,
          -0.96,
          -0.96,
          -0.956,
          -0.956,
          -0.942,
          -0.942,
          -0.954,
          -0.954,
          -0.952,
          -0.952,
          -0.964,
          -0.964,
          -0.969,
          -0.956,
          -0.965,
          -0.965,
          -0.944,
          -0.944,
          -0.936,
          -0.936,
          -0.948,
          -0.985,
          -0.962,
          -0.962,
          -0.972,
          -0.972,
          -0.963,
          -0.942,
          -0.942,
          -0.931,
          -0.931,
          -0.933,
          -0.933,
          -0.944,
          -0.944,
          -0.952,
          -0.952,
          -0.964,
          -0.964,
          -0.967,
          -0.967,
          -0.967,
          -0.967,
          -0.954,
          -0.954,
          -0.961,
          -0.961,
          -0.967,
          -0.967,
          -0.993,
          -0.996,
          -0.996,
          -0.999,
          -0.999,
          1.122,
          1.122,
          0.409,
          0.409,
          0.409,
          -0.962,
          -0.962,
          -0.976,
          -0.976,
          -0.978,
          -0.978,
          -0.965,
          -0.965,
          -0.938,
          -0.938,
          -0.905,
          -0.905,
          -0.942,
          -0.942,
          -0.932,
          -0.932,
          -0.932,
          -0.954,
          -0.946,
          -0.946,
          -0.944,
          -0.944,
          -0.956,
          -0.951,
          -0.951,
          -0.972,
          -0.972,
          -0.973,
          -0.973,
          -0.989,
          -0.972,
          -0.972,
          -0.985,
          -0.985,
          -0.979,
          -0.979,
          -0.969,
          -0.969,
          -0.973,
          -0.973,
          -0.988,
          -0.988,
          -1,
          -0.999,
          -0.995,
          -0.995,
          -0.997,
          -0.997,
          -0.969,
          -0.969,
          -0.956,
          -0.956,
          -0.976,
          -0.976,
          -0.944,
          -0.944,
          -0.98,
          -0.98,
          -0.972,
          -0.972,
          -0.977,
          -0.977,
          -0.94,
          -0.94,
          -0.963,
          -0.963,
          -1.008,
          -1.008,
          -1.009,
          -1.034,
          -1.034,
          -0.988,
          -0.967,
          -0.967,
          -0.967,
          -0.943,
          -0.977,
          -0.977,
          -0.949,
          -0.949,
          -0.961,
          -0.961,
          -1.013,
          -1.026,
          0.087,
          0.087,
          0.087,
          -1.011,
          -1.018,
          -1.018,
          -1.023,
          -1.023,
          -0.934,
          -0.934,
          -0.969,
          -0.969,
          -0.923,
          -0.969,
          -0.969,
          -0.963,
          -0.963,
          -0.951,
          -0.946,
          -0.946,
          -0.937,
          -0.937,
          -0.923,
          -0.923,
          -0.943,
          -0.943,
          -0.943,
          -0.958,
          -0.958,
          -0.902,
          -0.902,
          -0.948,
          -0.948,
          -0.972,
          -0.972,
          -0.98,
          -0.98,
          -0.98,
          -0.967,
          -0.967,
          -0.935,
          -0.935,
          -0.941,
          -0.941,
          -0.963,
          -0.953,
          -0.953,
          -0.929,
          -0.929,
          -0.984,
          -1.028,
          -1.028,
          -0.992,
          -0.958,
          -0.958,
          -0.909,
          -0.909,
          -1.013,
          -1.013,
          -1.024,
          -1.048,
          -1.048,
          -1.02,
          -0.959,
          -1.061,
          -1.061,
          -1.059,
          -1.012,
          -1.012,
          -1.004,
          -1.004,
          -1.015,
          -1.015,
          0.268,
          0.268,
          0.268,
          -1.027,
          -0.94,
          -0.94,
          -0.966,
          null
         ],
         "yaxis": "y"
        },
        {
         "name": "ON",
         "type": "scatter",
         "x": [
          "0.000",
          "10.000",
          "20.000",
          "30.000",
          "40.000",
          "50.000",
          "60.000",
          "70.000",
          "80.000",
          "90.000",
          "100.000",
          "110.000",
          "120.000",
          "130.000",
          "140.000",
          "150.000",
          "160.000",
          "170.000",
          "180.000",
          "190.000",
          "200.000",
          "210.000",
          "220.000",
          "230.000",
          "240.000",
          "250.000",
          "260.000",
          "270.000",
          "280.000",
          "290.000",
          "300.000",
          "310.000",
          "320.000",
          "330.000",
          "340.000",
          "350.000",
          "360.000",
          "370.000",
          "380.000",
          "390.000",
          "400.000",
          "410.000",
          "420.000",
          "430.000",
          "440.000",
          "450.000",
          "460.000",
          "470.000",
          "480.000",
          "490.000",
          "500.000",
          "510.000",
          "520.000",
          "530.000",
          "540.000",
          "550.000",
          "560.000",
          "570.000",
          "580.000",
          "590.000",
          "600.000",
          "610.000",
          "620.000",
          "630.000",
          "640.000",
          "650.000",
          "660.000",
          "670.000",
          "680.000",
          "690.000",
          "700.000",
          "710.000",
          "720.000",
          "730.000",
          "740.000",
          "750.000",
          "760.000",
          "770.000",
          "780.000",
          "790.000",
          "800.000",
          "810.000",
          "820.000",
          "830.000",
          "840.000",
          "850.000",
          "860.000",
          "870.000",
          "880.000",
          "890.000",
          "900.000",
          "910.000",
          "920.000",
          "930.000",
          "940.000",
          "950.000",
          "960.000",
          "970.000",
          "980.000",
          "990.000",
          "1000.000",
          "1010.000",
          "1020.000",
          "1030.000",
          "1040.000",
          "1050.000",
          "1060.000",
          "1070.000",
          "1080.000",
          "1090.000",
          "1100.000",
          "1110.000",
          "1120.000",
          "1130.000",
          "1140.000",
          "1150.000",
          "1160.000",
          "1170.000",
          "1180.000",
          "1190.000",
          "1200.000",
          "1210.000",
          "1220.000",
          "1230.000",
          "1240.000",
          "1250.000",
          "1260.000",
          "1270.000",
          "1280.000",
          "1290.000",
          "1300.000",
          "1310.000",
          "1320.000",
          "1330.000",
          "1340.000",
          "1350.000",
          "1360.000",
          "1370.000",
          "1380.000",
          "1390.000",
          "1400.000",
          "1410.000",
          "1420.000",
          "1430.000",
          "1440.000",
          "1450.000",
          "1460.000",
          "1470.000",
          "1480.000",
          "1490.000",
          "1500.000",
          "1510.000",
          "1520.000",
          "1530.000",
          "1540.000",
          "1550.000",
          "1560.000",
          "1570.000",
          "1580.000",
          "1590.000",
          "1600.000",
          "1610.000",
          "1620.000",
          "1630.000",
          "1640.000",
          "1650.000",
          "1660.000",
          "1670.000",
          "1680.000",
          "1690.000",
          "1700.000",
          "1710.000",
          "1720.000",
          "1730.000",
          "1740.000",
          "1750.000",
          "1760.000",
          "1770.000",
          "1780.000",
          "1790.000",
          "1800.000",
          "1810.000",
          "1820.000",
          "1830.000",
          "1840.000",
          "1850.000",
          "1860.000",
          "1870.000",
          "1880.000",
          "1890.000",
          "1900.000",
          "1910.000",
          "1920.000",
          "1930.000",
          "1940.000",
          "1950.000",
          "1960.000",
          "1970.000",
          "1980.000",
          "1990.000",
          "2000.000",
          "2010.000",
          "2020.000",
          "2030.000",
          "2040.000",
          "2050.000",
          "2060.000",
          "2070.000",
          "2080.000",
          "2090.000",
          "2100.000",
          "2110.000",
          "2120.000",
          "2130.000",
          "2140.000",
          "2150.000",
          "2160.000",
          "2170.000",
          "2180.000",
          "2190.000",
          "2200.000",
          "2210.000",
          "2220.000",
          "2230.000",
          "2240.000",
          "2250.000",
          "2260.000",
          "2270.000",
          "2280.000",
          "2290.000",
          "2300.000",
          "2310.000",
          "2320.000",
          "2330.000",
          "2340.000",
          "2350.000",
          "2360.000",
          "2370.000",
          "2380.000",
          "2390.000",
          "2400.000",
          "2410.000",
          "2420.000",
          "2430.000",
          "2440.000",
          "2450.000",
          "2460.000",
          "2470.000",
          "2480.000",
          "2490.000",
          "2500.000",
          "2510.000",
          "2520.000",
          "2530.000",
          "2540.000",
          "2550.000",
          "2560.000",
          "2570.000",
          "2580.000",
          "2590.000",
          "2600.000",
          "2610.000",
          "2620.000",
          "2630.000",
          "2640.000",
          "2650.000",
          "2660.000",
          "2670.000",
          "2680.000",
          "2690.000",
          "2700.000",
          "2710.000",
          "2720.000",
          "2730.000",
          "2740.000",
          "2750.000",
          "2760.000",
          "2770.000",
          "2780.000",
          "2790.000",
          "2800.000",
          "2810.000",
          "2820.000",
          "2830.000",
          "2840.000",
          "2850.000",
          "2860.000",
          "2870.000",
          "2880.000",
          "2890.000",
          "2900.000",
          "2910.000",
          "2920.000",
          "2930.000",
          "2940.000",
          "2950.000",
          "2960.000",
          "2970.000",
          "2980.000",
          "2990.000",
          "3000.000",
          "3010.000",
          "3020.000",
          "3030.000",
          "3040.000",
          "3050.000",
          "3060.000",
          "3070.000",
          "3080.000",
          "3090.000",
          "3100.000",
          "3110.000",
          "3120.000",
          "3130.000",
          "3140.000",
          "3150.000",
          "3160.000",
          "3170.000",
          "3180.000",
          "3190.000",
          "3200.000",
          "3210.000",
          "3220.000",
          "3230.000",
          "3240.000",
          "3250.000",
          "3260.000",
          "3270.000",
          "3280.000",
          "3290.000",
          "3300.000",
          "3310.000",
          "3320.000",
          "3330.000",
          "3340.000",
          "3350.000",
          "3360.000",
          "3370.000",
          "3380.000",
          "3390.000",
          "3400.000",
          "3410.000",
          "3420.000",
          "3430.000",
          "3440.000",
          "3450.000",
          "3460.000",
          "3470.000",
          "3480.000",
          "3490.000",
          "3500.000",
          "3510.000",
          "3520.000",
          "3530.000",
          "3540.000",
          "3550.000",
          "3560.000",
          "3570.000",
          "3580.000",
          "3590.000",
          "3600.000",
          "3610.000",
          "3620.000",
          "3630.000",
          "3640.000",
          "3650.000",
          "3660.000",
          "3670.000",
          "3680.000",
          "3690.000",
          "3700.000",
          "3710.000",
          "3720.000",
          "3730.000",
          "3740.000",
          "3750.000",
          "3760.000",
          "3770.000",
          "3780.000",
          "3790.000",
          "3800.000",
          "3810.000",
          "3820.000",
          "3830.000",
          "3840.000",
          "3850.000",
          "3860.000",
          "3870.000",
          "3880.000",
          "3890.000",
          "3900.000",
          "3910.000",
          "3920.000",
          "3930.000",
          "3940.000",
          "3950.000",
          "3960.000",
          "3970.000",
          "3980.000",
          "3990.000",
          "4000.000",
          "4010.000",
          "4020.000",
          "4030.000",
          "4040.000",
          "4050.000",
          "4060.000",
          "4070.000",
          "4080.000",
          "4090.000",
          "4100.000",
          "4110.000",
          "4120.000",
          "4130.000",
          "4140.000",
          "4150.000",
          "4160.000",
          "4170.000",
          "4180.000",
          "4190.000",
          "4200.000",
          "4210.000",
          "4220.000",
          "4230.000",
          "4240.000",
          "4250.000",
          "4260.000",
          "4270.000",
          "4280.000",
          "4290.000",
          "4300.000",
          "4310.000",
          "4320.000",
          "4330.000",
          "4340.000",
          "4350.000",
          "4360.000",
          "4370.000",
          "4380.000",
          "4390.000",
          "4400.000",
          "4410.000",
          "4420.000",
          "4430.000",
          "4440.000",
          "4450.000",
          "4460.000",
          "4470.000",
          "4480.000",
          "4490.000",
          "4500.000",
          "4510.000",
          "4520.000",
          "4530.000",
          "4540.000",
          "4550.000",
          "4560.000",
          "4570.000",
          "4580.000",
          "4590.000",
          "4600.000",
          "4610.000",
          "4620.000",
          "4630.000",
          "4640.000",
          "4650.000",
          "4660.000",
          "4670.000",
          "4680.000",
          "4690.000",
          "4700.000",
          "4710.000",
          "4720.000",
          "4730.000",
          "4740.000",
          "4750.000",
          "4760.000",
          "4770.000",
          "4780.000",
          "4790.000",
          "4800.000",
          "4810.000",
          "4820.000",
          "4830.000",
          "4840.000",
          "4850.000",
          "4860.000",
          "4870.000",
          "4880.000",
          "4890.000",
          "4900.000",
          "4910.000",
          "4920.000",
          "4930.000",
          "4940.000",
          "4950.000",
          "4960.000",
          "4970.000",
          "4980.000",
          "4990.000",
          "5000.000",
          "5010.000",
          "5020.000",
          "5030.000",
          "5040.000",
          "5050.000",
          "5060.000",
          "5070.000",
          "5080.000",
          "5090.000",
          "5100.000",
          "5110.000",
          "5120.000",
          "5130.000",
          "5140.000",
          "5150.000",
          "5160.000",
          "5170.000",
          "5180.000",
          "5190.000",
          "5200.000",
          "5210.000",
          "5220.000",
          "5230.000",
          "5240.000",
          "5250.000",
          "5260.000",
          "5270.000",
          "5280.000",
          "5290.000",
          "5300.000",
          "5310.000",
          "5320.000",
          "5330.000",
          "5340.000",
          "5350.000",
          "5360.000",
          "5370.000",
          "5380.000",
          "5390.000",
          "5400.000",
          "5410.000",
          "5420.000",
          "5430.000",
          "5440.000",
          "5450.000",
          "5460.000",
          "5470.000",
          "5480.000",
          "5490.000",
          "5500.000",
          "5510.000",
          "5520.000",
          "5530.000",
          "5540.000",
          "5550.000",
          "5560.000",
          "5570.000",
          "5580.000",
          "5590.000",
          "5600.000",
          "5610.000",
          "5620.000",
          "5630.000",
          "5640.000",
          "5650.000",
          "5660.000",
          "5670.000",
          "5680.000",
          "5690.000",
          "5700.000",
          "5710.000",
          "5720.000",
          "5730.000",
          "5740.000",
          "5750.000",
          "End"
         ],
         "y": [
          "-1.2960",
          "-1.3010",
          "-1.3010",
          "-1.3010",
          "-1.3080",
          "-1.3120",
          "-1.3120",
          "-1.3190",
          "-1.2690",
          "-1.2690",
          "-1.3320",
          "-1.3320",
          "-1.3320",
          "-1.3550",
          "-1.3550",
          "-1.3550",
          "-1.3440",
          "-1.3520",
          "-1.3520",
          "-1.3520",
          "0.1520",
          "0.1520",
          "0.1520",
          "0.1520",
          "-1.3410",
          "-1.3340",
          "-1.3370",
          "-1.3240",
          "-1.3240",
          "-1.3240",
          "-1.3270",
          "0.0350",
          "0.0350",
          "0.0350",
          "0.0350",
          "0.1320",
          "0.1320",
          "0.1320",
          "0.1320",
          "0.1320",
          "0.1320",
          "0.9100",
          "-1.3460",
          "-1.3460",
          "-1.3470",
          "-1.3470",
          "-1.3320",
          "-1.3320",
          "-1.3530",
          "-1.3310",
          "-1.3390",
          "-1.3290",
          "-1.3290",
          "-1.3180",
          "-1.3180",
          "-1.3040",
          "-1.3040",
          "-1.3220",
          "-1.3220",
          "-1.3090",
          "-1.3090",
          "-1.3180",
          "-1.3270",
          "-1.3350",
          "-1.3350",
          "-1.3540",
          "-1.3540",
          "-1.3540",
          "-1.3630",
          "-1.3630",
          "-1.3710",
          "-1.3710",
          "-1.3710",
          "-1.3710",
          "-1.3710",
          "-1.3640",
          "-1.3490",
          "-1.3610",
          "-1.3790",
          "-1.3830",
          "-1.3630",
          "-1.3630",
          "-1.3690",
          "-1.3860",
          "-1.3860",
          "-1.3730",
          "-1.3700",
          "-1.3770",
          "-1.3750",
          "-1.3750",
          "-1.3320",
          "-1.3320",
          "-1.3490",
          "-1.3490",
          "-1.3450",
          "-1.3450",
          "-1.3930",
          "-1.3750",
          "-1.3570",
          "-1.3570",
          "-1.3440",
          "-1.3440",
          "-1.3670",
          "-1.3670",
          "-1.3670",
          "-1.3520",
          "-1.3390",
          "-1.3560",
          "-1.3390",
          "-1.3390",
          "-1.3480",
          "-1.3230",
          "-1.3230",
          "-1.3140",
          "-1.3380",
          "-1.3380",
          "-1.3440",
          "-1.3440",
          "-1.3560",
          "-1.3490",
          "-1.3490",
          "-1.3350",
          "-1.3350",
          "-1.3540",
          "-1.3630",
          "-1.3630",
          "-1.3700",
          "-1.3700",
          "-1.3650",
          "-1.3650",
          "-1.3630",
          "-1.3650",
          "-1.3680",
          "-1.3680",
          "-1.3630",
          "-1.3540",
          "-1.3540",
          "-1.3550",
          "-1.3550",
          "-1.3730",
          "-1.3430",
          "-1.3780",
          "-0.1370",
          "-0.1370",
          "-0.1370",
          "0.7290",
          "0.7290",
          "-1.3530",
          "-1.3670",
          "-1.3340",
          "-1.3340",
          "-1.3440",
          "-0.1130",
          "-0.1130",
          "-0.1130",
          "-0.1130",
          "-1.3170",
          "-1.3050",
          "-1.3050",
          "-1.3420",
          "-1.3420",
          "-1.3810",
          "-1.3810",
          "-1.3750",
          "-1.3620",
          "-1.3620",
          "-1.3490",
          "-1.3490",
          "-1.3470",
          "-1.3470",
          "-1.3290",
          "-1.3290",
          "-1.3090",
          "-1.3390",
          "-1.3390",
          "-1.3410",
          "-1.3410",
          "-1.3590",
          "-1.3590",
          "-1.2620",
          "-1.3000",
          "-1.3000",
          "-1.3100",
          "-1.3460",
          "-1.3730",
          "-1.3730",
          "-1.3740",
          "-1.3630",
          "-1.3630",
          "-1.3840",
          "-1.3600",
          "-1.3020",
          "-1.3020",
          "-1.3570",
          "-1.3570",
          "-1.3630",
          "-1.3630",
          "-1.3540",
          "-1.4060",
          "-1.3300",
          "-1.3590",
          "-1.3600",
          "-1.4030",
          "-1.3770",
          "-1.3800",
          "-1.3770",
          "-1.3770",
          "-1.4130",
          "-1.3660",
          "-1.3660",
          "-1.3580",
          "-1.3580",
          "-1.3380",
          "-1.3410",
          "-1.3410",
          "-1.3640",
          "-1.3710",
          "-1.3710",
          "-1.3550",
          "-1.3810",
          "-1.4010",
          "-1.4040",
          "-1.3910",
          "-1.3760",
          "-1.3900",
          "-1.3900",
          "-1.3840",
          "-1.3850",
          "-1.3510",
          "-1.3330",
          "-1.3330",
          "-1.3570",
          "-1.3570",
          "-1.3570",
          "-1.3710",
          "-1.3710",
          "-1.3380",
          "-1.3380",
          "-1.3810",
          "-1.3810",
          "-1.3430",
          "-1.3490",
          "-1.3490",
          "-1.3350",
          "-1.3720",
          "-1.3720",
          "-1.3630",
          "-1.3630",
          "-1.3650",
          "-1.3730",
          "-1.3550",
          "-1.3950",
          "-1.3430",
          "-1.3750",
          "-1.3870",
          "-1.3430",
          "-1.3430",
          "-1.3430",
          "-1.3410",
          "-1.3410",
          "-1.3210",
          "-1.3210",
          "-1.3210",
          "-1.3240",
          "-1.3240",
          "-1.3260",
          "-1.3260",
          "-1.3360",
          "-1.3360",
          "-1.3230",
          "-1.3230",
          "-1.3120",
          "-1.3120",
          "-1.3140",
          "-1.3620",
          "-1.3460",
          "-1.3490",
          "-1.3460",
          "-1.3460",
          "-1.3460",
          "-1.3440",
          "-1.3440",
          "-1.3560",
          "-1.3580",
          "-1.3580",
          "-1.3630",
          "-1.3630",
          "-1.3450",
          "-1.3450",
          "-1.3310",
          "-1.3490",
          "0.0450",
          "-1.3530",
          "-1.3530",
          "-1.3200",
          "-1.3290",
          "-1.3310",
          "-1.3510",
          "-1.3510",
          "-1.3300",
          "-0.1930",
          "-0.1930",
          "-1.3510",
          "-1.3510",
          "-1.3670",
          "-1.3670",
          "-1.3470",
          "-1.3470",
          "-1.3310",
          "-1.3310",
          "-1.3210",
          "-1.3050",
          "-1.3050",
          "-1.3100",
          "-1.3100",
          "-1.3250",
          "-0.2430",
          "-0.2430",
          "-1.3270",
          "-1.3310",
          "-1.3310",
          "-1.3240",
          "-1.3230",
          "-0.0580",
          "-0.0580",
          "-0.0580",
          "-1.3250",
          "-1.3310",
          "-1.3160",
          "-1.3360",
          "-1.3270",
          "-1.3320",
          "-1.3270",
          "-1.3270",
          "-1.3110",
          "-1.3010",
          "-1.3010",
          "-1.3010",
          "-1.2910",
          "-1.2910",
          "-1.3000",
          "-1.3000",
          "-1.3370",
          "-1.3370",
          "-1.3440",
          "-1.3440",
          "-1.3280",
          "-1.3130",
          "-1.3130",
          "-1.3320",
          "-1.3320",
          "-1.3310",
          "-1.3310",
          "-1.3310",
          "-1.3220",
          "-1.3220",
          "-1.3110",
          "-1.3110",
          "-1.3140",
          "-1.3140",
          "-1.3400",
          "-1.3400",
          "-1.3430",
          "-1.3430",
          "-1.3330",
          "-1.3330",
          "-1.3390",
          "-1.3420",
          "-1.3420",
          "-1.3220",
          "-1.3170",
          "-1.3170",
          "-1.3300",
          "-1.3300",
          "-1.3610",
          "-1.3430",
          "-1.3320",
          "-1.3320",
          "-1.3490",
          "-1.3490",
          "-1.3230",
          "-1.3230",
          "-1.3050",
          "-1.3050",
          "-1.2950",
          "-1.2950",
          "-1.3210",
          "-1.3210",
          "-1.3330",
          "-1.3330",
          "-1.3410",
          "-1.3370",
          "-1.3370",
          "-1.3390",
          "-1.3390",
          "-1.3390",
          "-1.3390",
          "-1.3380",
          "-1.3380",
          "-1.3310",
          "-1.3200",
          "-1.3200",
          "-1.3270",
          "-1.3290",
          "-1.3240",
          "-1.2960",
          "-1.2690",
          "-0.0460",
          "-0.1840",
          "-0.1840",
          "-0.1840",
          "0.3650",
          "-1.3200",
          "-1.3200",
          "-1.3420",
          "-1.3420",
          "-1.3430",
          "-1.3430",
          "-1.3480",
          "-1.3480",
          "-1.3190",
          "-1.3190",
          "-1.2870",
          "-1.2870",
          "-1.3070",
          "-1.3070",
          "-1.3210",
          "-1.3210",
          "-1.2930",
          "-1.3350",
          "-1.3350",
          "-1.3350",
          "-1.3160",
          "-1.3280",
          "-1.3280",
          "-1.3370",
          "-1.3370",
          "-1.3480",
          "-1.3690",
          "-1.3690",
          "-1.3600",
          "-1.3600",
          "-1.3680",
          "-1.3680",
          "-1.3690",
          "-1.3690",
          "-1.3530",
          "-1.3520",
          "-1.3520",
          "-1.3490",
          "-1.3490",
          "-1.3550",
          "-1.3550",
          "-1.3960",
          "-1.3960",
          "-1.4050",
          "-1.3720",
          "-1.3660",
          "-1.3640",
          "-1.3670",
          "-1.3670",
          "-1.3350",
          "-1.3350",
          "-1.3500",
          "-1.3500",
          "-1.3400",
          "-1.3400",
          "-1.3680",
          "-1.3680",
          "-1.3680",
          "-1.3680",
          "-1.3750",
          "-1.3750",
          "-1.3410",
          "-1.3410",
          "-1.3320",
          "-1.3320",
          "-1.3830",
          "-1.3830",
          "-1.3990",
          "-1.3690",
          "-1.3660",
          "-1.3660",
          "-1.3840",
          "-1.3390",
          "-1.3390",
          "-1.3310",
          "-1.3310",
          "-1.3620",
          "-1.3620",
          "-1.3540",
          "-1.3540",
          "-1.2880",
          "-1.2880",
          "-1.3530",
          "-1.3790",
          "-1.3950",
          "-1.3950",
          "-1.3950",
          "-1.3730",
          "-1.3730",
          "-1.3860",
          "-1.3860",
          "-1.3570",
          "-1.3570",
          "-1.3250",
          "-1.3250",
          "-1.3110",
          "-1.3110",
          "-1.3220",
          "-1.3220",
          "-1.3630",
          "-1.3340",
          "-1.3340",
          "-1.3500",
          "-1.3500",
          "-1.2950",
          "-1.2480",
          "-1.3000",
          "-1.3000",
          "-1.3120",
          "-1.3120",
          "-1.3470",
          "-1.3470",
          "-1.2960",
          "-1.2960",
          "-1.2960",
          "-1.3260",
          "-1.3510",
          "-1.3510",
          "-1.3510",
          "-1.3830",
          "-1.3830",
          "-1.4060",
          "-1.3580",
          "-1.3300",
          "-1.3300",
          "-1.3340",
          "-1.3340",
          "-1.3290",
          "-1.3290",
          "-1.3410",
          "-1.3190",
          "-1.3190",
          "-1.3840",
          "-1.3840",
          "-1.4020",
          "-1.3680",
          "-1.3680",
          "-1.3610",
          "-1.3610",
          "-1.3160",
          "-1.3160",
          "-1.3740",
          "-1.4290",
          "-1.4290",
          "-1.4280",
          "-1.4280",
          "-1.3880",
          "-1.4220",
          "-1.4220",
          "-1.4450",
          "-1.4000",
          "-1.4000",
          "-1.3580",
          "-1.3580",
          "-1.3580",
          "-1.3940",
          "-1.3920",
          "-1.3920",
          "-1.3920",
          "-1.3920",
          "-1.3520",
          "-1.3520",
          "-1.3520",
          "-1.3340",
          "survey"
         ]
        }
       ],
       "layout": {
        "autotypenumbers": "convert types",
        "legend": {
         "title": {
          "text": "P/S Data"
         },
         "tracegroupgap": 0
        },
        "shapes": [
         {
          "line": {
           "color": "Purple"
          },
          "type": "line",
          "x0": 0,
          "x1": 6000,
          "y0": -0.85,
          "y1": -0.85
         }
        ],
        "template": {
         "data": {
          "bar": [
           {
            "error_x": {
             "color": "#2a3f5f"
            },
            "error_y": {
             "color": "#2a3f5f"
            },
            "marker": {
             "line": {
              "color": "#E5ECF6",
              "width": 0.5
             },
             "pattern": {
              "fillmode": "overlay",
              "size": 10,
              "solidity": 0.2
             }
            },
            "type": "bar"
           }
          ],
          "barpolar": [
           {
            "marker": {
             "line": {
              "color": "#E5ECF6",
              "width": 0.5
             },
             "pattern": {
              "fillmode": "overlay",
              "size": 10,
              "solidity": 0.2
             }
            },
            "type": "barpolar"
           }
          ],
          "carpet": [
           {
            "aaxis": {
             "endlinecolor": "#2a3f5f",
             "gridcolor": "white",
             "linecolor": "white",
             "minorgridcolor": "white",
             "startlinecolor": "#2a3f5f"
            },
            "baxis": {
             "endlinecolor": "#2a3f5f",
             "gridcolor": "white",
             "linecolor": "white",
             "minorgridcolor": "white",
             "startlinecolor": "#2a3f5f"
            },
            "type": "carpet"
           }
          ],
          "choropleth": [
           {
            "colorbar": {
             "outlinewidth": 0,
             "ticks": ""
            },
            "type": "choropleth"
           }
          ],
          "contour": [
           {
            "colorbar": {
             "outlinewidth": 0,
             "ticks": ""
            },
            "colorscale": [
             [
              0,
              "#0d0887"
             ],
             [
              0.1111111111111111,
              "#46039f"
             ],
             [
              0.2222222222222222,
              "#7201a8"
             ],
             [
              0.3333333333333333,
              "#9c179e"
             ],
             [
              0.4444444444444444,
              "#bd3786"
             ],
             [
              0.5555555555555556,
              "#d8576b"
             ],
             [
              0.6666666666666666,
              "#ed7953"
             ],
             [
              0.7777777777777778,
              "#fb9f3a"
             ],
             [
              0.8888888888888888,
              "#fdca26"
             ],
             [
              1,
              "#f0f921"
             ]
            ],
            "type": "contour"
           }
          ],
          "contourcarpet": [
           {
            "colorbar": {
             "outlinewidth": 0,
             "ticks": ""
            },
            "type": "contourcarpet"
           }
          ],
          "heatmap": [
           {
            "colorbar": {
             "outlinewidth": 0,
             "ticks": ""
            },
            "colorscale": [
             [
              0,
              "#0d0887"
             ],
             [
              0.1111111111111111,
              "#46039f"
             ],
             [
              0.2222222222222222,
              "#7201a8"
             ],
             [
              0.3333333333333333,
              "#9c179e"
             ],
             [
              0.4444444444444444,
              "#bd3786"
             ],
             [
              0.5555555555555556,
              "#d8576b"
             ],
             [
              0.6666666666666666,
              "#ed7953"
             ],
             [
              0.7777777777777778,
              "#fb9f3a"
             ],
             [
              0.8888888888888888,
              "#fdca26"
             ],
             [
              1,
              "#f0f921"
             ]
            ],
            "type": "heatmap"
           }
          ],
          "heatmapgl": [
           {
            "colorbar": {
             "outlinewidth": 0,
             "ticks": ""
            },
            "colorscale": [
             [
              0,
              "#0d0887"
             ],
             [
              0.1111111111111111,
              "#46039f"
             ],
             [
              0.2222222222222222,
              "#7201a8"
             ],
             [
              0.3333333333333333,
              "#9c179e"
             ],
             [
              0.4444444444444444,
              "#bd3786"
             ],
             [
              0.5555555555555556,
              "#d8576b"
             ],
             [
              0.6666666666666666,
              "#ed7953"
             ],
             [
              0.7777777777777778,
              "#fb9f3a"
             ],
             [
              0.8888888888888888,
              "#fdca26"
             ],
             [
              1,
              "#f0f921"
             ]
            ],
            "type": "heatmapgl"
           }
          ],
          "histogram": [
           {
            "marker": {
             "pattern": {
              "fillmode": "overlay",
              "size": 10,
              "solidity": 0.2
             }
            },
            "type": "histogram"
           }
          ],
          "histogram2d": [
           {
            "colorbar": {
             "outlinewidth": 0,
             "ticks": ""
            },
            "colorscale": [
             [
              0,
              "#0d0887"
             ],
             [
              0.1111111111111111,
              "#46039f"
             ],
             [
              0.2222222222222222,
              "#7201a8"
             ],
             [
              0.3333333333333333,
              "#9c179e"
             ],
             [
              0.4444444444444444,
              "#bd3786"
             ],
             [
              0.5555555555555556,
              "#d8576b"
             ],
             [
              0.6666666666666666,
              "#ed7953"
             ],
             [
              0.7777777777777778,
              "#fb9f3a"
             ],
             [
              0.8888888888888888,
              "#fdca26"
             ],
             [
              1,
              "#f0f921"
             ]
            ],
            "type": "histogram2d"
           }
          ],
          "histogram2dcontour": [
           {
            "colorbar": {
             "outlinewidth": 0,
             "ticks": ""
            },
            "colorscale": [
             [
              0,
              "#0d0887"
             ],
             [
              0.1111111111111111,
              "#46039f"
             ],
             [
              0.2222222222222222,
              "#7201a8"
             ],
             [
              0.3333333333333333,
              "#9c179e"
             ],
             [
              0.4444444444444444,
              "#bd3786"
             ],
             [
              0.5555555555555556,
              "#d8576b"
             ],
             [
              0.6666666666666666,
              "#ed7953"
             ],
             [
              0.7777777777777778,
              "#fb9f3a"
             ],
             [
              0.8888888888888888,
              "#fdca26"
             ],
             [
              1,
              "#f0f921"
             ]
            ],
            "type": "histogram2dcontour"
           }
          ],
          "mesh3d": [
           {
            "colorbar": {
             "outlinewidth": 0,
             "ticks": ""
            },
            "type": "mesh3d"
           }
          ],
          "parcoords": [
           {
            "line": {
             "colorbar": {
              "outlinewidth": 0,
              "ticks": ""
             }
            },
            "type": "parcoords"
           }
          ],
          "pie": [
           {
            "automargin": true,
            "type": "pie"
           }
          ],
          "scatter": [
           {
            "fillpattern": {
             "fillmode": "overlay",
             "size": 10,
             "solidity": 0.2
            },
            "type": "scatter"
           }
          ],
          "scatter3d": [
           {
            "line": {
             "colorbar": {
              "outlinewidth": 0,
              "ticks": ""
             }
            },
            "marker": {
             "colorbar": {
              "outlinewidth": 0,
              "ticks": ""
             }
            },
            "type": "scatter3d"
           }
          ],
          "scattercarpet": [
           {
            "marker": {
             "colorbar": {
              "outlinewidth": 0,
              "ticks": ""
             }
            },
            "type": "scattercarpet"
           }
          ],
          "scattergeo": [
           {
            "marker": {
             "colorbar": {
              "outlinewidth": 0,
              "ticks": ""
             }
            },
            "type": "scattergeo"
           }
          ],
          "scattergl": [
           {
            "marker": {
             "colorbar": {
              "outlinewidth": 0,
              "ticks": ""
             }
            },
            "type": "scattergl"
           }
          ],
          "scattermapbox": [
           {
            "marker": {
             "colorbar": {
              "outlinewidth": 0,
              "ticks": ""
             }
            },
            "type": "scattermapbox"
           }
          ],
          "scatterpolar": [
           {
            "marker": {
             "colorbar": {
              "outlinewidth": 0,
              "ticks": ""
             }
            },
            "type": "scatterpolar"
           }
          ],
          "scatterpolargl": [
           {
            "marker": {
             "colorbar": {
              "outlinewidth": 0,
              "ticks": ""
             }
            },
            "type": "scatterpolargl"
           }
          ],
          "scatterternary": [
           {
            "marker": {
             "colorbar": {
              "outlinewidth": 0,
              "ticks": ""
             }
            },
            "type": "scatterternary"
           }
          ],
          "surface": [
           {
            "colorbar": {
             "outlinewidth": 0,
             "ticks": ""
            },
            "colorscale": [
             [
              0,
              "#0d0887"
             ],
             [
              0.1111111111111111,
              "#46039f"
             ],
             [
              0.2222222222222222,
              "#7201a8"
             ],
             [
              0.3333333333333333,
              "#9c179e"
             ],
             [
              0.4444444444444444,
              "#bd3786"
             ],
             [
              0.5555555555555556,
              "#d8576b"
             ],
             [
              0.6666666666666666,
              "#ed7953"
             ],
             [
              0.7777777777777778,
              "#fb9f3a"
             ],
             [
              0.8888888888888888,
              "#fdca26"
             ],
             [
              1,
              "#f0f921"
             ]
            ],
            "type": "surface"
           }
          ],
          "table": [
           {
            "cells": {
             "fill": {
              "color": "#EBF0F8"
             },
             "line": {
              "color": "white"
             }
            },
            "header": {
             "fill": {
              "color": "#C8D4E3"
             },
             "line": {
              "color": "white"
             }
            },
            "type": "table"
           }
          ]
         },
         "layout": {
          "annotationdefaults": {
           "arrowcolor": "#2a3f5f",
           "arrowhead": 0,
           "arrowwidth": 1
          },
          "autotypenumbers": "strict",
          "coloraxis": {
           "colorbar": {
            "outlinewidth": 0,
            "ticks": ""
           }
          },
          "colorscale": {
           "diverging": [
            [
             0,
             "#8e0152"
            ],
            [
             0.1,
             "#c51b7d"
            ],
            [
             0.2,
             "#de77ae"
            ],
            [
             0.3,
             "#f1b6da"
            ],
            [
             0.4,
             "#fde0ef"
            ],
            [
             0.5,
             "#f7f7f7"
            ],
            [
             0.6,
             "#e6f5d0"
            ],
            [
             0.7,
             "#b8e186"
            ],
            [
             0.8,
             "#7fbc41"
            ],
            [
             0.9,
             "#4d9221"
            ],
            [
             1,
             "#276419"
            ]
           ],
           "sequential": [
            [
             0,
             "#0d0887"
            ],
            [
             0.1111111111111111,
             "#46039f"
            ],
            [
             0.2222222222222222,
             "#7201a8"
            ],
            [
             0.3333333333333333,
             "#9c179e"
            ],
            [
             0.4444444444444444,
             "#bd3786"
            ],
            [
             0.5555555555555556,
             "#d8576b"
            ],
            [
             0.6666666666666666,
             "#ed7953"
            ],
            [
             0.7777777777777778,
             "#fb9f3a"
            ],
            [
             0.8888888888888888,
             "#fdca26"
            ],
            [
             1,
             "#f0f921"
            ]
           ],
           "sequentialminus": [
            [
             0,
             "#0d0887"
            ],
            [
             0.1111111111111111,
             "#46039f"
            ],
            [
             0.2222222222222222,
             "#7201a8"
            ],
            [
             0.3333333333333333,
             "#9c179e"
            ],
            [
             0.4444444444444444,
             "#bd3786"
            ],
            [
             0.5555555555555556,
             "#d8576b"
            ],
            [
             0.6666666666666666,
             "#ed7953"
            ],
            [
             0.7777777777777778,
             "#fb9f3a"
            ],
            [
             0.8888888888888888,
             "#fdca26"
            ],
            [
             1,
             "#f0f921"
            ]
           ]
          },
          "colorway": [
           "#636efa",
           "#EF553B",
           "#00cc96",
           "#ab63fa",
           "#FFA15A",
           "#19d3f3",
           "#FF6692",
           "#B6E880",
           "#FF97FF",
           "#FECB52"
          ],
          "font": {
           "color": "#2a3f5f"
          },
          "geo": {
           "bgcolor": "white",
           "lakecolor": "white",
           "landcolor": "#E5ECF6",
           "showlakes": true,
           "showland": true,
           "subunitcolor": "white"
          },
          "hoverlabel": {
           "align": "left"
          },
          "hovermode": "closest",
          "mapbox": {
           "style": "light"
          },
          "paper_bgcolor": "white",
          "plot_bgcolor": "#E5ECF6",
          "polar": {
           "angularaxis": {
            "gridcolor": "white",
            "linecolor": "white",
            "ticks": ""
           },
           "bgcolor": "#E5ECF6",
           "radialaxis": {
            "gridcolor": "white",
            "linecolor": "white",
            "ticks": ""
           }
          },
          "scene": {
           "xaxis": {
            "backgroundcolor": "#E5ECF6",
            "gridcolor": "white",
            "gridwidth": 2,
            "linecolor": "white",
            "showbackground": true,
            "ticks": "",
            "zerolinecolor": "white"
           },
           "yaxis": {
            "backgroundcolor": "#E5ECF6",
            "gridcolor": "white",
            "gridwidth": 2,
            "linecolor": "white",
            "showbackground": true,
            "ticks": "",
            "zerolinecolor": "white"
           },
           "zaxis": {
            "backgroundcolor": "#E5ECF6",
            "gridcolor": "white",
            "gridwidth": 2,
            "linecolor": "white",
            "showbackground": true,
            "ticks": "",
            "zerolinecolor": "white"
           }
          },
          "shapedefaults": {
           "line": {
            "color": "#2a3f5f"
           }
          },
          "ternary": {
           "aaxis": {
            "gridcolor": "white",
            "linecolor": "white",
            "ticks": ""
           },
           "baxis": {
            "gridcolor": "white",
            "linecolor": "white",
            "ticks": ""
           },
           "bgcolor": "#E5ECF6",
           "caxis": {
            "gridcolor": "white",
            "linecolor": "white",
            "ticks": ""
           }
          },
          "title": {
           "x": 0.05
          },
          "xaxis": {
           "automargin": true,
           "gridcolor": "white",
           "linecolor": "white",
           "ticks": "",
           "title": {
            "standoff": 15
           },
           "zerolinecolor": "white",
           "zerolinewidth": 2
          },
          "yaxis": {
           "automargin": true,
           "gridcolor": "white",
           "linecolor": "white",
           "ticks": "",
           "title": {
            "standoff": 15
           },
           "zerolinecolor": "white",
           "zerolinewidth": 2
          }
         }
        },
        "title": {
         "text": "CIS DATA"
        },
        "xaxis": {
         "anchor": "y",
         "domain": [
          0,
          1
         ],
         "title": {
          "text": "Stationing"
         }
        },
        "yaxis": {
         "anchor": "x",
         "autorange": "reversed",
         "domain": [
          0,
          1
         ],
         "title": {
          "text": "OFF"
         }
        }
       }
      }
     },
     "metadata": {},
     "output_type": "display_data"
    }
   ],
   "source": [
    "CIS_Graph = px.line(FINAL_DF, x='Stationing', y=FINAL_DF['OFF'], title= 'CIS DATA', hover_data=['Comments']) # OFF Values, CHANGE THE TITLE TO WHAT YOU WANT\n",
    "CIS_Graph.add_scatter(x=FINAL_DF['Stationing'], y=FINAL_DF['ON'], name= 'ON') # ON Values\n",
    "CIS_Graph.update_layout(autotypenumbers='convert types')\n",
    "CIS_Graph.update_layout()\n",
    "CIS_Graph.update_yaxes(autorange=\"reversed\")\n",
    "CIS_Graph.add_shape(type='line', x0=0, y0=-.85, x1=6000, y1=-.85, line=dict(color='Purple'))# Change the value of x1 based off the length of the project \n",
    "CIS_Graph.update_layout(legend_title_text = 'P/S Data')\n",
    "CIS_Graph.show()"
   ]
  }
 ],
 "metadata": {
  "kernelspec": {
   "display_name": "Python 3.8.13 ('CIS')",
   "language": "python",
   "name": "python3"
  },
  "language_info": {
   "codemirror_mode": {
    "name": "ipython",
    "version": 3
   },
   "file_extension": ".py",
   "mimetype": "text/x-python",
   "name": "python",
   "nbconvert_exporter": "python",
   "pygments_lexer": "ipython3",
   "version": "3.8.13"
  },
  "orig_nbformat": 4,
  "vscode": {
   "interpreter": {
    "hash": "a68411f4b9112530abe8049079dac88eadbbcd6120aa6afe7562919b7850f58b"
   }
  }
 },
 "nbformat": 4,
 "nbformat_minor": 2
}
