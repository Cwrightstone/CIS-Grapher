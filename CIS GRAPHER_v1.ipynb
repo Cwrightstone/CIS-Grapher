{
 "cells": [
  {
   "cell_type": "code",
   "execution_count": 10,
   "metadata": {},
   "outputs": [
    {
     "data": {
      "text/plain": [
       "'\\nWELCOME TO THE CIS GRAPHER\\n\\n\\n'"
      ]
     },
     "execution_count": 10,
     "metadata": {},
     "output_type": "execute_result"
    }
   ],
   "source": [
    "\"\"\"\n",
    "WELCOME TO THE CIS GRAPHER\n",
    "\n",
    "\n",
    "\"\"\""
   ]
  },
  {
   "cell_type": "code",
   "execution_count": 11,
   "metadata": {},
   "outputs": [],
   "source": [
    "import pandas as pd\n",
    "import matplotlib.pyplot as plt \n",
    "import plotly.express as px\n",
    "import plotly.graph_objects as go\n",
    "from plotly.graph_objs.layout import YAxis,XAxis"
   ]
  },
  {
   "cell_type": "code",
   "execution_count": 12,
   "metadata": {},
   "outputs": [],
   "source": [
    "RAW_CISData = '20220519_001_ELK RIVER_EAST FROM STATION_SMW.svy'"
   ]
  },
  {
   "cell_type": "code",
   "execution_count": 46,
   "metadata": {},
   "outputs": [
    {
     "name": "stdout",
     "output_type": "stream",
     "text": [
      "0      START AT BLOCK VALVE , (ACV: 0.797V) None None...\n",
      "1      None None None None None None None None None N...\n",
      "2      None None None None None None None None None N...\n",
      "3      None None None None None None None None None N...\n",
      "4      None None None None None None None None None N...\n",
      "                             ...                        \n",
      "572    EDGE PAVED ROAD None None None None None None ...\n",
      "573    None None None None None None None None None N...\n",
      "574    None None None None None None None None None N...\n",
      "575    TS MP 24.03 , (TPR:FG -1.379V/-0.997V, MIR 0.0...\n",
      "576    None None None None None None None None None N...\n",
      "Name: Comments, Length: 577, dtype: object\n"
     ]
    },
    {
     "ename": "PermissionError",
     "evalue": "[Errno 13] Permission denied: '20220519_001_ELK RIVER_EAST FROM STATION_SMW.svyCleaned.csv'",
     "output_type": "error",
     "traceback": [
      "\u001b[1;31m---------------------------------------------------------------------------\u001b[0m",
      "\u001b[1;31mPermissionError\u001b[0m                           Traceback (most recent call last)",
      "\u001b[1;32mc:\\Users\\cwrightstone\\Desktop\\Coding Projects_Macbook\\CIS Grapher\\CIS GRAPHER.ipynb Cell 4\u001b[0m in \u001b[0;36m<cell line: 29>\u001b[1;34m()\u001b[0m\n\u001b[0;32m     <a href='vscode-notebook-cell:/c%3A/Users/cwrightstone/Desktop/Coding%20Projects_Macbook/CIS%20Grapher/CIS%20GRAPHER.ipynb#ch0000003?line=11'>12</a>\u001b[0m CIS_DATA\u001b[39m.\u001b[39mdrop(CIS_DATA\u001b[39m.\u001b[39miloc[:, \u001b[39m12\u001b[39m:\u001b[39m24\u001b[39m], inplace\u001b[39m=\u001b[39m\u001b[39mTrue\u001b[39;00m, axis\u001b[39m=\u001b[39m\u001b[39m1\u001b[39m)\n\u001b[0;32m     <a href='vscode-notebook-cell:/c%3A/Users/cwrightstone/Desktop/Coding%20Projects_Macbook/CIS%20Grapher/CIS%20GRAPHER.ipynb#ch0000003?line=14'>15</a>\u001b[0m \u001b[39m#TESTING BLOCK OF CODE BELOW\u001b[39;00m\n\u001b[0;32m     <a href='vscode-notebook-cell:/c%3A/Users/cwrightstone/Desktop/Coding%20Projects_Macbook/CIS%20Grapher/CIS%20GRAPHER.ipynb#ch0000003?line=15'>16</a>\u001b[0m \n\u001b[0;32m     <a href='vscode-notebook-cell:/c%3A/Users/cwrightstone/Desktop/Coding%20Projects_Macbook/CIS%20Grapher/CIS%20GRAPHER.ipynb#ch0000003?line=16'>17</a>\u001b[0m \u001b[39m#Comment_Section = CIS_DATA.iloc[:,12:25] # isolates the Comment columns in the csv, CHANGE THE RANGE BASED ON AMOUNT OF COLUMNS IN DF\u001b[39;00m\n\u001b[1;32m   (...)\u001b[0m\n\u001b[0;32m     <a href='vscode-notebook-cell:/c%3A/Users/cwrightstone/Desktop/Coding%20Projects_Macbook/CIS%20Grapher/CIS%20GRAPHER.ipynb#ch0000003?line=26'>27</a>\u001b[0m \n\u001b[0;32m     <a href='vscode-notebook-cell:/c%3A/Users/cwrightstone/Desktop/Coding%20Projects_Macbook/CIS%20Grapher/CIS%20GRAPHER.ipynb#ch0000003?line=27'>28</a>\u001b[0m \u001b[39m#CIS_DATA.head()    \u001b[39;00m\n\u001b[1;32m---> <a href='vscode-notebook-cell:/c%3A/Users/cwrightstone/Desktop/Coding%20Projects_Macbook/CIS%20Grapher/CIS%20GRAPHER.ipynb#ch0000003?line=28'>29</a>\u001b[0m CIS_DATA\u001b[39m.\u001b[39;49mto_csv(RAW_CISData \u001b[39m+\u001b[39;49m \u001b[39m'\u001b[39;49m\u001b[39mCleaned.csv\u001b[39;49m\u001b[39m'\u001b[39;49m)\n",
      "File \u001b[1;32mc:\\Users\\cwrightstone\\Anaconda3\\envs\\CIS\\lib\\site-packages\\pandas\\core\\generic.py:3551\u001b[0m, in \u001b[0;36mNDFrame.to_csv\u001b[1;34m(self, path_or_buf, sep, na_rep, float_format, columns, header, index, index_label, mode, encoding, compression, quoting, quotechar, line_terminator, chunksize, date_format, doublequote, escapechar, decimal, errors, storage_options)\u001b[0m\n\u001b[0;32m   3540\u001b[0m df \u001b[39m=\u001b[39m \u001b[39mself\u001b[39m \u001b[39mif\u001b[39;00m \u001b[39misinstance\u001b[39m(\u001b[39mself\u001b[39m, ABCDataFrame) \u001b[39melse\u001b[39;00m \u001b[39mself\u001b[39m\u001b[39m.\u001b[39mto_frame()\n\u001b[0;32m   3542\u001b[0m formatter \u001b[39m=\u001b[39m DataFrameFormatter(\n\u001b[0;32m   3543\u001b[0m     frame\u001b[39m=\u001b[39mdf,\n\u001b[0;32m   3544\u001b[0m     header\u001b[39m=\u001b[39mheader,\n\u001b[1;32m   (...)\u001b[0m\n\u001b[0;32m   3548\u001b[0m     decimal\u001b[39m=\u001b[39mdecimal,\n\u001b[0;32m   3549\u001b[0m )\n\u001b[1;32m-> 3551\u001b[0m \u001b[39mreturn\u001b[39;00m DataFrameRenderer(formatter)\u001b[39m.\u001b[39;49mto_csv(\n\u001b[0;32m   3552\u001b[0m     path_or_buf,\n\u001b[0;32m   3553\u001b[0m     line_terminator\u001b[39m=\u001b[39;49mline_terminator,\n\u001b[0;32m   3554\u001b[0m     sep\u001b[39m=\u001b[39;49msep,\n\u001b[0;32m   3555\u001b[0m     encoding\u001b[39m=\u001b[39;49mencoding,\n\u001b[0;32m   3556\u001b[0m     errors\u001b[39m=\u001b[39;49merrors,\n\u001b[0;32m   3557\u001b[0m     compression\u001b[39m=\u001b[39;49mcompression,\n\u001b[0;32m   3558\u001b[0m     quoting\u001b[39m=\u001b[39;49mquoting,\n\u001b[0;32m   3559\u001b[0m     columns\u001b[39m=\u001b[39;49mcolumns,\n\u001b[0;32m   3560\u001b[0m     index_label\u001b[39m=\u001b[39;49mindex_label,\n\u001b[0;32m   3561\u001b[0m     mode\u001b[39m=\u001b[39;49mmode,\n\u001b[0;32m   3562\u001b[0m     chunksize\u001b[39m=\u001b[39;49mchunksize,\n\u001b[0;32m   3563\u001b[0m     quotechar\u001b[39m=\u001b[39;49mquotechar,\n\u001b[0;32m   3564\u001b[0m     date_format\u001b[39m=\u001b[39;49mdate_format,\n\u001b[0;32m   3565\u001b[0m     doublequote\u001b[39m=\u001b[39;49mdoublequote,\n\u001b[0;32m   3566\u001b[0m     escapechar\u001b[39m=\u001b[39;49mescapechar,\n\u001b[0;32m   3567\u001b[0m     storage_options\u001b[39m=\u001b[39;49mstorage_options,\n\u001b[0;32m   3568\u001b[0m )\n",
      "File \u001b[1;32mc:\\Users\\cwrightstone\\Anaconda3\\envs\\CIS\\lib\\site-packages\\pandas\\io\\formats\\format.py:1180\u001b[0m, in \u001b[0;36mDataFrameRenderer.to_csv\u001b[1;34m(self, path_or_buf, encoding, sep, columns, index_label, mode, compression, quoting, quotechar, line_terminator, chunksize, date_format, doublequote, escapechar, errors, storage_options)\u001b[0m\n\u001b[0;32m   1159\u001b[0m     created_buffer \u001b[39m=\u001b[39m \u001b[39mFalse\u001b[39;00m\n\u001b[0;32m   1161\u001b[0m csv_formatter \u001b[39m=\u001b[39m CSVFormatter(\n\u001b[0;32m   1162\u001b[0m     path_or_buf\u001b[39m=\u001b[39mpath_or_buf,\n\u001b[0;32m   1163\u001b[0m     line_terminator\u001b[39m=\u001b[39mline_terminator,\n\u001b[1;32m   (...)\u001b[0m\n\u001b[0;32m   1178\u001b[0m     formatter\u001b[39m=\u001b[39m\u001b[39mself\u001b[39m\u001b[39m.\u001b[39mfmt,\n\u001b[0;32m   1179\u001b[0m )\n\u001b[1;32m-> 1180\u001b[0m csv_formatter\u001b[39m.\u001b[39;49msave()\n\u001b[0;32m   1182\u001b[0m \u001b[39mif\u001b[39;00m created_buffer:\n\u001b[0;32m   1183\u001b[0m     \u001b[39massert\u001b[39;00m \u001b[39misinstance\u001b[39m(path_or_buf, StringIO)\n",
      "File \u001b[1;32mc:\\Users\\cwrightstone\\Anaconda3\\envs\\CIS\\lib\\site-packages\\pandas\\io\\formats\\csvs.py:241\u001b[0m, in \u001b[0;36mCSVFormatter.save\u001b[1;34m(self)\u001b[0m\n\u001b[0;32m    237\u001b[0m \u001b[39m\"\"\"\u001b[39;00m\n\u001b[0;32m    238\u001b[0m \u001b[39mCreate the writer & save.\u001b[39;00m\n\u001b[0;32m    239\u001b[0m \u001b[39m\"\"\"\u001b[39;00m\n\u001b[0;32m    240\u001b[0m \u001b[39m# apply compression and byte/text conversion\u001b[39;00m\n\u001b[1;32m--> 241\u001b[0m \u001b[39mwith\u001b[39;00m get_handle(\n\u001b[0;32m    242\u001b[0m     \u001b[39mself\u001b[39;49m\u001b[39m.\u001b[39;49mfilepath_or_buffer,\n\u001b[0;32m    243\u001b[0m     \u001b[39mself\u001b[39;49m\u001b[39m.\u001b[39;49mmode,\n\u001b[0;32m    244\u001b[0m     encoding\u001b[39m=\u001b[39;49m\u001b[39mself\u001b[39;49m\u001b[39m.\u001b[39;49mencoding,\n\u001b[0;32m    245\u001b[0m     errors\u001b[39m=\u001b[39;49m\u001b[39mself\u001b[39;49m\u001b[39m.\u001b[39;49merrors,\n\u001b[0;32m    246\u001b[0m     compression\u001b[39m=\u001b[39;49m\u001b[39mself\u001b[39;49m\u001b[39m.\u001b[39;49mcompression,\n\u001b[0;32m    247\u001b[0m     storage_options\u001b[39m=\u001b[39;49m\u001b[39mself\u001b[39;49m\u001b[39m.\u001b[39;49mstorage_options,\n\u001b[0;32m    248\u001b[0m ) \u001b[39mas\u001b[39;00m handles:\n\u001b[0;32m    249\u001b[0m \n\u001b[0;32m    250\u001b[0m     \u001b[39m# Note: self.encoding is irrelevant here\u001b[39;00m\n\u001b[0;32m    251\u001b[0m     \u001b[39mself\u001b[39m\u001b[39m.\u001b[39mwriter \u001b[39m=\u001b[39m csvlib\u001b[39m.\u001b[39mwriter(\n\u001b[0;32m    252\u001b[0m         handles\u001b[39m.\u001b[39mhandle,\n\u001b[0;32m    253\u001b[0m         lineterminator\u001b[39m=\u001b[39m\u001b[39mself\u001b[39m\u001b[39m.\u001b[39mline_terminator,\n\u001b[1;32m   (...)\u001b[0m\n\u001b[0;32m    258\u001b[0m         quotechar\u001b[39m=\u001b[39m\u001b[39mself\u001b[39m\u001b[39m.\u001b[39mquotechar,\n\u001b[0;32m    259\u001b[0m     )\n\u001b[0;32m    261\u001b[0m     \u001b[39mself\u001b[39m\u001b[39m.\u001b[39m_save()\n",
      "File \u001b[1;32mc:\\Users\\cwrightstone\\Anaconda3\\envs\\CIS\\lib\\site-packages\\pandas\\io\\common.py:789\u001b[0m, in \u001b[0;36mget_handle\u001b[1;34m(path_or_buf, mode, encoding, compression, memory_map, is_text, errors, storage_options)\u001b[0m\n\u001b[0;32m    784\u001b[0m \u001b[39melif\u001b[39;00m \u001b[39misinstance\u001b[39m(handle, \u001b[39mstr\u001b[39m):\n\u001b[0;32m    785\u001b[0m     \u001b[39m# Check whether the filename is to be opened in binary mode.\u001b[39;00m\n\u001b[0;32m    786\u001b[0m     \u001b[39m# Binary mode does not support 'encoding' and 'newline'.\u001b[39;00m\n\u001b[0;32m    787\u001b[0m     \u001b[39mif\u001b[39;00m ioargs\u001b[39m.\u001b[39mencoding \u001b[39mand\u001b[39;00m \u001b[39m\"\u001b[39m\u001b[39mb\u001b[39m\u001b[39m\"\u001b[39m \u001b[39mnot\u001b[39;00m \u001b[39min\u001b[39;00m ioargs\u001b[39m.\u001b[39mmode:\n\u001b[0;32m    788\u001b[0m         \u001b[39m# Encoding\u001b[39;00m\n\u001b[1;32m--> 789\u001b[0m         handle \u001b[39m=\u001b[39m \u001b[39mopen\u001b[39;49m(\n\u001b[0;32m    790\u001b[0m             handle,\n\u001b[0;32m    791\u001b[0m             ioargs\u001b[39m.\u001b[39;49mmode,\n\u001b[0;32m    792\u001b[0m             encoding\u001b[39m=\u001b[39;49mioargs\u001b[39m.\u001b[39;49mencoding,\n\u001b[0;32m    793\u001b[0m             errors\u001b[39m=\u001b[39;49merrors,\n\u001b[0;32m    794\u001b[0m             newline\u001b[39m=\u001b[39;49m\u001b[39m\"\u001b[39;49m\u001b[39m\"\u001b[39;49m,\n\u001b[0;32m    795\u001b[0m         )\n\u001b[0;32m    796\u001b[0m     \u001b[39melse\u001b[39;00m:\n\u001b[0;32m    797\u001b[0m         \u001b[39m# Binary mode\u001b[39;00m\n\u001b[0;32m    798\u001b[0m         handle \u001b[39m=\u001b[39m \u001b[39mopen\u001b[39m(handle, ioargs\u001b[39m.\u001b[39mmode)\n",
      "\u001b[1;31mPermissionError\u001b[0m: [Errno 13] Permission denied: '20220519_001_ELK RIVER_EAST FROM STATION_SMW.svyCleaned.csv'"
     ]
    }
   ],
   "source": [
    "# REVIEW THE CIS DATA, THIS BLOCK OF CODE IS FROM THE SVY_to_CSV script\n",
    "with open(RAW_CISData) as f:\n",
    "    CIS_DATA = pd.DataFrame([line.strip().split() for line in f.readlines()])\n",
    "    headers = [f\"Col{i}\" for i in range(1, 25)]#Change this value as needed with Error value\n",
    "    CIS_DATA.rename(columns = {0:'Stationing', 1:'ON', 2:'OFF'}, inplace= True)# Rename Columns as needed\n",
    "    CIS_DATA.to_csv(RAW_CISData + \"PROCESSED_NeedsCleaned.csv\", index=False, header=headers)# CSV does not reflect the .head() below\n",
    "\n",
    "# CHANGE THE CODE BELOW TO FIT THE AMOUNT OF COLUMNS YOU HAVE\n",
    "CIS_DATA['Comments'] = CIS_DATA[12].astype(str)+ ' ' + CIS_DATA[13].astype(str)+ ' ' + CIS_DATA[14].astype(str)+ ' ' + CIS_DATA[15].astype(str)+ ' ' + CIS_DATA[16].astype(str)+ ' ' + CIS_DATA[17].astype(str)+ ' ' + CIS_DATA[18].astype(str)+ ' ' + CIS_DATA[19].astype(str)+ ' ' + CIS_DATA[20].astype(str)+ ' ' + CIS_DATA[21].astype(str)+ ' ' + CIS_DATA[22].astype(str)+ ' ' +  CIS_DATA[23].astype(str)#+ ' ' + CIS_DATA[24].astype(str)##CIS_DATA[25].astype(str)+ ' ' + CIS_DATA[26].astype(str)+ ' ' + CIS_DATA[27].astype(str)+ ' ' + CIS_DATA[28].astype(str)+ ' ' + CIS_DATA[29].astype(str)+ ' ' + CIS_DATA[30].astype(str)+ ' ' + CIS_DATA[31].astype(str)+ ' ' + CIS_DATA[32].astype(str)+ ' ' + CIS_DATA[33].astype(str)+ ' ' + CIS_DATA[34].astype(str)\n",
    "CIS_DATA['Comments'].replace('None', ' ')\n",
    "print(CIS_DATA['Comments'])\n",
    "CIS_DATA.drop(CIS_DATA.iloc[:, 12:24], inplace=True, axis=1)\n",
    "\n",
    "\n",
    "#TESTING BLOCK OF CODE BELOW\n",
    "\n",
    "#Comment_Section = CIS_DATA.iloc[:,12:25] # isolates the Comment columns in the csv, CHANGE THE RANGE BASED ON AMOUNT OF COLUMNS IN DF\n",
    "#CIS_DATA['COMMENTS'] =  ' '.join(str(v(filter(None, Comment_Section)) for v  in Comment_Section))\n",
    "\n",
    "\n",
    "\n",
    "\n",
    "\n",
    "\n",
    "\n",
    "\n",
    "\n",
    "#CIS_DATA.head()    \n",
    "CIS_DATA.to_csv(RAW_CISData + 'Cleaned.csv')          "
   ]
  },
  {
   "cell_type": "code",
   "execution_count": 21,
   "metadata": {},
   "outputs": [
    {
     "data": {
      "application/vnd.plotly.v1+json": {
       "config": {
        "plotlyServerURL": "https://plot.ly"
       },
       "data": [
        {
         "customdata": [
          [
           "START AT BLOCK VALVE , (ACV: 0.797V) None None None None None"
          ],
          [
           "None None None None None None None None None None None None"
          ],
          [
           "None None None None None None None None None None None None"
          ],
          [
           "None None None None None None None None None None None None"
          ],
          [
           "None None None None None None None None None None None None"
          ],
          [
           "None None None None None None None None None None None None"
          ],
          [
           "FENCE None None None None None None None None None None None"
          ],
          [
           "None None None None None None None None None None None None"
          ],
          [
           "None None None None None None None None None None None None"
          ],
          [
           "None None None None None None None None None None None None"
          ],
          [
           "None None None None None None None None None None None None"
          ],
          [
           "None None None None None None None None None None None None"
          ],
          [
           "None None None None None None None None None None None None"
          ],
          [
           "None None None None None None None None None None None None"
          ],
          [
           "None None None None None None None None None None None None"
          ],
          [
           "None None None None None None None None None None None None"
          ],
          [
           "None None None None None None None None None None None None"
          ],
          [
           "None None None None None None None None None None None None"
          ],
          [
           "None None None None None None None None None None None None"
          ],
          [
           "EDGE PAVEMENT None None None None None None None None None None"
          ],
          [
           "None None None None None None None None None None None None"
          ],
          [
           "None None None None None None None None None None None None"
          ],
          [
           "None None None None None None None None None None None None"
          ],
          [
           "None None None None None None None None None None None None"
          ],
          [
           "EDGE PAVEMENT PI LM None None None None None None None None"
          ],
          [
           "None None None None None None None None None None None None"
          ],
          [
           "None None None None None None None None None None None None"
          ],
          [
           "None None None None None None None None None None None None"
          ],
          [
           "None None None None None None None None None None None None"
          ],
          [
           "None None None None None None None None None None None None"
          ],
          [
           "EDGE PAVED ROAD None None None None None None None None None"
          ],
          [
           "None None None None None None None None None None None None"
          ],
          [
           "None None None None None None None None None None None None"
          ],
          [
           "None None None None None None None None None None None None"
          ],
          [
           "None None None None None None None None None None None None"
          ],
          [
           "None None None None None None None None None None None None"
          ],
          [
           "None None None None None None None None None None None None"
          ],
          [
           "None None None None None None None None None None None None"
          ],
          [
           "None None None None None None None None None None None None"
          ],
          [
           "None None None None None None None None None None None None"
          ],
          [
           "None None None None None None None None None None None None"
          ],
          [
           "None None None None None None None None None None None None"
          ],
          [
           "EDGE PAVED ROAD REC ROAD SPOOL None None None None None None"
          ],
          [
           "None None None None None None None None None None None None"
          ],
          [
           "None None None None None None None None None None None None"
          ],
          [
           "None None None None None None None None None None None None"
          ],
          [
           "None None None None None None None None None None None None"
          ],
          [
           "LM None None None None None None None None None None None"
          ],
          [
           "None None None None None None None None None None None None"
          ],
          [
           "None None None None None None None None None None None None"
          ],
          [
           "FENCE None None None None None None None None None None None"
          ],
          [
           "None None None None None None None None None None None None"
          ],
          [
           "None None None None None None None None None None None None"
          ],
          [
           "None None None None None None None None None None None None"
          ],
          [
           "None None None None None None None None None None None None"
          ],
          [
           "None None None None None None None None None None None None"
          ],
          [
           "None None None None None None None None None None None None"
          ],
          [
           "None None None None None None None None None None None None"
          ],
          [
           "None None None None None None None None None None None None"
          ],
          [
           "None None None None None None None None None None None None"
          ],
          [
           "None None None None None None None None None None None None"
          ],
          [
           "None None None None None None None None None None None None"
          ],
          [
           "None None None None None None None None None None None None"
          ],
          [
           "None None None None None None None None None None None None"
          ],
          [
           "None None None None None None None None None None None None"
          ],
          [
           "None None None None None None None None None None None None"
          ],
          [
           "None None None None None None None None None None None None"
          ],
          [
           "None None None None None None None None None None None None"
          ],
          [
           "None None None None None None None None None None None None"
          ],
          [
           "None None None None None None None None None None None None"
          ],
          [
           "None None None None None None None None None None None None"
          ],
          [
           "None None None None None None None None None None None None"
          ],
          [
           "None None None None None None None None None None None None"
          ],
          [
           "None None None None None None None None None None None None"
          ],
          [
           "None None None None None None None None None None None None"
          ],
          [
           "None None None None None None None None None None None None"
          ],
          [
           "None None None None None None None None None None None None"
          ],
          [
           "None None None None None None None None None None None None"
          ],
          [
           "None None None None None None None None None None None None"
          ],
          [
           "None None None None None None None None None None None None"
          ],
          [
           "None None None None None None None None None None None None"
          ],
          [
           "None None None None None None None None None None None None"
          ],
          [
           "BEGIN SWAMP None None None None None None None None None None"
          ],
          [
           "None None None None None None None None None None None None"
          ],
          [
           "None None None None None None None None None None None None"
          ],
          [
           "None None None None None None None None None None None None"
          ],
          [
           "None None None None None None None None None None None None"
          ],
          [
           "None None None None None None None None None None None None"
          ],
          [
           "None None None None None None None None None None None None"
          ],
          [
           "None None None None None None None None None None None None"
          ],
          [
           "None None None None None None None None None None None None"
          ],
          [
           "None None None None None None None None None None None None"
          ],
          [
           "None None None None None None None None None None None None"
          ],
          [
           "None None None None None None None None None None None None"
          ],
          [
           "None None None None None None None None None None None None"
          ],
          [
           "None None None None None None None None None None None None"
          ],
          [
           "None None None None None None None None None None None None"
          ],
          [
           "None None None None None None None None None None None None"
          ],
          [
           "None None None None None None None None None None None None"
          ],
          [
           "None None None None None None None None None None None None"
          ],
          [
           "None None None None None None None None None None None None"
          ],
          [
           "None None None None None None None None None None None None"
          ],
          [
           "None None None None None None None None None None None None"
          ],
          [
           "EDGE SWAMP None None None None None None None None None None"
          ],
          [
           "None None None None None None None None None None None None"
          ],
          [
           "None None None None None None None None None None None None"
          ],
          [
           "None None None None None None None None None None None None"
          ],
          [
           "None None None None None None None None None None None None"
          ],
          [
           "None None None None None None None None None None None None"
          ],
          [
           "None None None None None None None None None None None None"
          ],
          [
           "None None None None None None None None None None None None"
          ],
          [
           "None None None None None None None None None None None None"
          ],
          [
           "None None None None None None None None None None None None"
          ],
          [
           "None None None None None None None None None None None None"
          ],
          [
           "None None None None None None None None None None None None"
          ],
          [
           "None None None None None None None None None None None None"
          ],
          [
           "None None None None None None None None None None None None"
          ],
          [
           "None None None None None None None None None None None None"
          ],
          [
           "None None None None None None None None None None None None"
          ],
          [
           "None None None None None None None None None None None None"
          ],
          [
           "None None None None None None None None None None None None"
          ],
          [
           "None None None None None None None None None None None None"
          ],
          [
           "None None None None None None None None None None None None"
          ],
          [
           "None None None None None None None None None None None None"
          ],
          [
           "None None None None None None None None None None None None"
          ],
          [
           "None None None None None None None None None None None None"
          ],
          [
           "None None None None None None None None None None None None"
          ],
          [
           "None None None None None None None None None None None None"
          ],
          [
           "None None None None None None None None None None None None"
          ],
          [
           "None None None None None None None None None None None None"
          ],
          [
           "EDGE GRAVEL ROAD None None None None None None None None None"
          ],
          [
           "None None None None None None None None None None None None"
          ],
          [
           "EDGE GRAVEL ROAD None None None None None None None None None"
          ],
          [
           "None None None None None None None None None None None None"
          ],
          [
           "None None None None None None None None None None None None"
          ],
          [
           "None None None None None None None None None None None None"
          ],
          [
           "None None None None None None None None None None None None"
          ],
          [
           "None None None None None None None None None None None None"
          ],
          [
           "LM None None None None None None None None None None None"
          ],
          [
           "None None None None None None None None None None None None"
          ],
          [
           "None None None None None None None None None None None None"
          ],
          [
           "EDGE PAVED ROAD None None None None None None None None None"
          ],
          [
           "None None None None None None None None None None None None"
          ],
          [
           "None None None None None None None None None None None None"
          ],
          [
           "None None None None None None None None None None None None"
          ],
          [
           "None None None None None None None None None None None None"
          ],
          [
           "None None None None None None None None None None None None"
          ],
          [
           "EDGE PAVED ROAD None None None None None None None None None"
          ],
          [
           "None None None None None None None None None None None None"
          ],
          [
           "None None None None None None None None None None None None"
          ],
          [
           "None None None None None None None None None None None None"
          ],
          [
           "EDGE PAVED ROAD None None None None None None None None None"
          ],
          [
           "None None None None None None None None None None None None"
          ],
          [
           "None None None None None None None None None None None None"
          ],
          [
           "None None None None None None None None None None None None"
          ],
          [
           "None None None None None None None None None None None None"
          ],
          [
           "EDGE PAVED ROAD None None None None None None None None None"
          ],
          [
           "None None None None None None None None None None None None"
          ],
          [
           "None None None None None None None None None None None None"
          ],
          [
           "None None None None None None None None None None None None"
          ],
          [
           "LM None None None None None None None None None None None"
          ],
          [
           "None None None None None None None None None None None None"
          ],
          [
           "None None None None None None None None None None None None"
          ],
          [
           "None None None None None None None None None None None None"
          ],
          [
           "TREE None None None None None None None None None None None"
          ],
          [
           "None None None None None None None None None None None None"
          ],
          [
           "None None None None None None None None None None None None"
          ],
          [
           "None None None None None None None None None None None None"
          ],
          [
           "None None None None None None None None None None None None"
          ],
          [
           "None None None None None None None None None None None None"
          ],
          [
           "TREE None None None None None None None None None None None"
          ],
          [
           "None None None None None None None None None None None None"
          ],
          [
           "None None None None None None None None None None None None"
          ],
          [
           "None None None None None None None None None None None None"
          ],
          [
           "None None None None None None None None None None None None"
          ],
          [
           "None None None None None None None None None None None None"
          ],
          [
           "None None None None None None None None None None None None"
          ],
          [
           "TREE None None None None None None None None None None None"
          ],
          [
           "None None None None None None None None None None None None"
          ],
          [
           "TREE None None None None None None None None None None None"
          ],
          [
           "None None None None None None None None None None None None"
          ],
          [
           "None None None None None None None None None None None None"
          ],
          [
           "None None None None None None None None None None None None"
          ],
          [
           "None None None None None None None None None None None None"
          ],
          [
           "None None None None None None None None None None None None"
          ],
          [
           "None None None None None None None None None None None None"
          ],
          [
           "None None None None None None None None None None None None"
          ],
          [
           "START WOODS None None None None None None None None None None"
          ],
          [
           "None None None None None None None None None None None None"
          ],
          [
           "None None None None None None None None None None None None"
          ],
          [
           "None None None None None None None None None None None None"
          ],
          [
           "None None None None None None None None None None None None"
          ],
          [
           "None None None None None None None None None None None None"
          ],
          [
           "None None None None None None None None None None None None"
          ],
          [
           "None None None None None None None None None None None None"
          ],
          [
           "None None None None None None None None None None None None"
          ],
          [
           "None None None None None None None None None None None None"
          ],
          [
           "None None None None None None None None None None None None"
          ],
          [
           "None None None None None None None None None None None None"
          ],
          [
           "None None None None None None None None None None None None"
          ],
          [
           "None None None None None None None None None None None None"
          ],
          [
           "None None None None None None None None None None None None"
          ],
          [
           "None None None None None None None None None None None None"
          ],
          [
           "OFFSET TREE None None None None None None None None None None"
          ],
          [
           "None None None None None None None None None None None None"
          ],
          [
           "None None None None None None None None None None None None"
          ],
          [
           "None None None None None None None None None None None None"
          ],
          [
           "None None None None None None None None None None None None"
          ],
          [
           "None None None None None None None None None None None None"
          ],
          [
           "None None None None None None None None None None None None"
          ],
          [
           "None None None None None None None None None None None None"
          ],
          [
           "None None None None None None None None None None None None"
          ],
          [
           "None None None None None None None None None None None None"
          ],
          [
           "None None None None None None None None None None None None"
          ],
          [
           "None None None None None None None None None None None None"
          ],
          [
           "None None None None None None None None None None None None"
          ],
          [
           "None None None None None None None None None None None None"
          ],
          [
           "None None None None None None None None None None None None"
          ],
          [
           "None None None None None None None None None None None None"
          ],
          [
           "END BRUSHY WOODS None None None None None None None None None"
          ],
          [
           "None None None None None None None None None None None None"
          ],
          [
           "None None None None None None None None None None None None"
          ],
          [
           "None None None None None None None None None None None None"
          ],
          [
           "None None None None None None None None None None None None"
          ],
          [
           "None None None None None None None None None None None None"
          ],
          [
           "None None None None None None None None None None None None"
          ],
          [
           "None None None None None None None None None None None None"
          ],
          [
           "None None None None None None None None None None None None"
          ],
          [
           "None None None None None None None None None None None None"
          ],
          [
           "None None None None None None None None None None None None"
          ],
          [
           "None None None None None None None None None None None None"
          ],
          [
           "START DRIVEWAY None None None None None None None None None None"
          ],
          [
           "None None None None None None None None None None None None"
          ],
          [
           "None None None None None None None None None None None None"
          ],
          [
           "END DRIVEWAY SURVEYED IN CRACKS None None None None None None None"
          ],
          [
           "None None None None None None None None None None None None"
          ],
          [
           "None None None None None None None None None None None None"
          ],
          [
           "None None None None None None None None None None None None"
          ],
          [
           "None None None None None None None None None None None None"
          ],
          [
           "None None None None None None None None None None None None"
          ],
          [
           "None None None None None None None None None None None None"
          ],
          [
           "None None None None None None None None None None None None"
          ],
          [
           "None None None None None None None None None None None None"
          ],
          [
           "None None None None None None None None None None None None"
          ],
          [
           "None None None None None None None None None None None None"
          ],
          [
           "None None None None None None None None None None None None"
          ],
          [
           "None None None None None None None None None None None None"
          ],
          [
           "None None None None None None None None None None None None"
          ],
          [
           "EDGE PAVED DRIVEWAY None None None None None None None None None"
          ],
          [
           "None None None None None None None None None None None None"
          ],
          [
           "EDGE PAVED DRIVEWAY OFFSET TREE None None None None None None None"
          ],
          [
           "None None None None None None None None None None None None"
          ],
          [
           "None None None None None None None None None None None None"
          ],
          [
           "None None None None None None None None None None None None"
          ],
          [
           "None None None None None None None None None None None None"
          ],
          [
           "None None None None None None None None None None None None"
          ],
          [
           "None None None None None None None None None None None None"
          ],
          [
           "None None None None None None None None None None None None"
          ],
          [
           "None None None None None None None None None None None None"
          ],
          [
           "None None None None None None None None None None None None"
          ],
          [
           "None None None None None None None None None None None None"
          ],
          [
           "None None None None None None None None None None None None"
          ],
          [
           "None None None None None None None None None None None None"
          ],
          [
           "None None None None None None None None None None None None"
          ],
          [
           "None None None None None None None None None None None None"
          ],
          [
           "None None None None None None None None None None None None"
          ],
          [
           "None None None None None None None None None None None None"
          ],
          [
           "None None None None None None None None None None None None"
          ],
          [
           "None None None None None None None None None None None None"
          ],
          [
           "None None None None None None None None None None None None"
          ],
          [
           "None None None None None None None None None None None None"
          ],
          [
           "None None None None None None None None None None None None"
          ],
          [
           "START BRUSH None None None None None None None None None None"
          ],
          [
           "None None None None None None None None None None None None"
          ],
          [
           "None None None None None None None None None None None None"
          ],
          [
           "None None None None None None None None None None None None"
          ],
          [
           "None None None None None None None None None None None None"
          ],
          [
           "OFFSET BRUSH None None None None None None None None None None"
          ],
          [
           "None None None None None None None None None None None None"
          ],
          [
           "None None None None None None None None None None None None"
          ],
          [
           "LM None None None None None None None None None None None"
          ],
          [
           "GRAVEL DRIVEWAY None None None None None None None None None None"
          ],
          [
           "None None None None None None None None None None None None"
          ],
          [
           "None None None None None None None None None None None None"
          ],
          [
           "END GRAVEL DRIVEWAY None None None None None None None None None"
          ],
          [
           "None None None None None None None None None None None None"
          ],
          [
           "None None None None None None None None None None None None"
          ],
          [
           "None None None None None None None None None None None None"
          ],
          [
           "None None None None None None None None None None None None"
          ],
          [
           "None None None None None None None None None None None None"
          ],
          [
           "START DRIVEWAY None None None None None None None None None None"
          ],
          [
           "None None None None None None None None None None None None"
          ],
          [
           "END DRIVEWAY None None None None None None None None None None"
          ],
          [
           "None None None None None None None None None None None None"
          ],
          [
           "BUSH LINE None None None None None None None None None None"
          ],
          [
           "None None None None None None None None None None None None"
          ],
          [
           "None None None None None None None None None None None None"
          ],
          [
           "None None None None None None None None None None None None"
          ],
          [
           "None None None None None None None None None None None None"
          ],
          [
           "START DRIVEWAY None None None None None None None None None None"
          ],
          [
           "None None None None None None None None None None None None"
          ],
          [
           "None None None None None None None None None None None None"
          ],
          [
           "END DRIVEWAY None None None None None None None None None None"
          ],
          [
           "None None None None None None None None None None None None"
          ],
          [
           "None None None None None None None None None None None None"
          ],
          [
           "None None None None None None None None None None None None"
          ],
          [
           "None None None None None None None None None None None None"
          ],
          [
           "None None None None None None None None None None None None"
          ],
          [
           "None None None None None None None None None None None None"
          ],
          [
           "None None None None None None None None None None None None"
          ],
          [
           "None None None None None None None None None None None None"
          ],
          [
           "None None None None None None None None None None None None"
          ],
          [
           "None None None None None None None None None None None None"
          ],
          [
           "None None None None None None None None None None None None"
          ],
          [
           "None None None None None None None None None None None None"
          ],
          [
           "START DRIVEWAY None None None None None None None None None None"
          ],
          [
           "None None None None None None None None None None None None"
          ],
          [
           "None None None None None None None None None None None None"
          ],
          [
           "END DRIVEWAY None None None None None None None None None None"
          ],
          [
           "None None None None None None None None None None None None"
          ],
          [
           "None None None None None None None None None None None None"
          ],
          [
           "None None None None None None None None None None None None"
          ],
          [
           "PAVED ROAD START None None None None None None None None None"
          ],
          [
           "None None None None None None None None None None None None"
          ],
          [
           "None None None None None None None None None None None None"
          ],
          [
           "None None None None None None None None None None None None"
          ],
          [
           "EDGE PAVED ROAD None None None None None None None None None"
          ],
          [
           "LM None None None None None None None None None None None"
          ],
          [
           "None None None None None None None None None None None None"
          ],
          [
           "None None None None None None None None None None None None"
          ],
          [
           "None None None None None None None None None None None None"
          ],
          [
           "None None None None None None None None None None None None"
          ],
          [
           "None None None None None None None None None None None None"
          ],
          [
           "None None None None None None None None None None None None"
          ],
          [
           "None None None None None None None None None None None None"
          ],
          [
           "FIREPIT None None None None None None None None None None None"
          ],
          [
           "None None None None None None None None None None None None"
          ],
          [
           "None None None None None None None None None None None None"
          ],
          [
           "END FIREPIT None None None None None None None None None None"
          ],
          [
           "None None None None None None None None None None None None"
          ],
          [
           "None None None None None None None None None None None None"
          ],
          [
           "None None None None None None None None None None None None"
          ],
          [
           "None None None None None None None None None None None None"
          ],
          [
           "None None None None None None None None None None None None"
          ],
          [
           "None None None None None None None None None None None None"
          ],
          [
           "BUSH LINE None None None None None None None None None None"
          ],
          [
           "None None None None None None None None None None None None"
          ],
          [
           "None None None None None None None None None None None None"
          ],
          [
           "None None None None None None None None None None None None"
          ],
          [
           "None None None None None None None None None None None None"
          ],
          [
           "None None None None None None None None None None None None"
          ],
          [
           "None None None None None None None None None None None None"
          ],
          [
           "None None None None None None None None None None None None"
          ],
          [
           "None None None None None None None None None None None None"
          ],
          [
           "None None None None None None None None None None None None"
          ],
          [
           "None None None None None None None None None None None None"
          ],
          [
           "None None None None None None None None None None None None"
          ],
          [
           "None None None None None None None None None None None None"
          ],
          [
           "None None None None None None None None None None None None"
          ],
          [
           "None None None None None None None None None None None None"
          ],
          [
           "None None None None None None None None None None None None"
          ],
          [
           "None None None None None None None None None None None None"
          ],
          [
           "None None None None None None None None None None None None"
          ],
          [
           "None None None None None None None None None None None None"
          ],
          [
           "None None None None None None None None None None None None"
          ],
          [
           "None None None None None None None None None None None None"
          ],
          [
           "BOULDERS AND TREES None None None None None None None None None"
          ],
          [
           "None None None None None None None None None None None None"
          ],
          [
           "None None None None None None None None None None None None"
          ],
          [
           "None None None None None None None None None None None None"
          ],
          [
           "None None None None None None None None None None None None"
          ],
          [
           "None None None None None None None None None None None None"
          ],
          [
           "None None None None None None None None None None None None"
          ],
          [
           "None None None None None None None None None None None None"
          ],
          [
           "None None None None None None None None None None None None"
          ],
          [
           "None None None None None None None None None None None None"
          ],
          [
           "None None None None None None None None None None None None"
          ],
          [
           "None None None None None None None None None None None None"
          ],
          [
           "None None None None None None None None None None None None"
          ],
          [
           "None None None None None None None None None None None None"
          ],
          [
           "None None None None None None None None None None None None"
          ],
          [
           "None None None None None None None None None None None None"
          ],
          [
           "None None None None None None None None None None None None"
          ],
          [
           "None None None None None None None None None None None None"
          ],
          [
           "None None None None None None None None None None None None"
          ],
          [
           "None None None None None None None None None None None None"
          ],
          [
           "None None None None None None None None None None None None"
          ],
          [
           "None None None None None None None None None None None None"
          ],
          [
           "None None None None None None None None None None None None"
          ],
          [
           "None None None None None None None None None None None None"
          ],
          [
           "None None None None None None None None None None None None"
          ],
          [
           "None None None None None None None None None None None None"
          ],
          [
           "None None None None None None None None None None None None"
          ],
          [
           "None None None None None None None None None None None None"
          ],
          [
           "None None None None None None None None None None None None"
          ],
          [
           "None None None None None None None None None None None None"
          ],
          [
           "None None None None None None None None None None None None"
          ],
          [
           "None None None None None None None None None None None None"
          ],
          [
           "None None None None None None None None None None None None"
          ],
          [
           "None None None None None None None None None None None None"
          ],
          [
           "BRUSH None None None None None None None None None None None"
          ],
          [
           "None None None None None None None None None None None None"
          ],
          [
           "None None None None None None None None None None None None"
          ],
          [
           "None None None None None None None None None None None None"
          ],
          [
           "LM None None None None None None None None None None None"
          ],
          [
           "None None None None None None None None None None None None"
          ],
          [
           "EDGE PAVED ROAD None None None None None None None None None"
          ],
          [
           "None None None None None None None None None None None None"
          ],
          [
           "None None None None None None None None None None None None"
          ],
          [
           "None None None None None None None None None None None None"
          ],
          [
           "None None None None None None None None None None None None"
          ],
          [
           "None None None None None None None None None None None None"
          ],
          [
           "EDGE PAVEMENT None None None None None None None None None None"
          ],
          [
           "None None None None None None None None None None None None"
          ],
          [
           "LM None None None None None None None None None None None"
          ],
          [
           "None None None None None None None None None None None None"
          ],
          [
           "None None None None None None None None None None None None"
          ],
          [
           "None None None None None None None None None None None None"
          ],
          [
           "None None None None None None None None None None None None"
          ],
          [
           "None None None None None None None None None None None None"
          ],
          [
           "None None None None None None None None None None None None"
          ],
          [
           "None None None None None None None None None None None None"
          ],
          [
           "None None None None None None None None None None None None"
          ],
          [
           "None None None None None None None None None None None None"
          ],
          [
           "None None None None None None None None None None None None"
          ],
          [
           "None None None None None None None None None None None None"
          ],
          [
           "None None None None None None None None None None None None"
          ],
          [
           "None None None None None None None None None None None None"
          ],
          [
           "None None None None None None None None None None None None"
          ],
          [
           "WIRE BREAK None None None None None None None None None None"
          ],
          [
           "None None None None None None None None None None None None"
          ],
          [
           "None None None None None None None None None None None None"
          ],
          [
           "None None None None None None None None None None None None"
          ],
          [
           "None None None None None None None None None None None None"
          ],
          [
           "None None None None None None None None None None None None"
          ],
          [
           "None None None None None None None None None None None None"
          ],
          [
           "None None None None None None None None None None None None"
          ],
          [
           "None None None None None None None None None None None None"
          ],
          [
           "None None None None None None None None None None None None"
          ],
          [
           "None None None None None None None None None None None None"
          ],
          [
           "None None None None None None None None None None None None"
          ],
          [
           "None None None None None None None None None None None None"
          ],
          [
           "None None None None None None None None None None None None"
          ],
          [
           "None None None None None None None None None None None None"
          ],
          [
           "None None None None None None None None None None None None"
          ],
          [
           "None None None None None None None None None None None None"
          ],
          [
           "None None None None None None None None None None None None"
          ],
          [
           "None None None None None None None None None None None None"
          ],
          [
           "None None None None None None None None None None None None"
          ],
          [
           "None None None None None None None None None None None None"
          ],
          [
           "None None None None None None None None None None None None"
          ],
          [
           "None None None None None None None None None None None None"
          ],
          [
           "None None None None None None None None None None None None"
          ],
          [
           "None None None None None None None None None None None None"
          ],
          [
           "LM None None None None None None None None None None None"
          ],
          [
           "None None None None None None None None None None None None"
          ],
          [
           "FENCE None None None None None None None None None None None"
          ],
          [
           "None None None None None None None None None None None None"
          ],
          [
           "None None None None None None None None None None None None"
          ],
          [
           "None None None None None None None None None None None None"
          ],
          [
           "None None None None None None None None None None None None"
          ],
          [
           "None None None None None None None None None None None None"
          ],
          [
           "None None None None None None None None None None None None"
          ],
          [
           "None None None None None None None None None None None None"
          ],
          [
           "None None None None None None None None None None None None"
          ],
          [
           "None None None None None None None None None None None None"
          ],
          [
           "None None None None None None None None None None None None"
          ],
          [
           "None None None None None None None None None None None None"
          ],
          [
           "None None None None None None None None None None None None"
          ],
          [
           "None None None None None None None None None None None None"
          ],
          [
           "None None None None None None None None None None None None"
          ],
          [
           "None None None None None None None None None None None None"
          ],
          [
           "None None None None None None None None None None None None"
          ],
          [
           "None None None None None None None None None None None None"
          ],
          [
           "None None None None None None None None None None None None"
          ],
          [
           "None None None None None None None None None None None None"
          ],
          [
           "None None None None None None None None None None None None"
          ],
          [
           "None None None None None None None None None None None None"
          ],
          [
           "None None None None None None None None None None None None"
          ],
          [
           "None None None None None None None None None None None None"
          ],
          [
           "None None None None None None None None None None None None"
          ],
          [
           "None None None None None None None None None None None None"
          ],
          [
           "TREE None None None None None None None None None None None"
          ],
          [
           "None None None None None None None None None None None None"
          ],
          [
           "None None None None None None None None None None None None"
          ],
          [
           "None None None None None None None None None None None None"
          ],
          [
           "None None None None None None None None None None None None"
          ],
          [
           "None None None None None None None None None None None None"
          ],
          [
           "None None None None None None None None None None None None"
          ],
          [
           "None None None None None None None None None None None None"
          ],
          [
           "None None None None None None None None None None None None"
          ],
          [
           "None None None None None None None None None None None None"
          ],
          [
           "None None None None None None None None None None None None"
          ],
          [
           "None None None None None None None None None None None None"
          ],
          [
           "LM None None None None None None None None None None None"
          ],
          [
           "PAVED ROAD None None None None None None None None None None"
          ],
          [
           "None None None None None None None None None None None None"
          ],
          [
           "None None None None None None None None None None None None"
          ],
          [
           "None None None None None None None None None None None None"
          ],
          [
           "END PAVED ROAD None None None None None None None None None"
          ],
          [
           "None None None None None None None None None None None None"
          ],
          [
           "LM None None None None None None None None None None None"
          ],
          [
           "None None None None None None None None None None None None"
          ],
          [
           "None None None None None None None None None None None None"
          ],
          [
           "None None None None None None None None None None None None"
          ],
          [
           "None None None None None None None None None None None None"
          ],
          [
           "None None None None None None None None None None None None"
          ],
          [
           "None None None None None None None None None None None None"
          ],
          [
           "None None None None None None None None None None None None"
          ],
          [
           "None None None None None None None None None None None None"
          ],
          [
           "None None None None None None None None None None None None"
          ],
          [
           "None None None None None None None None None None None None"
          ],
          [
           "None None None None None None None None None None None None"
          ],
          [
           "None None None None None None None None None None None None"
          ],
          [
           "None None None None None None None None None None None None"
          ],
          [
           "None None None None None None None None None None None None"
          ],
          [
           "CLOTHESLINE POLE None None None None None None None None None None"
          ],
          [
           "None None None None None None None None None None None None"
          ],
          [
           "None None None None None None None None None None None None"
          ],
          [
           "None None None None None None None None None None None None"
          ],
          [
           "None None None None None None None None None None None None"
          ],
          [
           "None None None None None None None None None None None None"
          ],
          [
           "None None None None None None None None None None None None"
          ],
          [
           "None None None None None None None None None None None None"
          ],
          [
           "None None None None None None None None None None None None"
          ],
          [
           "None None None None None None None None None None None None"
          ],
          [
           "None None None None None None None None None None None None"
          ],
          [
           "None None None None None None None None None None None None"
          ],
          [
           "GARDEN None None None None None None None None None None None"
          ],
          [
           "None None None None None None None None None None None None"
          ],
          [
           "None None None None None None None None None None None None"
          ],
          [
           "None None None None None None None None None None None None"
          ],
          [
           "None None None None None None None None None None None None"
          ],
          [
           "END GARDEN None None None None None None None None None None"
          ],
          [
           "None None None None None None None None None None None None"
          ],
          [
           "None None None None None None None None None None None None"
          ],
          [
           "None None None None None None None None None None None None"
          ],
          [
           "None None None None None None None None None None None None"
          ],
          [
           "None None None None None None None None None None None None"
          ],
          [
           "None None None None None None None None None None None None"
          ],
          [
           "None None None None None None None None None None None None"
          ],
          [
           "None None None None None None None None None None None None"
          ],
          [
           "None None None None None None None None None None None None"
          ],
          [
           "None None None None None None None None None None None None"
          ],
          [
           "None None None None None None None None None None None None"
          ],
          [
           "None None None None None None None None None None None None"
          ],
          [
           "None None None None None None None None None None None None"
          ],
          [
           "None None None None None None None None None None None None"
          ],
          [
           "None None None None None None None None None None None None"
          ],
          [
           "None None None None None None None None None None None None"
          ],
          [
           "None None None None None None None None None None None None"
          ],
          [
           "None None None None None None None None None None None None"
          ],
          [
           "None None None None None None None None None None None None"
          ],
          [
           "None None None None None None None None None None None None"
          ],
          [
           "None None None None None None None None None None None None"
          ],
          [
           "None None None None None None None None None None None None"
          ],
          [
           "GRAVEL DRIVEWAY None None None None None None None None None None"
          ],
          [
           "None None None None None None None None None None None None"
          ],
          [
           "None None None None None None None None None None None None"
          ],
          [
           "None None None None None None None None None None None None"
          ],
          [
           "None None None None None None None None None None None None"
          ],
          [
           "None None None None None None None None None None None None"
          ],
          [
           "None None None None None None None None None None None None"
          ],
          [
           "None None None None None None None None None None None None"
          ],
          [
           "None None None None None None None None None None None None"
          ],
          [
           "GRASS None None None None None None None None None None None"
          ],
          [
           "None None None None None None None None None None None None"
          ],
          [
           "None None None None None None None None None None None None"
          ],
          [
           "START PAVED ROAD None None None None None None None None None"
          ],
          [
           "None None None None None None None None None None None None"
          ],
          [
           "None None None None None None None None None None None None"
          ],
          [
           "None None None None None None None None None None None None"
          ],
          [
           "EDGE PAVED ROAD None None None None None None None None None"
          ],
          [
           "None None None None None None None None None None None None"
          ],
          [
           "None None None None None None None None None None None None"
          ],
          [
           "TS MP 24.03 , (TPR:FG -1.379V/-0.997V, MIR 0.010V/0.003V, NG -1.353V/-0.964V), (ACV: 1.808V)"
          ],
          [
           "None None None None None None None None None None None None"
          ]
         ],
         "hovertemplate": "Stationing=%{x}<br>OFF=%{y}<br>Comments=%{customdata[0]}<extra></extra>",
         "legendgroup": "",
         "line": {
          "color": "#636efa",
          "dash": "solid"
         },
         "marker": {
          "symbol": "circle"
         },
         "mode": "lines",
         "name": "",
         "orientation": "v",
         "showlegend": false,
         "type": "scatter",
         "x": [
          "0.000",
          "10.000",
          "20.000",
          "30.000",
          "40.000",
          "50.000",
          "60.000",
          "70.000",
          "80.000",
          "90.000",
          "100.000",
          "110.000",
          "120.000",
          "130.000",
          "140.000",
          "150.000",
          "160.000",
          "170.000",
          "180.000",
          "190.000",
          "200.000",
          "210.000",
          "220.000",
          "230.000",
          "240.000",
          "250.000",
          "260.000",
          "270.000",
          "280.000",
          "290.000",
          "300.000",
          "310.000",
          "320.000",
          "330.000",
          "340.000",
          "350.000",
          "360.000",
          "370.000",
          "380.000",
          "390.000",
          "400.000",
          "410.000",
          "420.000",
          "430.000",
          "440.000",
          "450.000",
          "460.000",
          "470.000",
          "480.000",
          "490.000",
          "500.000",
          "510.000",
          "520.000",
          "530.000",
          "540.000",
          "550.000",
          "560.000",
          "570.000",
          "580.000",
          "590.000",
          "600.000",
          "610.000",
          "620.000",
          "630.000",
          "640.000",
          "650.000",
          "660.000",
          "670.000",
          "680.000",
          "690.000",
          "700.000",
          "710.000",
          "720.000",
          "730.000",
          "740.000",
          "750.000",
          "760.000",
          "770.000",
          "780.000",
          "790.000",
          "800.000",
          "810.000",
          "820.000",
          "830.000",
          "840.000",
          "850.000",
          "860.000",
          "870.000",
          "880.000",
          "890.000",
          "900.000",
          "910.000",
          "920.000",
          "930.000",
          "940.000",
          "950.000",
          "960.000",
          "970.000",
          "980.000",
          "990.000",
          "1000.000",
          "1010.000",
          "1020.000",
          "1030.000",
          "1040.000",
          "1050.000",
          "1060.000",
          "1070.000",
          "1080.000",
          "1090.000",
          "1100.000",
          "1110.000",
          "1120.000",
          "1130.000",
          "1140.000",
          "1150.000",
          "1160.000",
          "1170.000",
          "1180.000",
          "1190.000",
          "1200.000",
          "1210.000",
          "1220.000",
          "1230.000",
          "1240.000",
          "1250.000",
          "1260.000",
          "1270.000",
          "1280.000",
          "1290.000",
          "1300.000",
          "1310.000",
          "1320.000",
          "1330.000",
          "1340.000",
          "1350.000",
          "1360.000",
          "1370.000",
          "1380.000",
          "1390.000",
          "1400.000",
          "1410.000",
          "1420.000",
          "1430.000",
          "1440.000",
          "1450.000",
          "1460.000",
          "1470.000",
          "1480.000",
          "1490.000",
          "1500.000",
          "1510.000",
          "1520.000",
          "1530.000",
          "1540.000",
          "1550.000",
          "1560.000",
          "1570.000",
          "1580.000",
          "1590.000",
          "1600.000",
          "1610.000",
          "1620.000",
          "1630.000",
          "1640.000",
          "1650.000",
          "1660.000",
          "1670.000",
          "1680.000",
          "1690.000",
          "1700.000",
          "1710.000",
          "1720.000",
          "1730.000",
          "1740.000",
          "1750.000",
          "1760.000",
          "1770.000",
          "1780.000",
          "1790.000",
          "1800.000",
          "1810.000",
          "1820.000",
          "1830.000",
          "1840.000",
          "1850.000",
          "1860.000",
          "1870.000",
          "1880.000",
          "1890.000",
          "1900.000",
          "1910.000",
          "1920.000",
          "1930.000",
          "1940.000",
          "1950.000",
          "1960.000",
          "1970.000",
          "1980.000",
          "1990.000",
          "2000.000",
          "2010.000",
          "2020.000",
          "2030.000",
          "2040.000",
          "2050.000",
          "2060.000",
          "2070.000",
          "2080.000",
          "2090.000",
          "2100.000",
          "2110.000",
          "2120.000",
          "2130.000",
          "2140.000",
          "2150.000",
          "2160.000",
          "2170.000",
          "2180.000",
          "2190.000",
          "2200.000",
          "2210.000",
          "2220.000",
          "2230.000",
          "2240.000",
          "2250.000",
          "2260.000",
          "2270.000",
          "2280.000",
          "2290.000",
          "2300.000",
          "2310.000",
          "2320.000",
          "2330.000",
          "2340.000",
          "2350.000",
          "2360.000",
          "2370.000",
          "2380.000",
          "2390.000",
          "2400.000",
          "2410.000",
          "2420.000",
          "2430.000",
          "2440.000",
          "2450.000",
          "2460.000",
          "2470.000",
          "2480.000",
          "2490.000",
          "2500.000",
          "2510.000",
          "2520.000",
          "2530.000",
          "2540.000",
          "2550.000",
          "2560.000",
          "2570.000",
          "2580.000",
          "2590.000",
          "2600.000",
          "2610.000",
          "2620.000",
          "2630.000",
          "2640.000",
          "2650.000",
          "2660.000",
          "2670.000",
          "2680.000",
          "2690.000",
          "2700.000",
          "2710.000",
          "2720.000",
          "2730.000",
          "2740.000",
          "2750.000",
          "2760.000",
          "2770.000",
          "2780.000",
          "2790.000",
          "2800.000",
          "2810.000",
          "2820.000",
          "2830.000",
          "2840.000",
          "2850.000",
          "2860.000",
          "2870.000",
          "2880.000",
          "2890.000",
          "2900.000",
          "2910.000",
          "2920.000",
          "2930.000",
          "2940.000",
          "2950.000",
          "2960.000",
          "2970.000",
          "2980.000",
          "2990.000",
          "3000.000",
          "3010.000",
          "3020.000",
          "3030.000",
          "3040.000",
          "3050.000",
          "3060.000",
          "3070.000",
          "3080.000",
          "3090.000",
          "3100.000",
          "3110.000",
          "3120.000",
          "3130.000",
          "3140.000",
          "3150.000",
          "3160.000",
          "3170.000",
          "3180.000",
          "3190.000",
          "3200.000",
          "3210.000",
          "3220.000",
          "3230.000",
          "3240.000",
          "3250.000",
          "3260.000",
          "3270.000",
          "3280.000",
          "3290.000",
          "3300.000",
          "3310.000",
          "3320.000",
          "3330.000",
          "3340.000",
          "3350.000",
          "3360.000",
          "3370.000",
          "3380.000",
          "3390.000",
          "3400.000",
          "3410.000",
          "3420.000",
          "3430.000",
          "3440.000",
          "3450.000",
          "3460.000",
          "3470.000",
          "3480.000",
          "3490.000",
          "3500.000",
          "3510.000",
          "3520.000",
          "3530.000",
          "3540.000",
          "3550.000",
          "3560.000",
          "3570.000",
          "3580.000",
          "3590.000",
          "3600.000",
          "3610.000",
          "3620.000",
          "3630.000",
          "3640.000",
          "3650.000",
          "3660.000",
          "3670.000",
          "3680.000",
          "3690.000",
          "3700.000",
          "3710.000",
          "3720.000",
          "3730.000",
          "3740.000",
          "3750.000",
          "3760.000",
          "3770.000",
          "3780.000",
          "3790.000",
          "3800.000",
          "3810.000",
          "3820.000",
          "3830.000",
          "3840.000",
          "3850.000",
          "3860.000",
          "3870.000",
          "3880.000",
          "3890.000",
          "3900.000",
          "3910.000",
          "3920.000",
          "3930.000",
          "3940.000",
          "3950.000",
          "3960.000",
          "3970.000",
          "3980.000",
          "3990.000",
          "4000.000",
          "4010.000",
          "4020.000",
          "4030.000",
          "4040.000",
          "4050.000",
          "4060.000",
          "4070.000",
          "4080.000",
          "4090.000",
          "4100.000",
          "4110.000",
          "4120.000",
          "4130.000",
          "4140.000",
          "4150.000",
          "4160.000",
          "4170.000",
          "4180.000",
          "4190.000",
          "4200.000",
          "4210.000",
          "4220.000",
          "4230.000",
          "4240.000",
          "4250.000",
          "4260.000",
          "4270.000",
          "4280.000",
          "4290.000",
          "4300.000",
          "4310.000",
          "4320.000",
          "4330.000",
          "4340.000",
          "4350.000",
          "4360.000",
          "4370.000",
          "4380.000",
          "4390.000",
          "4400.000",
          "4410.000",
          "4420.000",
          "4430.000",
          "4440.000",
          "4450.000",
          "4460.000",
          "4470.000",
          "4480.000",
          "4490.000",
          "4500.000",
          "4510.000",
          "4520.000",
          "4530.000",
          "4540.000",
          "4550.000",
          "4560.000",
          "4570.000",
          "4580.000",
          "4590.000",
          "4600.000",
          "4610.000",
          "4620.000",
          "4630.000",
          "4640.000",
          "4650.000",
          "4660.000",
          "4670.000",
          "4680.000",
          "4690.000",
          "4700.000",
          "4710.000",
          "4720.000",
          "4730.000",
          "4740.000",
          "4750.000",
          "4760.000",
          "4770.000",
          "4780.000",
          "4790.000",
          "4800.000",
          "4810.000",
          "4820.000",
          "4830.000",
          "4840.000",
          "4850.000",
          "4860.000",
          "4870.000",
          "4880.000",
          "4890.000",
          "4900.000",
          "4910.000",
          "4920.000",
          "4930.000",
          "4940.000",
          "4950.000",
          "4960.000",
          "4970.000",
          "4980.000",
          "4990.000",
          "5000.000",
          "5010.000",
          "5020.000",
          "5030.000",
          "5040.000",
          "5050.000",
          "5060.000",
          "5070.000",
          "5080.000",
          "5090.000",
          "5100.000",
          "5110.000",
          "5120.000",
          "5130.000",
          "5140.000",
          "5150.000",
          "5160.000",
          "5170.000",
          "5180.000",
          "5190.000",
          "5200.000",
          "5210.000",
          "5220.000",
          "5230.000",
          "5240.000",
          "5250.000",
          "5260.000",
          "5270.000",
          "5280.000",
          "5290.000",
          "5300.000",
          "5310.000",
          "5320.000",
          "5330.000",
          "5340.000",
          "5350.000",
          "5360.000",
          "5370.000",
          "5380.000",
          "5390.000",
          "5400.000",
          "5410.000",
          "5420.000",
          "5430.000",
          "5440.000",
          "5450.000",
          "5460.000",
          "5470.000",
          "5480.000",
          "5490.000",
          "5500.000",
          "5510.000",
          "5520.000",
          "5530.000",
          "5540.000",
          "5550.000",
          "5560.000",
          "5570.000",
          "5580.000",
          "5590.000",
          "5600.000",
          "5610.000",
          "5620.000",
          "5630.000",
          "5640.000",
          "5650.000",
          "5660.000",
          "5670.000",
          "5680.000",
          "5690.000",
          "5700.000",
          "5710.000",
          "5720.000",
          "5730.000",
          "5740.000",
          "5750.000",
          "End"
         ],
         "xaxis": "x",
         "y": [
          "-0.9540",
          "-0.9570",
          "-0.9450",
          "-0.9450",
          "-0.9690",
          "-0.9690",
          "-0.9580",
          "-0.9690",
          "-0.9600",
          "-0.9600",
          "-0.9600",
          "-0.9900",
          "-0.9900",
          "-0.9890",
          "-0.9980",
          "-0.9980",
          "-0.9780",
          "-0.9780",
          "-0.9710",
          "-0.9710",
          "-0.9710",
          "-7.4310",
          "-7.4310",
          "-7.4310",
          "-0.9740",
          "-0.9680",
          "-0.9630",
          "-0.9630",
          "-0.9650",
          "-0.9650",
          "-0.9960",
          "-0.2270",
          "-0.2270",
          "-0.2270",
          "-0.2270",
          "-0.2270",
          "0.7420",
          "0.7420",
          "0.7420",
          "0.7420",
          "0.7420",
          "0.7420",
          "-0.9980",
          "-0.9980",
          "-0.9850",
          "-0.9850",
          "-0.9850",
          "-0.9740",
          "-0.9780",
          "-0.9770",
          "-0.9770",
          "-0.9610",
          "-0.9610",
          "-0.9470",
          "-0.9470",
          "-0.9280",
          "-0.9280",
          "-0.9280",
          "-0.9300",
          "-0.9300",
          "-0.9330",
          "-0.9550",
          "-0.9590",
          "-0.9590",
          "-0.9560",
          "-0.9560",
          "-0.9720",
          "-0.9720",
          "-0.9740",
          "-0.9740",
          "-0.9770",
          "-0.9770",
          "-0.9770",
          "-0.9850",
          "-0.9850",
          "-0.9780",
          "-0.9820",
          "-0.9830",
          "-0.9910",
          "-0.9910",
          "-0.9970",
          "-0.9950",
          "-0.9950",
          "-0.9920",
          "-0.9950",
          "-0.9910",
          "-0.9910",
          "-1.0000",
          "-0.9950",
          "-0.9910",
          "-0.9910",
          "-0.9810",
          "-0.9810",
          "-0.9820",
          "-0.9820",
          "-0.9710",
          "-0.9710",
          "-1.0000",
          "-1.0000",
          "-0.9750",
          "-0.9750",
          "-0.9780",
          "-1.0040",
          "-0.9900",
          "-0.9900",
          "-0.9830",
          "-0.9660",
          "-0.9730",
          "-0.9730",
          "-0.9680",
          "-0.9640",
          "-0.9640",
          "-0.9550",
          "-0.9490",
          "-0.9490",
          "-0.9680",
          "-0.9790",
          "-0.9790",
          "-0.9590",
          "-0.9590",
          "-0.9600",
          "-0.9600",
          "-0.9630",
          "-0.9840",
          "-0.9840",
          "-0.9810",
          "-0.9810",
          "-0.9770",
          "-0.9760",
          "-0.9760",
          "-0.9830",
          "-0.9830",
          "-0.9730",
          "-0.9730",
          "-0.9720",
          "-0.9720",
          "-0.9790",
          "-0.9790",
          "-0.9770",
          "-0.9880",
          "-0.9880",
          "-1.0210",
          "-1.0210",
          "0.3180",
          "0.3180",
          "0.3180",
          "-1.1100",
          "-0.9940",
          "-0.9900",
          "-0.9900",
          "-0.9670",
          "-0.9960",
          "-0.9800",
          "-0.1540",
          "-0.1540",
          "-0.1540",
          "-0.9800",
          "-0.9780",
          "-0.9780",
          "-0.9700",
          "-0.9700",
          "-1.0120",
          "-1.0120",
          "-0.9840",
          "-0.9800",
          "-0.9800",
          "-0.9800",
          "-0.9790",
          "-0.9790",
          "-0.9490",
          "-0.9450",
          "-0.9450",
          "-0.9420",
          "-0.9420",
          "-0.9520",
          "-0.9520",
          "-0.9730",
          "-0.9760",
          "-0.9760",
          "-0.9370",
          "-0.9330",
          "-0.9330",
          "-0.9450",
          "-0.9940",
          "-0.9940",
          "-1.0100",
          "-0.9930",
          "-0.9690",
          "-0.9690",
          "-1.0220",
          "-0.9730",
          "-0.9730",
          "-0.9300",
          "-0.9600",
          "-0.9600",
          "-0.9880",
          "-0.9920",
          "-0.9920",
          "-0.9740",
          "-0.9750",
          "-0.9850",
          "-0.9850",
          "-0.9750",
          "-0.9980",
          "-0.9980",
          "-1.0060",
          "-1.0060",
          "-1.0290",
          "-1.0120",
          "-1.0120",
          "-0.9780",
          "-0.9780",
          "-0.9720",
          "-0.9630",
          "-0.9630",
          "-0.9990",
          "-0.9990",
          "-0.9440",
          "-0.9920",
          "-0.9990",
          "-0.9890",
          "-1.0050",
          "-0.9780",
          "-0.9780",
          "-1.0150",
          "-1.0170",
          "-0.9900",
          "-0.9980",
          "-0.9890",
          "-0.9680",
          "-0.9640",
          "-0.9640",
          "-0.9710",
          "-0.9710",
          "-0.9590",
          "-0.9590",
          "-0.9640",
          "-0.9640",
          "-0.9970",
          "-0.9970",
          "-0.9630",
          "-0.9500",
          "-0.9500",
          "-0.9790",
          "-0.9790",
          "-0.9920",
          "-0.9920",
          "-1.0070",
          "-0.9930",
          "0.3810",
          "-0.9680",
          "-0.9570",
          "-0.9450",
          "-0.9550",
          "-0.9950",
          "-0.9680",
          "-0.9560",
          "-0.9560",
          "-0.9560",
          "-0.9630",
          "-0.9630",
          "-0.9360",
          "-0.9360",
          "-0.9510",
          "-0.9510",
          "-0.9370",
          "-0.9370",
          "-0.9570",
          "-0.9570",
          "-0.9430",
          "-0.9430",
          "-0.9210",
          "-0.9210",
          "-0.9460",
          "-0.9760",
          "-0.9760",
          "-0.9680",
          "-0.9730",
          "-0.9670",
          "-0.9670",
          "-0.9700",
          "-0.9680",
          "-0.9780",
          "-0.9780",
          "-0.9780",
          "-0.9650",
          "-0.9650",
          "-0.9600",
          "-0.9600",
          "-0.9610",
          "-0.9610",
          "-0.9670",
          "-0.9660",
          "-0.9710",
          "-0.9410",
          "-0.9410",
          "-0.9530",
          "-0.9530",
          "-0.9730",
          "-0.9730",
          "-0.9510",
          "0.1740",
          "-0.9650",
          "-0.9650",
          "-0.9700",
          "-0.9700",
          "-0.9700",
          "-0.9600",
          "-0.9390",
          "-0.9390",
          "-0.9400",
          "-0.9400",
          "-0.9320",
          "-0.9360",
          "-0.9360",
          "-0.9400",
          "-0.9400",
          "-1.8770",
          "-0.9570",
          "-0.9570",
          "-0.9680",
          "-1.0130",
          "-1.0240",
          "0.4580",
          "0.4580",
          "0.4580",
          "-1.0000",
          "-1.0000",
          "-0.9770",
          "-0.9780",
          "-0.9780",
          "-0.9450",
          "-0.9520",
          "-0.9520",
          "-0.9400",
          "-0.9400",
          "-0.9950",
          "-0.9950",
          "-0.9620",
          "-0.9620",
          "-0.9620",
          "-0.9530",
          "-0.9530",
          "-0.9760",
          "-0.9760",
          "-0.9640",
          "-0.9560",
          "-0.9400",
          "-0.9400",
          "-0.9400",
          "-0.9640",
          "-0.9520",
          "-0.9520",
          "-0.9600",
          "-0.9600",
          "-0.9560",
          "-0.9560",
          "-0.9420",
          "-0.9420",
          "-0.9540",
          "-0.9540",
          "-0.9520",
          "-0.9520",
          "-0.9640",
          "-0.9640",
          "-0.9690",
          "-0.9560",
          "-0.9650",
          "-0.9650",
          "-0.9440",
          "-0.9440",
          "-0.9360",
          "-0.9360",
          "-0.9480",
          "-0.9850",
          "-0.9620",
          "-0.9620",
          "-0.9720",
          "-0.9720",
          "-0.9630",
          "-0.9420",
          "-0.9420",
          "-0.9310",
          "-0.9310",
          "-0.9330",
          "-0.9330",
          "-0.9440",
          "-0.9440",
          "-0.9520",
          "-0.9520",
          "-0.9640",
          "-0.9640",
          "-0.9670",
          "-0.9670",
          "-0.9670",
          "-0.9670",
          "-0.9540",
          "-0.9540",
          "-0.9610",
          "-0.9610",
          "-0.9670",
          "-0.9670",
          "-0.9930",
          "-0.9960",
          "-0.9960",
          "-0.9990",
          "-0.9990",
          "1.1220",
          "1.1220",
          "0.4090",
          "0.4090",
          "0.4090",
          "-0.9620",
          "-0.9620",
          "-0.9760",
          "-0.9760",
          "-0.9780",
          "-0.9780",
          "-0.9650",
          "-0.9650",
          "-0.9380",
          "-0.9380",
          "-0.9050",
          "-0.9050",
          "-0.9420",
          "-0.9420",
          "-0.9320",
          "-0.9320",
          "-0.9320",
          "-0.9540",
          "-0.9460",
          "-0.9460",
          "-0.9440",
          "-0.9440",
          "-0.9560",
          "-0.9510",
          "-0.9510",
          "-0.9720",
          "-0.9720",
          "-0.9730",
          "-0.9730",
          "-0.9890",
          "-0.9720",
          "-0.9720",
          "-0.9850",
          "-0.9850",
          "-0.9790",
          "-0.9790",
          "-0.9690",
          "-0.9690",
          "-0.9730",
          "-0.9730",
          "-0.9880",
          "-0.9880",
          "-1.0000",
          "-0.9990",
          "-0.9950",
          "-0.9950",
          "-0.9970",
          "-0.9970",
          "-0.9690",
          "-0.9690",
          "-0.9560",
          "-0.9560",
          "-0.9760",
          "-0.9760",
          "-0.9440",
          "-0.9440",
          "-0.9800",
          "-0.9800",
          "-0.9720",
          "-0.9720",
          "-0.9770",
          "-0.9770",
          "-0.9400",
          "-0.9400",
          "-0.9630",
          "-0.9630",
          "-1.0080",
          "-1.0080",
          "-1.0090",
          "-1.0340",
          "-1.0340",
          "-0.9880",
          "-0.9670",
          "-0.9670",
          "-0.9670",
          "-0.9430",
          "-0.9770",
          "-0.9770",
          "-0.9490",
          "-0.9490",
          "-0.9610",
          "-0.9610",
          "-1.0130",
          "-1.0260",
          "0.0870",
          "0.0870",
          "0.0870",
          "-1.0110",
          "-1.0180",
          "-1.0180",
          "-1.0230",
          "-1.0230",
          "-0.9340",
          "-0.9340",
          "-0.9690",
          "-0.9690",
          "-0.9230",
          "-0.9690",
          "-0.9690",
          "-0.9630",
          "-0.9630",
          "-0.9510",
          "-0.9460",
          "-0.9460",
          "-0.9370",
          "-0.9370",
          "-0.9230",
          "-0.9230",
          "-0.9430",
          "-0.9430",
          "-0.9430",
          "-0.9580",
          "-0.9580",
          "-0.9020",
          "-0.9020",
          "-0.9480",
          "-0.9480",
          "-0.9720",
          "-0.9720",
          "-0.9800",
          "-0.9800",
          "-0.9800",
          "-0.9670",
          "-0.9670",
          "-0.9350",
          "-0.9350",
          "-0.9410",
          "-0.9410",
          "-0.9630",
          "-0.9530",
          "-0.9530",
          "-0.9290",
          "-0.9290",
          "-0.9840",
          "-1.0280",
          "-1.0280",
          "-0.9920",
          "-0.9580",
          "-0.9580",
          "-0.9090",
          "-0.9090",
          "-1.0130",
          "-1.0130",
          "-1.0240",
          "-1.0480",
          "-1.0480",
          "-1.0200",
          "-0.9590",
          "-1.0610",
          "-1.0610",
          "-1.0590",
          "-1.0120",
          "-1.0120",
          "-1.0040",
          "-1.0040",
          "-1.0150",
          "-1.0150",
          "0.2680",
          "0.2680",
          "0.2680",
          "-1.0270",
          "-0.9400",
          "-0.9400",
          "-0.9660",
          null
         ],
         "yaxis": "y"
        },
        {
         "name": "ON",
         "type": "scatter",
         "x": [
          "0.000",
          "10.000",
          "20.000",
          "30.000",
          "40.000",
          "50.000",
          "60.000",
          "70.000",
          "80.000",
          "90.000",
          "100.000",
          "110.000",
          "120.000",
          "130.000",
          "140.000",
          "150.000",
          "160.000",
          "170.000",
          "180.000",
          "190.000",
          "200.000",
          "210.000",
          "220.000",
          "230.000",
          "240.000",
          "250.000",
          "260.000",
          "270.000",
          "280.000",
          "290.000",
          "300.000",
          "310.000",
          "320.000",
          "330.000",
          "340.000",
          "350.000",
          "360.000",
          "370.000",
          "380.000",
          "390.000",
          "400.000",
          "410.000",
          "420.000",
          "430.000",
          "440.000",
          "450.000",
          "460.000",
          "470.000",
          "480.000",
          "490.000",
          "500.000",
          "510.000",
          "520.000",
          "530.000",
          "540.000",
          "550.000",
          "560.000",
          "570.000",
          "580.000",
          "590.000",
          "600.000",
          "610.000",
          "620.000",
          "630.000",
          "640.000",
          "650.000",
          "660.000",
          "670.000",
          "680.000",
          "690.000",
          "700.000",
          "710.000",
          "720.000",
          "730.000",
          "740.000",
          "750.000",
          "760.000",
          "770.000",
          "780.000",
          "790.000",
          "800.000",
          "810.000",
          "820.000",
          "830.000",
          "840.000",
          "850.000",
          "860.000",
          "870.000",
          "880.000",
          "890.000",
          "900.000",
          "910.000",
          "920.000",
          "930.000",
          "940.000",
          "950.000",
          "960.000",
          "970.000",
          "980.000",
          "990.000",
          "1000.000",
          "1010.000",
          "1020.000",
          "1030.000",
          "1040.000",
          "1050.000",
          "1060.000",
          "1070.000",
          "1080.000",
          "1090.000",
          "1100.000",
          "1110.000",
          "1120.000",
          "1130.000",
          "1140.000",
          "1150.000",
          "1160.000",
          "1170.000",
          "1180.000",
          "1190.000",
          "1200.000",
          "1210.000",
          "1220.000",
          "1230.000",
          "1240.000",
          "1250.000",
          "1260.000",
          "1270.000",
          "1280.000",
          "1290.000",
          "1300.000",
          "1310.000",
          "1320.000",
          "1330.000",
          "1340.000",
          "1350.000",
          "1360.000",
          "1370.000",
          "1380.000",
          "1390.000",
          "1400.000",
          "1410.000",
          "1420.000",
          "1430.000",
          "1440.000",
          "1450.000",
          "1460.000",
          "1470.000",
          "1480.000",
          "1490.000",
          "1500.000",
          "1510.000",
          "1520.000",
          "1530.000",
          "1540.000",
          "1550.000",
          "1560.000",
          "1570.000",
          "1580.000",
          "1590.000",
          "1600.000",
          "1610.000",
          "1620.000",
          "1630.000",
          "1640.000",
          "1650.000",
          "1660.000",
          "1670.000",
          "1680.000",
          "1690.000",
          "1700.000",
          "1710.000",
          "1720.000",
          "1730.000",
          "1740.000",
          "1750.000",
          "1760.000",
          "1770.000",
          "1780.000",
          "1790.000",
          "1800.000",
          "1810.000",
          "1820.000",
          "1830.000",
          "1840.000",
          "1850.000",
          "1860.000",
          "1870.000",
          "1880.000",
          "1890.000",
          "1900.000",
          "1910.000",
          "1920.000",
          "1930.000",
          "1940.000",
          "1950.000",
          "1960.000",
          "1970.000",
          "1980.000",
          "1990.000",
          "2000.000",
          "2010.000",
          "2020.000",
          "2030.000",
          "2040.000",
          "2050.000",
          "2060.000",
          "2070.000",
          "2080.000",
          "2090.000",
          "2100.000",
          "2110.000",
          "2120.000",
          "2130.000",
          "2140.000",
          "2150.000",
          "2160.000",
          "2170.000",
          "2180.000",
          "2190.000",
          "2200.000",
          "2210.000",
          "2220.000",
          "2230.000",
          "2240.000",
          "2250.000",
          "2260.000",
          "2270.000",
          "2280.000",
          "2290.000",
          "2300.000",
          "2310.000",
          "2320.000",
          "2330.000",
          "2340.000",
          "2350.000",
          "2360.000",
          "2370.000",
          "2380.000",
          "2390.000",
          "2400.000",
          "2410.000",
          "2420.000",
          "2430.000",
          "2440.000",
          "2450.000",
          "2460.000",
          "2470.000",
          "2480.000",
          "2490.000",
          "2500.000",
          "2510.000",
          "2520.000",
          "2530.000",
          "2540.000",
          "2550.000",
          "2560.000",
          "2570.000",
          "2580.000",
          "2590.000",
          "2600.000",
          "2610.000",
          "2620.000",
          "2630.000",
          "2640.000",
          "2650.000",
          "2660.000",
          "2670.000",
          "2680.000",
          "2690.000",
          "2700.000",
          "2710.000",
          "2720.000",
          "2730.000",
          "2740.000",
          "2750.000",
          "2760.000",
          "2770.000",
          "2780.000",
          "2790.000",
          "2800.000",
          "2810.000",
          "2820.000",
          "2830.000",
          "2840.000",
          "2850.000",
          "2860.000",
          "2870.000",
          "2880.000",
          "2890.000",
          "2900.000",
          "2910.000",
          "2920.000",
          "2930.000",
          "2940.000",
          "2950.000",
          "2960.000",
          "2970.000",
          "2980.000",
          "2990.000",
          "3000.000",
          "3010.000",
          "3020.000",
          "3030.000",
          "3040.000",
          "3050.000",
          "3060.000",
          "3070.000",
          "3080.000",
          "3090.000",
          "3100.000",
          "3110.000",
          "3120.000",
          "3130.000",
          "3140.000",
          "3150.000",
          "3160.000",
          "3170.000",
          "3180.000",
          "3190.000",
          "3200.000",
          "3210.000",
          "3220.000",
          "3230.000",
          "3240.000",
          "3250.000",
          "3260.000",
          "3270.000",
          "3280.000",
          "3290.000",
          "3300.000",
          "3310.000",
          "3320.000",
          "3330.000",
          "3340.000",
          "3350.000",
          "3360.000",
          "3370.000",
          "3380.000",
          "3390.000",
          "3400.000",
          "3410.000",
          "3420.000",
          "3430.000",
          "3440.000",
          "3450.000",
          "3460.000",
          "3470.000",
          "3480.000",
          "3490.000",
          "3500.000",
          "3510.000",
          "3520.000",
          "3530.000",
          "3540.000",
          "3550.000",
          "3560.000",
          "3570.000",
          "3580.000",
          "3590.000",
          "3600.000",
          "3610.000",
          "3620.000",
          "3630.000",
          "3640.000",
          "3650.000",
          "3660.000",
          "3670.000",
          "3680.000",
          "3690.000",
          "3700.000",
          "3710.000",
          "3720.000",
          "3730.000",
          "3740.000",
          "3750.000",
          "3760.000",
          "3770.000",
          "3780.000",
          "3790.000",
          "3800.000",
          "3810.000",
          "3820.000",
          "3830.000",
          "3840.000",
          "3850.000",
          "3860.000",
          "3870.000",
          "3880.000",
          "3890.000",
          "3900.000",
          "3910.000",
          "3920.000",
          "3930.000",
          "3940.000",
          "3950.000",
          "3960.000",
          "3970.000",
          "3980.000",
          "3990.000",
          "4000.000",
          "4010.000",
          "4020.000",
          "4030.000",
          "4040.000",
          "4050.000",
          "4060.000",
          "4070.000",
          "4080.000",
          "4090.000",
          "4100.000",
          "4110.000",
          "4120.000",
          "4130.000",
          "4140.000",
          "4150.000",
          "4160.000",
          "4170.000",
          "4180.000",
          "4190.000",
          "4200.000",
          "4210.000",
          "4220.000",
          "4230.000",
          "4240.000",
          "4250.000",
          "4260.000",
          "4270.000",
          "4280.000",
          "4290.000",
          "4300.000",
          "4310.000",
          "4320.000",
          "4330.000",
          "4340.000",
          "4350.000",
          "4360.000",
          "4370.000",
          "4380.000",
          "4390.000",
          "4400.000",
          "4410.000",
          "4420.000",
          "4430.000",
          "4440.000",
          "4450.000",
          "4460.000",
          "4470.000",
          "4480.000",
          "4490.000",
          "4500.000",
          "4510.000",
          "4520.000",
          "4530.000",
          "4540.000",
          "4550.000",
          "4560.000",
          "4570.000",
          "4580.000",
          "4590.000",
          "4600.000",
          "4610.000",
          "4620.000",
          "4630.000",
          "4640.000",
          "4650.000",
          "4660.000",
          "4670.000",
          "4680.000",
          "4690.000",
          "4700.000",
          "4710.000",
          "4720.000",
          "4730.000",
          "4740.000",
          "4750.000",
          "4760.000",
          "4770.000",
          "4780.000",
          "4790.000",
          "4800.000",
          "4810.000",
          "4820.000",
          "4830.000",
          "4840.000",
          "4850.000",
          "4860.000",
          "4870.000",
          "4880.000",
          "4890.000",
          "4900.000",
          "4910.000",
          "4920.000",
          "4930.000",
          "4940.000",
          "4950.000",
          "4960.000",
          "4970.000",
          "4980.000",
          "4990.000",
          "5000.000",
          "5010.000",
          "5020.000",
          "5030.000",
          "5040.000",
          "5050.000",
          "5060.000",
          "5070.000",
          "5080.000",
          "5090.000",
          "5100.000",
          "5110.000",
          "5120.000",
          "5130.000",
          "5140.000",
          "5150.000",
          "5160.000",
          "5170.000",
          "5180.000",
          "5190.000",
          "5200.000",
          "5210.000",
          "5220.000",
          "5230.000",
          "5240.000",
          "5250.000",
          "5260.000",
          "5270.000",
          "5280.000",
          "5290.000",
          "5300.000",
          "5310.000",
          "5320.000",
          "5330.000",
          "5340.000",
          "5350.000",
          "5360.000",
          "5370.000",
          "5380.000",
          "5390.000",
          "5400.000",
          "5410.000",
          "5420.000",
          "5430.000",
          "5440.000",
          "5450.000",
          "5460.000",
          "5470.000",
          "5480.000",
          "5490.000",
          "5500.000",
          "5510.000",
          "5520.000",
          "5530.000",
          "5540.000",
          "5550.000",
          "5560.000",
          "5570.000",
          "5580.000",
          "5590.000",
          "5600.000",
          "5610.000",
          "5620.000",
          "5630.000",
          "5640.000",
          "5650.000",
          "5660.000",
          "5670.000",
          "5680.000",
          "5690.000",
          "5700.000",
          "5710.000",
          "5720.000",
          "5730.000",
          "5740.000",
          "5750.000",
          "End"
         ],
         "y": [
          "-1.2960",
          "-1.3010",
          "-1.3010",
          "-1.3010",
          "-1.3080",
          "-1.3120",
          "-1.3120",
          "-1.3190",
          "-1.2690",
          "-1.2690",
          "-1.3320",
          "-1.3320",
          "-1.3320",
          "-1.3550",
          "-1.3550",
          "-1.3550",
          "-1.3440",
          "-1.3520",
          "-1.3520",
          "-1.3520",
          "0.1520",
          "0.1520",
          "0.1520",
          "0.1520",
          "-1.3410",
          "-1.3340",
          "-1.3370",
          "-1.3240",
          "-1.3240",
          "-1.3240",
          "-1.3270",
          "0.0350",
          "0.0350",
          "0.0350",
          "0.0350",
          "0.1320",
          "0.1320",
          "0.1320",
          "0.1320",
          "0.1320",
          "0.1320",
          "0.9100",
          "-1.3460",
          "-1.3460",
          "-1.3470",
          "-1.3470",
          "-1.3320",
          "-1.3320",
          "-1.3530",
          "-1.3310",
          "-1.3390",
          "-1.3290",
          "-1.3290",
          "-1.3180",
          "-1.3180",
          "-1.3040",
          "-1.3040",
          "-1.3220",
          "-1.3220",
          "-1.3090",
          "-1.3090",
          "-1.3180",
          "-1.3270",
          "-1.3350",
          "-1.3350",
          "-1.3540",
          "-1.3540",
          "-1.3540",
          "-1.3630",
          "-1.3630",
          "-1.3710",
          "-1.3710",
          "-1.3710",
          "-1.3710",
          "-1.3710",
          "-1.3640",
          "-1.3490",
          "-1.3610",
          "-1.3790",
          "-1.3830",
          "-1.3630",
          "-1.3630",
          "-1.3690",
          "-1.3860",
          "-1.3860",
          "-1.3730",
          "-1.3700",
          "-1.3770",
          "-1.3750",
          "-1.3750",
          "-1.3320",
          "-1.3320",
          "-1.3490",
          "-1.3490",
          "-1.3450",
          "-1.3450",
          "-1.3930",
          "-1.3750",
          "-1.3570",
          "-1.3570",
          "-1.3440",
          "-1.3440",
          "-1.3670",
          "-1.3670",
          "-1.3670",
          "-1.3520",
          "-1.3390",
          "-1.3560",
          "-1.3390",
          "-1.3390",
          "-1.3480",
          "-1.3230",
          "-1.3230",
          "-1.3140",
          "-1.3380",
          "-1.3380",
          "-1.3440",
          "-1.3440",
          "-1.3560",
          "-1.3490",
          "-1.3490",
          "-1.3350",
          "-1.3350",
          "-1.3540",
          "-1.3630",
          "-1.3630",
          "-1.3700",
          "-1.3700",
          "-1.3650",
          "-1.3650",
          "-1.3630",
          "-1.3650",
          "-1.3680",
          "-1.3680",
          "-1.3630",
          "-1.3540",
          "-1.3540",
          "-1.3550",
          "-1.3550",
          "-1.3730",
          "-1.3430",
          "-1.3780",
          "-0.1370",
          "-0.1370",
          "-0.1370",
          "0.7290",
          "0.7290",
          "-1.3530",
          "-1.3670",
          "-1.3340",
          "-1.3340",
          "-1.3440",
          "-0.1130",
          "-0.1130",
          "-0.1130",
          "-0.1130",
          "-1.3170",
          "-1.3050",
          "-1.3050",
          "-1.3420",
          "-1.3420",
          "-1.3810",
          "-1.3810",
          "-1.3750",
          "-1.3620",
          "-1.3620",
          "-1.3490",
          "-1.3490",
          "-1.3470",
          "-1.3470",
          "-1.3290",
          "-1.3290",
          "-1.3090",
          "-1.3390",
          "-1.3390",
          "-1.3410",
          "-1.3410",
          "-1.3590",
          "-1.3590",
          "-1.2620",
          "-1.3000",
          "-1.3000",
          "-1.3100",
          "-1.3460",
          "-1.3730",
          "-1.3730",
          "-1.3740",
          "-1.3630",
          "-1.3630",
          "-1.3840",
          "-1.3600",
          "-1.3020",
          "-1.3020",
          "-1.3570",
          "-1.3570",
          "-1.3630",
          "-1.3630",
          "-1.3540",
          "-1.4060",
          "-1.3300",
          "-1.3590",
          "-1.3600",
          "-1.4030",
          "-1.3770",
          "-1.3800",
          "-1.3770",
          "-1.3770",
          "-1.4130",
          "-1.3660",
          "-1.3660",
          "-1.3580",
          "-1.3580",
          "-1.3380",
          "-1.3410",
          "-1.3410",
          "-1.3640",
          "-1.3710",
          "-1.3710",
          "-1.3550",
          "-1.3810",
          "-1.4010",
          "-1.4040",
          "-1.3910",
          "-1.3760",
          "-1.3900",
          "-1.3900",
          "-1.3840",
          "-1.3850",
          "-1.3510",
          "-1.3330",
          "-1.3330",
          "-1.3570",
          "-1.3570",
          "-1.3570",
          "-1.3710",
          "-1.3710",
          "-1.3380",
          "-1.3380",
          "-1.3810",
          "-1.3810",
          "-1.3430",
          "-1.3490",
          "-1.3490",
          "-1.3350",
          "-1.3720",
          "-1.3720",
          "-1.3630",
          "-1.3630",
          "-1.3650",
          "-1.3730",
          "-1.3550",
          "-1.3950",
          "-1.3430",
          "-1.3750",
          "-1.3870",
          "-1.3430",
          "-1.3430",
          "-1.3430",
          "-1.3410",
          "-1.3410",
          "-1.3210",
          "-1.3210",
          "-1.3210",
          "-1.3240",
          "-1.3240",
          "-1.3260",
          "-1.3260",
          "-1.3360",
          "-1.3360",
          "-1.3230",
          "-1.3230",
          "-1.3120",
          "-1.3120",
          "-1.3140",
          "-1.3620",
          "-1.3460",
          "-1.3490",
          "-1.3460",
          "-1.3460",
          "-1.3460",
          "-1.3440",
          "-1.3440",
          "-1.3560",
          "-1.3580",
          "-1.3580",
          "-1.3630",
          "-1.3630",
          "-1.3450",
          "-1.3450",
          "-1.3310",
          "-1.3490",
          "0.0450",
          "-1.3530",
          "-1.3530",
          "-1.3200",
          "-1.3290",
          "-1.3310",
          "-1.3510",
          "-1.3510",
          "-1.3300",
          "-0.1930",
          "-0.1930",
          "-1.3510",
          "-1.3510",
          "-1.3670",
          "-1.3670",
          "-1.3470",
          "-1.3470",
          "-1.3310",
          "-1.3310",
          "-1.3210",
          "-1.3050",
          "-1.3050",
          "-1.3100",
          "-1.3100",
          "-1.3250",
          "-0.2430",
          "-0.2430",
          "-1.3270",
          "-1.3310",
          "-1.3310",
          "-1.3240",
          "-1.3230",
          "-0.0580",
          "-0.0580",
          "-0.0580",
          "-1.3250",
          "-1.3310",
          "-1.3160",
          "-1.3360",
          "-1.3270",
          "-1.3320",
          "-1.3270",
          "-1.3270",
          "-1.3110",
          "-1.3010",
          "-1.3010",
          "-1.3010",
          "-1.2910",
          "-1.2910",
          "-1.3000",
          "-1.3000",
          "-1.3370",
          "-1.3370",
          "-1.3440",
          "-1.3440",
          "-1.3280",
          "-1.3130",
          "-1.3130",
          "-1.3320",
          "-1.3320",
          "-1.3310",
          "-1.3310",
          "-1.3310",
          "-1.3220",
          "-1.3220",
          "-1.3110",
          "-1.3110",
          "-1.3140",
          "-1.3140",
          "-1.3400",
          "-1.3400",
          "-1.3430",
          "-1.3430",
          "-1.3330",
          "-1.3330",
          "-1.3390",
          "-1.3420",
          "-1.3420",
          "-1.3220",
          "-1.3170",
          "-1.3170",
          "-1.3300",
          "-1.3300",
          "-1.3610",
          "-1.3430",
          "-1.3320",
          "-1.3320",
          "-1.3490",
          "-1.3490",
          "-1.3230",
          "-1.3230",
          "-1.3050",
          "-1.3050",
          "-1.2950",
          "-1.2950",
          "-1.3210",
          "-1.3210",
          "-1.3330",
          "-1.3330",
          "-1.3410",
          "-1.3370",
          "-1.3370",
          "-1.3390",
          "-1.3390",
          "-1.3390",
          "-1.3390",
          "-1.3380",
          "-1.3380",
          "-1.3310",
          "-1.3200",
          "-1.3200",
          "-1.3270",
          "-1.3290",
          "-1.3240",
          "-1.2960",
          "-1.2690",
          "-0.0460",
          "-0.1840",
          "-0.1840",
          "-0.1840",
          "0.3650",
          "-1.3200",
          "-1.3200",
          "-1.3420",
          "-1.3420",
          "-1.3430",
          "-1.3430",
          "-1.3480",
          "-1.3480",
          "-1.3190",
          "-1.3190",
          "-1.2870",
          "-1.2870",
          "-1.3070",
          "-1.3070",
          "-1.3210",
          "-1.3210",
          "-1.2930",
          "-1.3350",
          "-1.3350",
          "-1.3350",
          "-1.3160",
          "-1.3280",
          "-1.3280",
          "-1.3370",
          "-1.3370",
          "-1.3480",
          "-1.3690",
          "-1.3690",
          "-1.3600",
          "-1.3600",
          "-1.3680",
          "-1.3680",
          "-1.3690",
          "-1.3690",
          "-1.3530",
          "-1.3520",
          "-1.3520",
          "-1.3490",
          "-1.3490",
          "-1.3550",
          "-1.3550",
          "-1.3960",
          "-1.3960",
          "-1.4050",
          "-1.3720",
          "-1.3660",
          "-1.3640",
          "-1.3670",
          "-1.3670",
          "-1.3350",
          "-1.3350",
          "-1.3500",
          "-1.3500",
          "-1.3400",
          "-1.3400",
          "-1.3680",
          "-1.3680",
          "-1.3680",
          "-1.3680",
          "-1.3750",
          "-1.3750",
          "-1.3410",
          "-1.3410",
          "-1.3320",
          "-1.3320",
          "-1.3830",
          "-1.3830",
          "-1.3990",
          "-1.3690",
          "-1.3660",
          "-1.3660",
          "-1.3840",
          "-1.3390",
          "-1.3390",
          "-1.3310",
          "-1.3310",
          "-1.3620",
          "-1.3620",
          "-1.3540",
          "-1.3540",
          "-1.2880",
          "-1.2880",
          "-1.3530",
          "-1.3790",
          "-1.3950",
          "-1.3950",
          "-1.3950",
          "-1.3730",
          "-1.3730",
          "-1.3860",
          "-1.3860",
          "-1.3570",
          "-1.3570",
          "-1.3250",
          "-1.3250",
          "-1.3110",
          "-1.3110",
          "-1.3220",
          "-1.3220",
          "-1.3630",
          "-1.3340",
          "-1.3340",
          "-1.3500",
          "-1.3500",
          "-1.2950",
          "-1.2480",
          "-1.3000",
          "-1.3000",
          "-1.3120",
          "-1.3120",
          "-1.3470",
          "-1.3470",
          "-1.2960",
          "-1.2960",
          "-1.2960",
          "-1.3260",
          "-1.3510",
          "-1.3510",
          "-1.3510",
          "-1.3830",
          "-1.3830",
          "-1.4060",
          "-1.3580",
          "-1.3300",
          "-1.3300",
          "-1.3340",
          "-1.3340",
          "-1.3290",
          "-1.3290",
          "-1.3410",
          "-1.3190",
          "-1.3190",
          "-1.3840",
          "-1.3840",
          "-1.4020",
          "-1.3680",
          "-1.3680",
          "-1.3610",
          "-1.3610",
          "-1.3160",
          "-1.3160",
          "-1.3740",
          "-1.4290",
          "-1.4290",
          "-1.4280",
          "-1.4280",
          "-1.3880",
          "-1.4220",
          "-1.4220",
          "-1.4450",
          "-1.4000",
          "-1.4000",
          "-1.3580",
          "-1.3580",
          "-1.3580",
          "-1.3940",
          "-1.3920",
          "-1.3920",
          "-1.3920",
          "-1.3920",
          "-1.3520",
          "-1.3520",
          "-1.3520",
          "-1.3340",
          "survey"
         ]
        }
       ],
       "layout": {
        "autotypenumbers": "convert types",
        "legend": {
         "title": {
          "text": "P/S Data"
         },
         "tracegroupgap": 0
        },
        "shapes": [
         {
          "line": {
           "color": "Purple"
          },
          "type": "line",
          "x0": 0,
          "x1": 6000,
          "y0": -0.85,
          "y1": -0.85
         }
        ],
        "template": {
         "data": {
          "bar": [
           {
            "error_x": {
             "color": "#2a3f5f"
            },
            "error_y": {
             "color": "#2a3f5f"
            },
            "marker": {
             "line": {
              "color": "#E5ECF6",
              "width": 0.5
             },
             "pattern": {
              "fillmode": "overlay",
              "size": 10,
              "solidity": 0.2
             }
            },
            "type": "bar"
           }
          ],
          "barpolar": [
           {
            "marker": {
             "line": {
              "color": "#E5ECF6",
              "width": 0.5
             },
             "pattern": {
              "fillmode": "overlay",
              "size": 10,
              "solidity": 0.2
             }
            },
            "type": "barpolar"
           }
          ],
          "carpet": [
           {
            "aaxis": {
             "endlinecolor": "#2a3f5f",
             "gridcolor": "white",
             "linecolor": "white",
             "minorgridcolor": "white",
             "startlinecolor": "#2a3f5f"
            },
            "baxis": {
             "endlinecolor": "#2a3f5f",
             "gridcolor": "white",
             "linecolor": "white",
             "minorgridcolor": "white",
             "startlinecolor": "#2a3f5f"
            },
            "type": "carpet"
           }
          ],
          "choropleth": [
           {
            "colorbar": {
             "outlinewidth": 0,
             "ticks": ""
            },
            "type": "choropleth"
           }
          ],
          "contour": [
           {
            "colorbar": {
             "outlinewidth": 0,
             "ticks": ""
            },
            "colorscale": [
             [
              0,
              "#0d0887"
             ],
             [
              0.1111111111111111,
              "#46039f"
             ],
             [
              0.2222222222222222,
              "#7201a8"
             ],
             [
              0.3333333333333333,
              "#9c179e"
             ],
             [
              0.4444444444444444,
              "#bd3786"
             ],
             [
              0.5555555555555556,
              "#d8576b"
             ],
             [
              0.6666666666666666,
              "#ed7953"
             ],
             [
              0.7777777777777778,
              "#fb9f3a"
             ],
             [
              0.8888888888888888,
              "#fdca26"
             ],
             [
              1,
              "#f0f921"
             ]
            ],
            "type": "contour"
           }
          ],
          "contourcarpet": [
           {
            "colorbar": {
             "outlinewidth": 0,
             "ticks": ""
            },
            "type": "contourcarpet"
           }
          ],
          "heatmap": [
           {
            "colorbar": {
             "outlinewidth": 0,
             "ticks": ""
            },
            "colorscale": [
             [
              0,
              "#0d0887"
             ],
             [
              0.1111111111111111,
              "#46039f"
             ],
             [
              0.2222222222222222,
              "#7201a8"
             ],
             [
              0.3333333333333333,
              "#9c179e"
             ],
             [
              0.4444444444444444,
              "#bd3786"
             ],
             [
              0.5555555555555556,
              "#d8576b"
             ],
             [
              0.6666666666666666,
              "#ed7953"
             ],
             [
              0.7777777777777778,
              "#fb9f3a"
             ],
             [
              0.8888888888888888,
              "#fdca26"
             ],
             [
              1,
              "#f0f921"
             ]
            ],
            "type": "heatmap"
           }
          ],
          "heatmapgl": [
           {
            "colorbar": {
             "outlinewidth": 0,
             "ticks": ""
            },
            "colorscale": [
             [
              0,
              "#0d0887"
             ],
             [
              0.1111111111111111,
              "#46039f"
             ],
             [
              0.2222222222222222,
              "#7201a8"
             ],
             [
              0.3333333333333333,
              "#9c179e"
             ],
             [
              0.4444444444444444,
              "#bd3786"
             ],
             [
              0.5555555555555556,
              "#d8576b"
             ],
             [
              0.6666666666666666,
              "#ed7953"
             ],
             [
              0.7777777777777778,
              "#fb9f3a"
             ],
             [
              0.8888888888888888,
              "#fdca26"
             ],
             [
              1,
              "#f0f921"
             ]
            ],
            "type": "heatmapgl"
           }
          ],
          "histogram": [
           {
            "marker": {
             "pattern": {
              "fillmode": "overlay",
              "size": 10,
              "solidity": 0.2
             }
            },
            "type": "histogram"
           }
          ],
          "histogram2d": [
           {
            "colorbar": {
             "outlinewidth": 0,
             "ticks": ""
            },
            "colorscale": [
             [
              0,
              "#0d0887"
             ],
             [
              0.1111111111111111,
              "#46039f"
             ],
             [
              0.2222222222222222,
              "#7201a8"
             ],
             [
              0.3333333333333333,
              "#9c179e"
             ],
             [
              0.4444444444444444,
              "#bd3786"
             ],
             [
              0.5555555555555556,
              "#d8576b"
             ],
             [
              0.6666666666666666,
              "#ed7953"
             ],
             [
              0.7777777777777778,
              "#fb9f3a"
             ],
             [
              0.8888888888888888,
              "#fdca26"
             ],
             [
              1,
              "#f0f921"
             ]
            ],
            "type": "histogram2d"
           }
          ],
          "histogram2dcontour": [
           {
            "colorbar": {
             "outlinewidth": 0,
             "ticks": ""
            },
            "colorscale": [
             [
              0,
              "#0d0887"
             ],
             [
              0.1111111111111111,
              "#46039f"
             ],
             [
              0.2222222222222222,
              "#7201a8"
             ],
             [
              0.3333333333333333,
              "#9c179e"
             ],
             [
              0.4444444444444444,
              "#bd3786"
             ],
             [
              0.5555555555555556,
              "#d8576b"
             ],
             [
              0.6666666666666666,
              "#ed7953"
             ],
             [
              0.7777777777777778,
              "#fb9f3a"
             ],
             [
              0.8888888888888888,
              "#fdca26"
             ],
             [
              1,
              "#f0f921"
             ]
            ],
            "type": "histogram2dcontour"
           }
          ],
          "mesh3d": [
           {
            "colorbar": {
             "outlinewidth": 0,
             "ticks": ""
            },
            "type": "mesh3d"
           }
          ],
          "parcoords": [
           {
            "line": {
             "colorbar": {
              "outlinewidth": 0,
              "ticks": ""
             }
            },
            "type": "parcoords"
           }
          ],
          "pie": [
           {
            "automargin": true,
            "type": "pie"
           }
          ],
          "scatter": [
           {
            "marker": {
             "colorbar": {
              "outlinewidth": 0,
              "ticks": ""
             }
            },
            "type": "scatter"
           }
          ],
          "scatter3d": [
           {
            "line": {
             "colorbar": {
              "outlinewidth": 0,
              "ticks": ""
             }
            },
            "marker": {
             "colorbar": {
              "outlinewidth": 0,
              "ticks": ""
             }
            },
            "type": "scatter3d"
           }
          ],
          "scattercarpet": [
           {
            "marker": {
             "colorbar": {
              "outlinewidth": 0,
              "ticks": ""
             }
            },
            "type": "scattercarpet"
           }
          ],
          "scattergeo": [
           {
            "marker": {
             "colorbar": {
              "outlinewidth": 0,
              "ticks": ""
             }
            },
            "type": "scattergeo"
           }
          ],
          "scattergl": [
           {
            "marker": {
             "colorbar": {
              "outlinewidth": 0,
              "ticks": ""
             }
            },
            "type": "scattergl"
           }
          ],
          "scattermapbox": [
           {
            "marker": {
             "colorbar": {
              "outlinewidth": 0,
              "ticks": ""
             }
            },
            "type": "scattermapbox"
           }
          ],
          "scatterpolar": [
           {
            "marker": {
             "colorbar": {
              "outlinewidth": 0,
              "ticks": ""
             }
            },
            "type": "scatterpolar"
           }
          ],
          "scatterpolargl": [
           {
            "marker": {
             "colorbar": {
              "outlinewidth": 0,
              "ticks": ""
             }
            },
            "type": "scatterpolargl"
           }
          ],
          "scatterternary": [
           {
            "marker": {
             "colorbar": {
              "outlinewidth": 0,
              "ticks": ""
             }
            },
            "type": "scatterternary"
           }
          ],
          "surface": [
           {
            "colorbar": {
             "outlinewidth": 0,
             "ticks": ""
            },
            "colorscale": [
             [
              0,
              "#0d0887"
             ],
             [
              0.1111111111111111,
              "#46039f"
             ],
             [
              0.2222222222222222,
              "#7201a8"
             ],
             [
              0.3333333333333333,
              "#9c179e"
             ],
             [
              0.4444444444444444,
              "#bd3786"
             ],
             [
              0.5555555555555556,
              "#d8576b"
             ],
             [
              0.6666666666666666,
              "#ed7953"
             ],
             [
              0.7777777777777778,
              "#fb9f3a"
             ],
             [
              0.8888888888888888,
              "#fdca26"
             ],
             [
              1,
              "#f0f921"
             ]
            ],
            "type": "surface"
           }
          ],
          "table": [
           {
            "cells": {
             "fill": {
              "color": "#EBF0F8"
             },
             "line": {
              "color": "white"
             }
            },
            "header": {
             "fill": {
              "color": "#C8D4E3"
             },
             "line": {
              "color": "white"
             }
            },
            "type": "table"
           }
          ]
         },
         "layout": {
          "annotationdefaults": {
           "arrowcolor": "#2a3f5f",
           "arrowhead": 0,
           "arrowwidth": 1
          },
          "autotypenumbers": "strict",
          "coloraxis": {
           "colorbar": {
            "outlinewidth": 0,
            "ticks": ""
           }
          },
          "colorscale": {
           "diverging": [
            [
             0,
             "#8e0152"
            ],
            [
             0.1,
             "#c51b7d"
            ],
            [
             0.2,
             "#de77ae"
            ],
            [
             0.3,
             "#f1b6da"
            ],
            [
             0.4,
             "#fde0ef"
            ],
            [
             0.5,
             "#f7f7f7"
            ],
            [
             0.6,
             "#e6f5d0"
            ],
            [
             0.7,
             "#b8e186"
            ],
            [
             0.8,
             "#7fbc41"
            ],
            [
             0.9,
             "#4d9221"
            ],
            [
             1,
             "#276419"
            ]
           ],
           "sequential": [
            [
             0,
             "#0d0887"
            ],
            [
             0.1111111111111111,
             "#46039f"
            ],
            [
             0.2222222222222222,
             "#7201a8"
            ],
            [
             0.3333333333333333,
             "#9c179e"
            ],
            [
             0.4444444444444444,
             "#bd3786"
            ],
            [
             0.5555555555555556,
             "#d8576b"
            ],
            [
             0.6666666666666666,
             "#ed7953"
            ],
            [
             0.7777777777777778,
             "#fb9f3a"
            ],
            [
             0.8888888888888888,
             "#fdca26"
            ],
            [
             1,
             "#f0f921"
            ]
           ],
           "sequentialminus": [
            [
             0,
             "#0d0887"
            ],
            [
             0.1111111111111111,
             "#46039f"
            ],
            [
             0.2222222222222222,
             "#7201a8"
            ],
            [
             0.3333333333333333,
             "#9c179e"
            ],
            [
             0.4444444444444444,
             "#bd3786"
            ],
            [
             0.5555555555555556,
             "#d8576b"
            ],
            [
             0.6666666666666666,
             "#ed7953"
            ],
            [
             0.7777777777777778,
             "#fb9f3a"
            ],
            [
             0.8888888888888888,
             "#fdca26"
            ],
            [
             1,
             "#f0f921"
            ]
           ]
          },
          "colorway": [
           "#636efa",
           "#EF553B",
           "#00cc96",
           "#ab63fa",
           "#FFA15A",
           "#19d3f3",
           "#FF6692",
           "#B6E880",
           "#FF97FF",
           "#FECB52"
          ],
          "font": {
           "color": "#2a3f5f"
          },
          "geo": {
           "bgcolor": "white",
           "lakecolor": "white",
           "landcolor": "#E5ECF6",
           "showlakes": true,
           "showland": true,
           "subunitcolor": "white"
          },
          "hoverlabel": {
           "align": "left"
          },
          "hovermode": "closest",
          "mapbox": {
           "style": "light"
          },
          "paper_bgcolor": "white",
          "plot_bgcolor": "#E5ECF6",
          "polar": {
           "angularaxis": {
            "gridcolor": "white",
            "linecolor": "white",
            "ticks": ""
           },
           "bgcolor": "#E5ECF6",
           "radialaxis": {
            "gridcolor": "white",
            "linecolor": "white",
            "ticks": ""
           }
          },
          "scene": {
           "xaxis": {
            "backgroundcolor": "#E5ECF6",
            "gridcolor": "white",
            "gridwidth": 2,
            "linecolor": "white",
            "showbackground": true,
            "ticks": "",
            "zerolinecolor": "white"
           },
           "yaxis": {
            "backgroundcolor": "#E5ECF6",
            "gridcolor": "white",
            "gridwidth": 2,
            "linecolor": "white",
            "showbackground": true,
            "ticks": "",
            "zerolinecolor": "white"
           },
           "zaxis": {
            "backgroundcolor": "#E5ECF6",
            "gridcolor": "white",
            "gridwidth": 2,
            "linecolor": "white",
            "showbackground": true,
            "ticks": "",
            "zerolinecolor": "white"
           }
          },
          "shapedefaults": {
           "line": {
            "color": "#2a3f5f"
           }
          },
          "ternary": {
           "aaxis": {
            "gridcolor": "white",
            "linecolor": "white",
            "ticks": ""
           },
           "baxis": {
            "gridcolor": "white",
            "linecolor": "white",
            "ticks": ""
           },
           "bgcolor": "#E5ECF6",
           "caxis": {
            "gridcolor": "white",
            "linecolor": "white",
            "ticks": ""
           }
          },
          "title": {
           "x": 0.05
          },
          "xaxis": {
           "automargin": true,
           "gridcolor": "white",
           "linecolor": "white",
           "ticks": "",
           "title": {
            "standoff": 15
           },
           "zerolinecolor": "white",
           "zerolinewidth": 2
          },
          "yaxis": {
           "automargin": true,
           "gridcolor": "white",
           "linecolor": "white",
           "ticks": "",
           "title": {
            "standoff": 15
           },
           "zerolinecolor": "white",
           "zerolinewidth": 2
          }
         }
        },
        "title": {
         "text": "20220519_001_ELK RIVER_EAST FROM STATION_SMW.svy"
        },
        "xaxis": {
         "anchor": "y",
         "domain": [
          0,
          1
         ],
         "title": {
          "text": "Stationing"
         }
        },
        "yaxis": {
         "anchor": "x",
         "autorange": "reversed",
         "domain": [
          0,
          1
         ],
         "title": {
          "text": "OFF"
         }
        }
       }
      }
     },
     "metadata": {},
     "output_type": "display_data"
    }
   ],
   "source": [
    "CIS_Graph = px.line(CIS_DATA, x='Stationing', y=CIS_DATA['OFF'], title= RAW_CISData, hover_data=['Comments']) # OFF Values, CHANGE THE TITLE TO WHAT YOU WANT\n",
    "CIS_Graph.add_scatter(x=CIS_DATA['Stationing'], y=CIS_DATA['ON'], name= 'ON') # ON Values\n",
    "CIS_Graph.update_layout(autotypenumbers='convert types')\n",
    "CIS_Graph.update_layout()\n",
    "CIS_Graph.update_yaxes(autorange=\"reversed\")\n",
    "CIS_Graph.add_shape(type='line', x0=0, y0=-.85, x1=6000, y1=-.85, line=dict(color='Purple'))# Change the value of x1 based off the length of the project \n",
    "CIS_Graph.update_layout(legend_title_text = 'P/S Data')\n",
    "CIS_Graph.show()"
   ]
  }
 ],
 "metadata": {
  "kernelspec": {
   "display_name": "Python 3.8.13 ('CIS')",
   "language": "python",
   "name": "python3"
  },
  "language_info": {
   "codemirror_mode": {
    "name": "ipython",
    "version": 3
   },
   "file_extension": ".py",
   "mimetype": "text/x-python",
   "name": "python",
   "nbconvert_exporter": "python",
   "pygments_lexer": "ipython3",
   "version": "3.8.13"
  },
  "orig_nbformat": 4,
  "vscode": {
   "interpreter": {
    "hash": "50eb6ea342335766cf37a996753f76646a6cda28cdee5cb4f49442b923132de8"
   }
  }
 },
 "nbformat": 4,
 "nbformat_minor": 2
}
